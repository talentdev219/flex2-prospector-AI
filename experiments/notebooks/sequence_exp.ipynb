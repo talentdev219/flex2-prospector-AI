{
 "cells": [
  {
   "cell_type": "code",
   "execution_count": 1,
   "id": "initial_id",
   "metadata": {
    "tags": [],
    "ExecuteTime": {
     "end_time": "2023-10-19T21:18:36.485899Z",
     "start_time": "2023-10-19T21:18:34.716717Z"
    }
   },
   "outputs": [
    {
     "name": "stdout",
     "output_type": "stream",
     "text": [
      "Intel MKL WARNING: Support of Intel(R) Streaming SIMD Extensions 4.2 (Intel(R) SSE4.2) enabled only processors has been deprecated. Intel oneAPI Math Kernel Library 2025.0 will require Intel(R) Advanced Vector Extensions (Intel(R) AVX) instructions.\n",
      "Intel MKL WARNING: Support of Intel(R) Streaming SIMD Extensions 4.2 (Intel(R) SSE4.2) enabled only processors has been deprecated. Intel oneAPI Math Kernel Library 2025.0 will require Intel(R) Advanced Vector Extensions (Intel(R) AVX) instructions.\n"
     ]
    }
   ],
   "source": [
    "import datetime\n",
    "\n",
    "import pandas as pd\n",
    "import warnings\n",
    "\n",
    "pd.set_option(\"mode.chained_assignment\", None)\n",
    "# Suppress the specific FutureWarning\n",
    "warnings.filterwarnings(\"ignore\", category=FutureWarning, message=\"is_sparse is deprecated\")"
   ]
  },
  {
   "cell_type": "code",
   "execution_count": 2,
   "id": "8e4c31b25ca36054",
   "metadata": {
    "collapsed": false,
    "ExecuteTime": {
     "end_time": "2023-10-19T21:18:36.712700Z",
     "start_time": "2023-10-19T21:18:36.483861Z"
    }
   },
   "outputs": [],
   "source": [
    "from experiments.common.utils import snowflake_query_from_file\n",
    "\n",
    "# df_sequence_20230101 = snowflake_query_from_file('../sql/sequence_query.sql')\n",
    "#df_sequence_20230101.to_csv('../data/sequence_20230101.csv', index=False, sep='|')"
   ]
  },
  {
   "cell_type": "code",
   "execution_count": 3,
   "outputs": [
    {
     "name": "stderr",
     "output_type": "stream",
     "text": [
      "/var/folders/87/68jxvfgs4f91bq6p06d8lzpc0000gp/T/ipykernel_5564/2171992985.py:2: DtypeWarning: Columns (80) have mixed types. Specify dtype option on import or set low_memory=False.\n",
      "  df_sequence_20230101 = pd.read_csv('../data/sequence_20230101.csv', sep='|')\n"
     ]
    }
   ],
   "source": [
    "# read from csv\n",
    "df_sequence_20230101 = pd.read_csv('../data/sequence_20230101.csv', sep='|')"
   ],
   "metadata": {
    "collapsed": false,
    "ExecuteTime": {
     "end_time": "2023-10-19T21:18:37.516087Z",
     "start_time": "2023-10-19T21:18:36.713154Z"
    }
   },
   "id": "78e1838852846496"
  },
  {
   "cell_type": "code",
   "execution_count": 4,
   "id": "b6c6ed0efac7a582",
   "metadata": {
    "collapsed": false,
    "ExecuteTime": {
     "end_time": "2023-10-19T21:18:37.598986Z",
     "start_time": "2023-10-19T21:18:37.518988Z"
    }
   },
   "outputs": [],
   "source": [
    "# test if the contact and company is 1 to 1 \n",
    "seq_contact_company_df = df_sequence_20230101.groupby(by=['SEQUENCE_ID', 'CONTACT_ID'])[\n",
    "    ['CONTACT_COMPANY_NAME']].nunique()"
   ]
  },
  {
   "cell_type": "code",
   "execution_count": 5,
   "id": "6929c8a1d7ba3021",
   "metadata": {
    "collapsed": false,
    "ExecuteTime": {
     "end_time": "2023-10-19T21:18:37.662466Z",
     "start_time": "2023-10-19T21:18:37.541288Z"
    }
   },
   "outputs": [
    {
     "data": {
      "text/plain": "Empty DataFrame\nColumns: [CONTACT_COMPANY_NAME]\nIndex: []",
      "text/html": "<div>\n<style scoped>\n    .dataframe tbody tr th:only-of-type {\n        vertical-align: middle;\n    }\n\n    .dataframe tbody tr th {\n        vertical-align: top;\n    }\n\n    .dataframe thead th {\n        text-align: right;\n    }\n</style>\n<table border=\"1\" class=\"dataframe\">\n  <thead>\n    <tr style=\"text-align: right;\">\n      <th></th>\n      <th></th>\n      <th>CONTACT_COMPANY_NAME</th>\n    </tr>\n    <tr>\n      <th>SEQUENCE_ID</th>\n      <th>CONTACT_ID</th>\n      <th></th>\n    </tr>\n  </thead>\n  <tbody>\n  </tbody>\n</table>\n</div>"
     },
     "execution_count": 5,
     "metadata": {},
     "output_type": "execute_result"
    }
   ],
   "source": [
    "# conclusion is Yes \n",
    "seq_contact_company_df[seq_contact_company_df['CONTACT_COMPANY_NAME'] > 1]"
   ]
  },
  {
   "cell_type": "code",
   "execution_count": 6,
   "id": "4f41c3eb76d44feb",
   "metadata": {
    "collapsed": false,
    "ExecuteTime": {
     "end_time": "2023-10-19T21:18:37.664423Z",
     "start_time": "2023-10-19T21:18:37.550409Z"
    }
   },
   "outputs": [
    {
     "name": "stdout",
     "output_type": "stream",
     "text": [
      "OCCURRED_DATE\n",
      "SEQUENCE_ID\n",
      "SEQUENCE_NAME\n",
      "STEP_ID\n",
      "TEMPLATE_ID\n",
      "SEQUENCE_ENROLLMENT_ID\n",
      "SEQUENCE_STEP_EXCUTION_ID\n",
      "CONTACT_ID\n",
      "CONTACT_FIRST_NAME\n",
      "CONTACT_LAST_NAME\n",
      "CONTACT_COMPANY_ID\n",
      "CONTACT_COMPANY_NAME\n",
      "SENT_COUNT\n",
      "REPLY_COUNT\n",
      "OPEN_COUNT\n",
      "MEETING_BOOKED_COUNT\n",
      "CONTACT_UPDATE_DATE\n",
      "CONTACT_CITY\n",
      "CONTACT_COMPANY\n",
      "CONTACT_COUNTRY\n",
      "CONTACT_CREATE_DATE\n",
      "CONTACT_CREATE_TIMESTAMP\n",
      "CONTACT_EAMIL\n",
      "CONTACT_FIRST_DEAL_CREATE_DATE\n",
      "CONTACT_ADDITIONAL_EMAIL\n",
      "CONTACT_EMAIL_DOMAIN\n",
      "CONTACT_IP_TIMEZONE\n",
      "CONTACT_IS_UNWORKED\n",
      "CONTACT_LATEST_SEQUENCE_ENDED_DATE\n",
      "CONTACT_LATEST_SEQUENCE_ENDED_TIMESTAMP\n",
      "CONTACT_LATEST_SEQUENCE_ENROLLED_DATE\n",
      "CONTACT_LATEST_SEQUENCE_ENTROLLED_TIMESTAMP\n",
      "CONTACT_LEAD_STATUS\n",
      "CONTACT_SEQUENCES_ENROLLED_COUNT\n",
      "CONTACT_SEQUENCES_IS_ENROLLED\n",
      "CONTACT_TIME_BETWEEN_CONTACT_CREATION_AND_DEAL_CREATION\n",
      "CONTACT_HUBSPOT_OWNER_ID\n",
      "CONTACT_HUBSPOT_TEAM_ID\n",
      "CONTACT_JOB_TITLE\n",
      "CONTACT_LAST_MODIFIED_DATE\n",
      "CONTACT_LAST_MODIFED_TIMESTAMP\n",
      "CONTACT_LEAD_SOURCE\n",
      "CONTACT_LINKEDIN\n",
      "CONTACT_MOBILE_PHONE\n",
      "CONTACT_NUM_ASSOCIATED_DEALS\n",
      "CONTACT_NUM_CONTACTED_NOTES\n",
      "CONTACT_PHONE\n",
      "CONTACT_STATE\n",
      "CONTACT_UNITS\n",
      "CONTACT_WEBSITE\n",
      "CONTACT_ZIPCODE\n",
      "COMPANY_OBJECT_TYPE_ID\n",
      "COMPANY_UPDATE_DATE\n",
      "COMPANY_ADDRESS\n",
      "COMPANY_ADDRESS2\n",
      "COMPANY_ANNUAL_REVENUE\n",
      "COMPANY_CITY\n",
      "COMPANY_COUNTRY\n",
      "COMPANY_CREATE_DATE\n",
      "COMPANY_CREATE_TIMESTAMP\n",
      "COMPANY_DOMAIN\n",
      "COMPANY_FACEBOOK_PAGE\n",
      "COMPANY_FIRST_CONTACT_DATE\n",
      "COMPANY_FOUNDED_YEAR\n",
      "COMPANY_LEAD_STATUS\n",
      "COMPANY_LINKEDIN_PAGE\n",
      "COMPANY_NAME\n",
      "COMPANY_NUM_ASSOCIATED_CONTACTS\n",
      "COMPANY_NUM_ASSOCIATED_DEALS\n",
      "COMPANY_NUM_PROPERTIES\n",
      "COMPANY_PHONE\n",
      "COMPANY_PM_SOFTWARE\n",
      "COMPANY_PROTFOLIO_SUBTYPE\n",
      "COMPANY_PROTFOLIO_TYPE\n",
      "COMPANY_RENT_PORTAL\n",
      "COMPANY_SEGMENT\n",
      "COMPANY_STATE\n",
      "COMPANY_TIMEZONE\n",
      "COMPANY_UNITS\n",
      "COMPANY_WEBSITE\n",
      "COMPANY_ZIPCODE\n"
     ]
    }
   ],
   "source": [
    "print('\\n'.join(df_sequence_20230101.columns))"
   ]
  },
  {
   "cell_type": "code",
   "execution_count": 7,
   "outputs": [
    {
     "data": {
      "text/plain": "   OCCURRED_DATE  SEQUENCE_ID                       SEQUENCE_NAME  STEP_ID  \\\n0       20230410     76684087                     Portal Sequence        0   \n1       20230922     90434194  Micro Segment 1 - Deep SMB - < 250        2   \n2       20230424     76684087                     Portal Sequence        2   \n3       20230414     76684087                     Portal Sequence        1   \n4       20230512     76684087                     Portal Sequence        4   \n\n   TEMPLATE_ID  SEQUENCE_ENROLLMENT_ID       SEQUENCE_STEP_EXCUTION_ID  \\\n0     37999983              6732583864  76684087-1568041278-6732583864   \n1     48653112              8045771370  90434194-1858371402-8045771370   \n2     38000003              6732583936  76684087-1568041278-6732583936   \n3     37999996              6732583865  76684087-1568041278-6732583865   \n4     38000054              6732583938  76684087-1568041278-6732583938   \n\n   CONTACT_ID CONTACT_FIRST_NAME CONTACT_LAST_NAME  ...  COMPANY_PM_SOFTWARE  \\\n0       35548              Chris         Honeycutt  ...                  NaN   \n1       35548              Chris         Honeycutt  ...                  NaN   \n2       35548              Chris         Honeycutt  ...                  NaN   \n3       35548              Chris         Honeycutt  ...                  NaN   \n4       35548              Chris         Honeycutt  ...                  NaN   \n\n  COMPANY_PROTFOLIO_SUBTYPE  COMPANY_PROTFOLIO_TYPE  COMPANY_RENT_PORTAL  \\\n0                       NaN            Multi Family                  NaN   \n1                       NaN            Multi Family                  NaN   \n2                       NaN            Multi Family                  NaN   \n3                       NaN            Multi Family                  NaN   \n4                       NaN            Multi Family                  NaN   \n\n   COMPANY_SEGMENT  COMPANY_STATE     COMPANY_TIMEZONE COMPANY_UNITS  \\\n0         Deep SMB             CA  America/Los_Angeles           247   \n1         Deep SMB             CA  America/Los_Angeles           247   \n2         Deep SMB             CA  America/Los_Angeles           247   \n3         Deep SMB             CA  America/Los_Angeles           247   \n4         Deep SMB             CA  America/Los_Angeles           247   \n\n                                     COMPANY_WEBSITE COMPANY_ZIPCODE  \n0  http://conmgmt.com/Constellation_Realty_Manage...           92101  \n1  http://conmgmt.com/Constellation_Realty_Manage...           92101  \n2  http://conmgmt.com/Constellation_Realty_Manage...           92101  \n3  http://conmgmt.com/Constellation_Realty_Manage...           92101  \n4  http://conmgmt.com/Constellation_Realty_Manage...           92101  \n\n[5 rows x 81 columns]",
      "text/html": "<div>\n<style scoped>\n    .dataframe tbody tr th:only-of-type {\n        vertical-align: middle;\n    }\n\n    .dataframe tbody tr th {\n        vertical-align: top;\n    }\n\n    .dataframe thead th {\n        text-align: right;\n    }\n</style>\n<table border=\"1\" class=\"dataframe\">\n  <thead>\n    <tr style=\"text-align: right;\">\n      <th></th>\n      <th>OCCURRED_DATE</th>\n      <th>SEQUENCE_ID</th>\n      <th>SEQUENCE_NAME</th>\n      <th>STEP_ID</th>\n      <th>TEMPLATE_ID</th>\n      <th>SEQUENCE_ENROLLMENT_ID</th>\n      <th>SEQUENCE_STEP_EXCUTION_ID</th>\n      <th>CONTACT_ID</th>\n      <th>CONTACT_FIRST_NAME</th>\n      <th>CONTACT_LAST_NAME</th>\n      <th>...</th>\n      <th>COMPANY_PM_SOFTWARE</th>\n      <th>COMPANY_PROTFOLIO_SUBTYPE</th>\n      <th>COMPANY_PROTFOLIO_TYPE</th>\n      <th>COMPANY_RENT_PORTAL</th>\n      <th>COMPANY_SEGMENT</th>\n      <th>COMPANY_STATE</th>\n      <th>COMPANY_TIMEZONE</th>\n      <th>COMPANY_UNITS</th>\n      <th>COMPANY_WEBSITE</th>\n      <th>COMPANY_ZIPCODE</th>\n    </tr>\n  </thead>\n  <tbody>\n    <tr>\n      <th>0</th>\n      <td>20230410</td>\n      <td>76684087</td>\n      <td>Portal Sequence</td>\n      <td>0</td>\n      <td>37999983</td>\n      <td>6732583864</td>\n      <td>76684087-1568041278-6732583864</td>\n      <td>35548</td>\n      <td>Chris</td>\n      <td>Honeycutt</td>\n      <td>...</td>\n      <td>NaN</td>\n      <td>NaN</td>\n      <td>Multi Family</td>\n      <td>NaN</td>\n      <td>Deep SMB</td>\n      <td>CA</td>\n      <td>America/Los_Angeles</td>\n      <td>247</td>\n      <td>http://conmgmt.com/Constellation_Realty_Manage...</td>\n      <td>92101</td>\n    </tr>\n    <tr>\n      <th>1</th>\n      <td>20230922</td>\n      <td>90434194</td>\n      <td>Micro Segment 1 - Deep SMB - &lt; 250</td>\n      <td>2</td>\n      <td>48653112</td>\n      <td>8045771370</td>\n      <td>90434194-1858371402-8045771370</td>\n      <td>35548</td>\n      <td>Chris</td>\n      <td>Honeycutt</td>\n      <td>...</td>\n      <td>NaN</td>\n      <td>NaN</td>\n      <td>Multi Family</td>\n      <td>NaN</td>\n      <td>Deep SMB</td>\n      <td>CA</td>\n      <td>America/Los_Angeles</td>\n      <td>247</td>\n      <td>http://conmgmt.com/Constellation_Realty_Manage...</td>\n      <td>92101</td>\n    </tr>\n    <tr>\n      <th>2</th>\n      <td>20230424</td>\n      <td>76684087</td>\n      <td>Portal Sequence</td>\n      <td>2</td>\n      <td>38000003</td>\n      <td>6732583936</td>\n      <td>76684087-1568041278-6732583936</td>\n      <td>35548</td>\n      <td>Chris</td>\n      <td>Honeycutt</td>\n      <td>...</td>\n      <td>NaN</td>\n      <td>NaN</td>\n      <td>Multi Family</td>\n      <td>NaN</td>\n      <td>Deep SMB</td>\n      <td>CA</td>\n      <td>America/Los_Angeles</td>\n      <td>247</td>\n      <td>http://conmgmt.com/Constellation_Realty_Manage...</td>\n      <td>92101</td>\n    </tr>\n    <tr>\n      <th>3</th>\n      <td>20230414</td>\n      <td>76684087</td>\n      <td>Portal Sequence</td>\n      <td>1</td>\n      <td>37999996</td>\n      <td>6732583865</td>\n      <td>76684087-1568041278-6732583865</td>\n      <td>35548</td>\n      <td>Chris</td>\n      <td>Honeycutt</td>\n      <td>...</td>\n      <td>NaN</td>\n      <td>NaN</td>\n      <td>Multi Family</td>\n      <td>NaN</td>\n      <td>Deep SMB</td>\n      <td>CA</td>\n      <td>America/Los_Angeles</td>\n      <td>247</td>\n      <td>http://conmgmt.com/Constellation_Realty_Manage...</td>\n      <td>92101</td>\n    </tr>\n    <tr>\n      <th>4</th>\n      <td>20230512</td>\n      <td>76684087</td>\n      <td>Portal Sequence</td>\n      <td>4</td>\n      <td>38000054</td>\n      <td>6732583938</td>\n      <td>76684087-1568041278-6732583938</td>\n      <td>35548</td>\n      <td>Chris</td>\n      <td>Honeycutt</td>\n      <td>...</td>\n      <td>NaN</td>\n      <td>NaN</td>\n      <td>Multi Family</td>\n      <td>NaN</td>\n      <td>Deep SMB</td>\n      <td>CA</td>\n      <td>America/Los_Angeles</td>\n      <td>247</td>\n      <td>http://conmgmt.com/Constellation_Realty_Manage...</td>\n      <td>92101</td>\n    </tr>\n  </tbody>\n</table>\n<p>5 rows × 81 columns</p>\n</div>"
     },
     "execution_count": 7,
     "metadata": {},
     "output_type": "execute_result"
    }
   ],
   "source": [
    "df_sequence_20230101.head()"
   ],
   "metadata": {
    "collapsed": false,
    "ExecuteTime": {
     "end_time": "2023-10-19T21:18:37.666195Z",
     "start_time": "2023-10-19T21:18:37.560854Z"
    }
   },
   "id": "494a6fc87bd7ee14"
  },
  {
   "cell_type": "markdown",
   "source": [
    "### useful columns\n",
    "- target: 'SENT_COUNT', 'REPLY_COUNT', 'OPEN_COUNT', 'MEETING_BOOKED_COUNT'\n",
    "- variables: \n",
    "    -   'SEQUENCE_ID', 'TEMPLATE_ID', \n",
    "    -   'CONTACT_JOB_TITLE', 'CONTACT_CITY', 'CONTACT_STATE', \n",
    "    -   'COMPANY_ANNUAL_REVENUE', 'COMPANY_FOUNDED_YEAR','COMPANY_UNITS', 'COMPANY_PROTFOLIO_TYPE', 'COMPANY_PROTFOLIO_SUBTYPE', 'COMPANY_SEGMENT', 'COMPANY_STATE', ]"
   ],
   "metadata": {
    "collapsed": false
   },
   "id": "584a6f0d530fa5f4"
  },
  {
   "cell_type": "code",
   "execution_count": 8,
   "id": "87239cbbb4f84503",
   "metadata": {
    "collapsed": false,
    "ExecuteTime": {
     "end_time": "2023-10-19T21:18:37.679660Z",
     "start_time": "2023-10-19T21:18:37.564476Z"
    }
   },
   "outputs": [],
   "source": [
    "#fill None value of performance with 0\n",
    "subset = ['SENT_COUNT', 'REPLY_COUNT', 'OPEN_COUNT', 'MEETING_BOOKED_COUNT']\n",
    "df_sequence_20230101.loc[:, subset] = df_sequence_20230101.loc[:, subset].fillna(0).astype(int)"
   ]
  },
  {
   "cell_type": "code",
   "execution_count": 9,
   "id": "1777760d8a3a5fd4",
   "metadata": {
    "collapsed": false,
    "ExecuteTime": {
     "end_time": "2023-10-19T21:18:37.778041Z",
     "start_time": "2023-10-19T21:18:37.572879Z"
    }
   },
   "outputs": [],
   "source": [
    "seq_contact_company_df = (df_sequence_20230101.groupby(by=['SEQUENCE_ID', 'CONTACT_ID', 'CONTACT_COMPANY_NAME'])\n",
    "                          .agg(send_count=('SENT_COUNT', 'sum'),\n",
    "                               reply_count=('REPLY_COUNT', 'sum'),\n",
    "                               meeting_booked_count=('MEETING_BOOKED_COUNT', 'sum'),\n",
    "                               open_count=('OPEN_COUNT', 'sum'),\n",
    "                               contact_job_title=('CONTACT_JOB_TITLE', 'first'),\n",
    "                               company_protfolio_type=('COMPANY_PROTFOLIO_TYPE', 'first'),\n",
    "                               company_protfolio_subtype=('COMPANY_PROTFOLIO_SUBTYPE', 'first'),\n",
    "                               company_segment=('COMPANY_SEGMENT', 'first'),\n",
    "                               company_state=('COMPANY_STATE', 'first'),\n",
    "                               contact_state=('CONTACT_STATE', 'first'),\n",
    "                               company_annual_revenue=('COMPANY_ANNUAL_REVENUE', 'first'),\n",
    "                               company_founded_year=('COMPANY_FOUNDED_YEAR', 'first'),\n",
    "                               company_units=('COMPANY_UNITS', 'first'),\n",
    "                               )).reset_index()"
   ]
  },
  {
   "cell_type": "code",
   "execution_count": 10,
   "id": "abae851ec0df7550",
   "metadata": {
    "collapsed": false,
    "ExecuteTime": {
     "end_time": "2023-10-19T21:18:37.783435Z",
     "start_time": "2023-10-19T21:18:37.635727Z"
    }
   },
   "outputs": [
    {
     "data": {
      "text/plain": "       SEQUENCE_ID  CONTACT_ID        CONTACT_COMPANY_NAME  send_count  \\\n0          1758690    45075501              Gallaher Homes         2.0   \n1          1758690    58750151   Group Fox Management 411E         2.0   \n2         37046485    58748001                    TestFlex         2.0   \n3         37380911       20811                    Univesco         4.0   \n4         37380911       23077        Schnitzer Properties         4.0   \n...            ...         ...                         ...         ...   \n24790     91512838    60224052  Sutton Real Estate Company         1.0   \n24791     91512838    60224053  Sutton Real Estate Company         1.0   \n24792     91512838    60224055  Sutton Real Estate Company         1.0   \n24793     91512838    60224101  Sutton Real Estate Company         1.0   \n24794     91512838    60224103  Sutton Real Estate Company         1.0   \n\n       reply_count  meeting_booked_count  open_count  \\\n0              0.0                   0.0         0.0   \n1              0.0                   0.0         0.0   \n2              0.0                   0.0         1.0   \n3              1.0                   0.0         6.0   \n4              0.0                   0.0         1.0   \n...            ...                   ...         ...   \n24790          0.0                   0.0         0.0   \n24791          0.0                   0.0         0.0   \n24792          0.0                   0.0         1.0   \n24793          0.0                   0.0         0.0   \n24794          0.0                   0.0         0.0   \n\n               contact_job_title  \\\n0      Senior Executive Director   \n1                     Controller   \n2                           None   \n3                   Assistant VP   \n4          VP/Operations Manager   \n...                          ...   \n24790          Manager, Property   \n24791          Manager, Property   \n24792              Leasing Agent   \n24793              Leasing Agent   \n24794              Leasing Agent   \n\n                                  company_protfolio_type  \\\n0                                           Multi Family   \n1                                           Multi Family   \n2      Manufactured Homes;Manufacturing Housing;Multi...   \n3                                           Multi Family   \n4                                           Multi Family   \n...                                                  ...   \n24790                                       Multi Family   \n24791                                       Multi Family   \n24792                                       Multi Family   \n24793                                       Multi Family   \n24794                                       Multi Family   \n\n      company_protfolio_subtype company_segment company_state contact_state  \\\n0                          None             SMB            CA          None   \n1                  Conventional             SMB            IL          None   \n2                  Conventional        Deep SMB          None          None   \n3                          None             SMB            TX            TX   \n4                  Conventional             SMB            OR            CA   \n...                         ...             ...           ...           ...   \n24790                      None             SMB            NY            NY   \n24791                      None             SMB            NY            NY   \n24792                      None             SMB            NY            NY   \n24793                      None             SMB            NY            NY   \n24794                      None             SMB            NY            NY   \n\n       company_annual_revenue  company_founded_year  company_units  \n0                  10000000.0                1979.0           3568  \n1                   1000000.0                1978.0           3758  \n2                         NaN                   NaN              2  \n3                   1000000.0                1991.0           3997  \n4                         NaN                1950.0           1500  \n...                       ...                   ...            ...  \n24790               1000000.0                1933.0           1170  \n24791               1000000.0                1933.0           1170  \n24792               1000000.0                1933.0           1170  \n24793               1000000.0                1933.0           1170  \n24794               1000000.0                1933.0           1170  \n\n[24795 rows x 16 columns]",
      "text/html": "<div>\n<style scoped>\n    .dataframe tbody tr th:only-of-type {\n        vertical-align: middle;\n    }\n\n    .dataframe tbody tr th {\n        vertical-align: top;\n    }\n\n    .dataframe thead th {\n        text-align: right;\n    }\n</style>\n<table border=\"1\" class=\"dataframe\">\n  <thead>\n    <tr style=\"text-align: right;\">\n      <th></th>\n      <th>SEQUENCE_ID</th>\n      <th>CONTACT_ID</th>\n      <th>CONTACT_COMPANY_NAME</th>\n      <th>send_count</th>\n      <th>reply_count</th>\n      <th>meeting_booked_count</th>\n      <th>open_count</th>\n      <th>contact_job_title</th>\n      <th>company_protfolio_type</th>\n      <th>company_protfolio_subtype</th>\n      <th>company_segment</th>\n      <th>company_state</th>\n      <th>contact_state</th>\n      <th>company_annual_revenue</th>\n      <th>company_founded_year</th>\n      <th>company_units</th>\n    </tr>\n  </thead>\n  <tbody>\n    <tr>\n      <th>0</th>\n      <td>1758690</td>\n      <td>45075501</td>\n      <td>Gallaher Homes</td>\n      <td>2.0</td>\n      <td>0.0</td>\n      <td>0.0</td>\n      <td>0.0</td>\n      <td>Senior Executive Director</td>\n      <td>Multi Family</td>\n      <td>None</td>\n      <td>SMB</td>\n      <td>CA</td>\n      <td>None</td>\n      <td>10000000.0</td>\n      <td>1979.0</td>\n      <td>3568</td>\n    </tr>\n    <tr>\n      <th>1</th>\n      <td>1758690</td>\n      <td>58750151</td>\n      <td>Group Fox Management 411E</td>\n      <td>2.0</td>\n      <td>0.0</td>\n      <td>0.0</td>\n      <td>0.0</td>\n      <td>Controller</td>\n      <td>Multi Family</td>\n      <td>Conventional</td>\n      <td>SMB</td>\n      <td>IL</td>\n      <td>None</td>\n      <td>1000000.0</td>\n      <td>1978.0</td>\n      <td>3758</td>\n    </tr>\n    <tr>\n      <th>2</th>\n      <td>37046485</td>\n      <td>58748001</td>\n      <td>TestFlex</td>\n      <td>2.0</td>\n      <td>0.0</td>\n      <td>0.0</td>\n      <td>1.0</td>\n      <td>None</td>\n      <td>Manufactured Homes;Manufacturing Housing;Multi...</td>\n      <td>Conventional</td>\n      <td>Deep SMB</td>\n      <td>None</td>\n      <td>None</td>\n      <td>NaN</td>\n      <td>NaN</td>\n      <td>2</td>\n    </tr>\n    <tr>\n      <th>3</th>\n      <td>37380911</td>\n      <td>20811</td>\n      <td>Univesco</td>\n      <td>4.0</td>\n      <td>1.0</td>\n      <td>0.0</td>\n      <td>6.0</td>\n      <td>Assistant VP</td>\n      <td>Multi Family</td>\n      <td>None</td>\n      <td>SMB</td>\n      <td>TX</td>\n      <td>TX</td>\n      <td>1000000.0</td>\n      <td>1991.0</td>\n      <td>3997</td>\n    </tr>\n    <tr>\n      <th>4</th>\n      <td>37380911</td>\n      <td>23077</td>\n      <td>Schnitzer Properties</td>\n      <td>4.0</td>\n      <td>0.0</td>\n      <td>0.0</td>\n      <td>1.0</td>\n      <td>VP/Operations Manager</td>\n      <td>Multi Family</td>\n      <td>Conventional</td>\n      <td>SMB</td>\n      <td>OR</td>\n      <td>CA</td>\n      <td>NaN</td>\n      <td>1950.0</td>\n      <td>1500</td>\n    </tr>\n    <tr>\n      <th>...</th>\n      <td>...</td>\n      <td>...</td>\n      <td>...</td>\n      <td>...</td>\n      <td>...</td>\n      <td>...</td>\n      <td>...</td>\n      <td>...</td>\n      <td>...</td>\n      <td>...</td>\n      <td>...</td>\n      <td>...</td>\n      <td>...</td>\n      <td>...</td>\n      <td>...</td>\n      <td>...</td>\n    </tr>\n    <tr>\n      <th>24790</th>\n      <td>91512838</td>\n      <td>60224052</td>\n      <td>Sutton Real Estate Company</td>\n      <td>1.0</td>\n      <td>0.0</td>\n      <td>0.0</td>\n      <td>0.0</td>\n      <td>Manager, Property</td>\n      <td>Multi Family</td>\n      <td>None</td>\n      <td>SMB</td>\n      <td>NY</td>\n      <td>NY</td>\n      <td>1000000.0</td>\n      <td>1933.0</td>\n      <td>1170</td>\n    </tr>\n    <tr>\n      <th>24791</th>\n      <td>91512838</td>\n      <td>60224053</td>\n      <td>Sutton Real Estate Company</td>\n      <td>1.0</td>\n      <td>0.0</td>\n      <td>0.0</td>\n      <td>0.0</td>\n      <td>Manager, Property</td>\n      <td>Multi Family</td>\n      <td>None</td>\n      <td>SMB</td>\n      <td>NY</td>\n      <td>NY</td>\n      <td>1000000.0</td>\n      <td>1933.0</td>\n      <td>1170</td>\n    </tr>\n    <tr>\n      <th>24792</th>\n      <td>91512838</td>\n      <td>60224055</td>\n      <td>Sutton Real Estate Company</td>\n      <td>1.0</td>\n      <td>0.0</td>\n      <td>0.0</td>\n      <td>1.0</td>\n      <td>Leasing Agent</td>\n      <td>Multi Family</td>\n      <td>None</td>\n      <td>SMB</td>\n      <td>NY</td>\n      <td>NY</td>\n      <td>1000000.0</td>\n      <td>1933.0</td>\n      <td>1170</td>\n    </tr>\n    <tr>\n      <th>24793</th>\n      <td>91512838</td>\n      <td>60224101</td>\n      <td>Sutton Real Estate Company</td>\n      <td>1.0</td>\n      <td>0.0</td>\n      <td>0.0</td>\n      <td>0.0</td>\n      <td>Leasing Agent</td>\n      <td>Multi Family</td>\n      <td>None</td>\n      <td>SMB</td>\n      <td>NY</td>\n      <td>NY</td>\n      <td>1000000.0</td>\n      <td>1933.0</td>\n      <td>1170</td>\n    </tr>\n    <tr>\n      <th>24794</th>\n      <td>91512838</td>\n      <td>60224103</td>\n      <td>Sutton Real Estate Company</td>\n      <td>1.0</td>\n      <td>0.0</td>\n      <td>0.0</td>\n      <td>0.0</td>\n      <td>Leasing Agent</td>\n      <td>Multi Family</td>\n      <td>None</td>\n      <td>SMB</td>\n      <td>NY</td>\n      <td>NY</td>\n      <td>1000000.0</td>\n      <td>1933.0</td>\n      <td>1170</td>\n    </tr>\n  </tbody>\n</table>\n<p>24795 rows × 16 columns</p>\n</div>"
     },
     "execution_count": 10,
     "metadata": {},
     "output_type": "execute_result"
    }
   ],
   "source": [
    "seq_contact_company_df"
   ]
  },
  {
   "cell_type": "code",
   "execution_count": 11,
   "id": "503c7a0d1821a372",
   "metadata": {
    "collapsed": false,
    "ExecuteTime": {
     "end_time": "2023-10-19T21:18:37.853206Z",
     "start_time": "2023-10-19T21:18:37.659739Z"
    }
   },
   "outputs": [
    {
     "data": {
      "text/plain": "       SEQUENCE_ID  CONTACT_ID        CONTACT_COMPANY_NAME  send_count  \\\n0          1758690    45075501              Gallaher Homes         2.0   \n1          1758690    58750151   Group Fox Management 411E         2.0   \n2         37046485    58748001                    TestFlex         2.0   \n3         37380911       20811                    Univesco         4.0   \n4         37380911       23077        Schnitzer Properties         4.0   \n...            ...         ...                         ...         ...   \n24790     91512838    60224052  Sutton Real Estate Company         1.0   \n24791     91512838    60224053  Sutton Real Estate Company         1.0   \n24792     91512838    60224055  Sutton Real Estate Company         1.0   \n24793     91512838    60224101  Sutton Real Estate Company         1.0   \n24794     91512838    60224103  Sutton Real Estate Company         1.0   \n\n       reply_count  meeting_booked_count  open_count  \\\n0              0.0                   0.0         0.0   \n1              0.0                   0.0         0.0   \n2              0.0                   0.0         1.0   \n3              1.0                   0.0         6.0   \n4              0.0                   0.0         1.0   \n...            ...                   ...         ...   \n24790          0.0                   0.0         0.0   \n24791          0.0                   0.0         0.0   \n24792          0.0                   0.0         1.0   \n24793          0.0                   0.0         0.0   \n24794          0.0                   0.0         0.0   \n\n               contact_job_title  \\\n0      Senior Executive Director   \n1                     Controller   \n2                           None   \n3                   Assistant VP   \n4          VP/Operations Manager   \n...                          ...   \n24790          Manager, Property   \n24791          Manager, Property   \n24792              Leasing Agent   \n24793              Leasing Agent   \n24794              Leasing Agent   \n\n                                  company_protfolio_type  \\\n0                                           Multi Family   \n1                                           Multi Family   \n2      Manufactured Homes;Manufacturing Housing;Multi...   \n3                                           Multi Family   \n4                                           Multi Family   \n...                                                  ...   \n24790                                       Multi Family   \n24791                                       Multi Family   \n24792                                       Multi Family   \n24793                                       Multi Family   \n24794                                       Multi Family   \n\n      company_protfolio_subtype company_segment company_state contact_state  \\\n0                          None             SMB            CA          None   \n1                  Conventional             SMB            IL          None   \n2                  Conventional        Deep SMB          None          None   \n3                          None             SMB            TX            TX   \n4                  Conventional             SMB            OR            CA   \n...                         ...             ...           ...           ...   \n24790                      None             SMB            NY            NY   \n24791                      None             SMB            NY            NY   \n24792                      None             SMB            NY            NY   \n24793                      None             SMB            NY            NY   \n24794                      None             SMB            NY            NY   \n\n       company_annual_revenue  company_founded_year  company_units  \\\n0                  10000000.0                1979.0           3568   \n1                   1000000.0                1978.0           3758   \n2                         NaN                   NaN              2   \n3                   1000000.0                1991.0           3997   \n4                         NaN                1950.0           1500   \n...                       ...                   ...            ...   \n24790               1000000.0                1933.0           1170   \n24791               1000000.0                1933.0           1170   \n24792               1000000.0                1933.0           1170   \n24793               1000000.0                1933.0           1170   \n24794               1000000.0                1933.0           1170   \n\n       reply_count_binary  open_count_binary  meeting_booked_count_binary  \\\n0                       0                  0                            0   \n1                       0                  0                            0   \n2                       0                  1                            0   \n3                       1                  1                            0   \n4                       0                  1                            0   \n...                   ...                ...                          ...   \n24790                   0                  0                            0   \n24791                   0                  0                            0   \n24792                   0                  1                            0   \n24793                   0                  0                            0   \n24794                   0                  0                            0   \n\n       company_founded_years  \n0                       44.0  \n1                       45.0  \n2                        NaN  \n3                       32.0  \n4                       73.0  \n...                      ...  \n24790                   90.0  \n24791                   90.0  \n24792                   90.0  \n24793                   90.0  \n24794                   90.0  \n\n[24795 rows x 20 columns]",
      "text/html": "<div>\n<style scoped>\n    .dataframe tbody tr th:only-of-type {\n        vertical-align: middle;\n    }\n\n    .dataframe tbody tr th {\n        vertical-align: top;\n    }\n\n    .dataframe thead th {\n        text-align: right;\n    }\n</style>\n<table border=\"1\" class=\"dataframe\">\n  <thead>\n    <tr style=\"text-align: right;\">\n      <th></th>\n      <th>SEQUENCE_ID</th>\n      <th>CONTACT_ID</th>\n      <th>CONTACT_COMPANY_NAME</th>\n      <th>send_count</th>\n      <th>reply_count</th>\n      <th>meeting_booked_count</th>\n      <th>open_count</th>\n      <th>contact_job_title</th>\n      <th>company_protfolio_type</th>\n      <th>company_protfolio_subtype</th>\n      <th>company_segment</th>\n      <th>company_state</th>\n      <th>contact_state</th>\n      <th>company_annual_revenue</th>\n      <th>company_founded_year</th>\n      <th>company_units</th>\n      <th>reply_count_binary</th>\n      <th>open_count_binary</th>\n      <th>meeting_booked_count_binary</th>\n      <th>company_founded_years</th>\n    </tr>\n  </thead>\n  <tbody>\n    <tr>\n      <th>0</th>\n      <td>1758690</td>\n      <td>45075501</td>\n      <td>Gallaher Homes</td>\n      <td>2.0</td>\n      <td>0.0</td>\n      <td>0.0</td>\n      <td>0.0</td>\n      <td>Senior Executive Director</td>\n      <td>Multi Family</td>\n      <td>None</td>\n      <td>SMB</td>\n      <td>CA</td>\n      <td>None</td>\n      <td>10000000.0</td>\n      <td>1979.0</td>\n      <td>3568</td>\n      <td>0</td>\n      <td>0</td>\n      <td>0</td>\n      <td>44.0</td>\n    </tr>\n    <tr>\n      <th>1</th>\n      <td>1758690</td>\n      <td>58750151</td>\n      <td>Group Fox Management 411E</td>\n      <td>2.0</td>\n      <td>0.0</td>\n      <td>0.0</td>\n      <td>0.0</td>\n      <td>Controller</td>\n      <td>Multi Family</td>\n      <td>Conventional</td>\n      <td>SMB</td>\n      <td>IL</td>\n      <td>None</td>\n      <td>1000000.0</td>\n      <td>1978.0</td>\n      <td>3758</td>\n      <td>0</td>\n      <td>0</td>\n      <td>0</td>\n      <td>45.0</td>\n    </tr>\n    <tr>\n      <th>2</th>\n      <td>37046485</td>\n      <td>58748001</td>\n      <td>TestFlex</td>\n      <td>2.0</td>\n      <td>0.0</td>\n      <td>0.0</td>\n      <td>1.0</td>\n      <td>None</td>\n      <td>Manufactured Homes;Manufacturing Housing;Multi...</td>\n      <td>Conventional</td>\n      <td>Deep SMB</td>\n      <td>None</td>\n      <td>None</td>\n      <td>NaN</td>\n      <td>NaN</td>\n      <td>2</td>\n      <td>0</td>\n      <td>1</td>\n      <td>0</td>\n      <td>NaN</td>\n    </tr>\n    <tr>\n      <th>3</th>\n      <td>37380911</td>\n      <td>20811</td>\n      <td>Univesco</td>\n      <td>4.0</td>\n      <td>1.0</td>\n      <td>0.0</td>\n      <td>6.0</td>\n      <td>Assistant VP</td>\n      <td>Multi Family</td>\n      <td>None</td>\n      <td>SMB</td>\n      <td>TX</td>\n      <td>TX</td>\n      <td>1000000.0</td>\n      <td>1991.0</td>\n      <td>3997</td>\n      <td>1</td>\n      <td>1</td>\n      <td>0</td>\n      <td>32.0</td>\n    </tr>\n    <tr>\n      <th>4</th>\n      <td>37380911</td>\n      <td>23077</td>\n      <td>Schnitzer Properties</td>\n      <td>4.0</td>\n      <td>0.0</td>\n      <td>0.0</td>\n      <td>1.0</td>\n      <td>VP/Operations Manager</td>\n      <td>Multi Family</td>\n      <td>Conventional</td>\n      <td>SMB</td>\n      <td>OR</td>\n      <td>CA</td>\n      <td>NaN</td>\n      <td>1950.0</td>\n      <td>1500</td>\n      <td>0</td>\n      <td>1</td>\n      <td>0</td>\n      <td>73.0</td>\n    </tr>\n    <tr>\n      <th>...</th>\n      <td>...</td>\n      <td>...</td>\n      <td>...</td>\n      <td>...</td>\n      <td>...</td>\n      <td>...</td>\n      <td>...</td>\n      <td>...</td>\n      <td>...</td>\n      <td>...</td>\n      <td>...</td>\n      <td>...</td>\n      <td>...</td>\n      <td>...</td>\n      <td>...</td>\n      <td>...</td>\n      <td>...</td>\n      <td>...</td>\n      <td>...</td>\n      <td>...</td>\n    </tr>\n    <tr>\n      <th>24790</th>\n      <td>91512838</td>\n      <td>60224052</td>\n      <td>Sutton Real Estate Company</td>\n      <td>1.0</td>\n      <td>0.0</td>\n      <td>0.0</td>\n      <td>0.0</td>\n      <td>Manager, Property</td>\n      <td>Multi Family</td>\n      <td>None</td>\n      <td>SMB</td>\n      <td>NY</td>\n      <td>NY</td>\n      <td>1000000.0</td>\n      <td>1933.0</td>\n      <td>1170</td>\n      <td>0</td>\n      <td>0</td>\n      <td>0</td>\n      <td>90.0</td>\n    </tr>\n    <tr>\n      <th>24791</th>\n      <td>91512838</td>\n      <td>60224053</td>\n      <td>Sutton Real Estate Company</td>\n      <td>1.0</td>\n      <td>0.0</td>\n      <td>0.0</td>\n      <td>0.0</td>\n      <td>Manager, Property</td>\n      <td>Multi Family</td>\n      <td>None</td>\n      <td>SMB</td>\n      <td>NY</td>\n      <td>NY</td>\n      <td>1000000.0</td>\n      <td>1933.0</td>\n      <td>1170</td>\n      <td>0</td>\n      <td>0</td>\n      <td>0</td>\n      <td>90.0</td>\n    </tr>\n    <tr>\n      <th>24792</th>\n      <td>91512838</td>\n      <td>60224055</td>\n      <td>Sutton Real Estate Company</td>\n      <td>1.0</td>\n      <td>0.0</td>\n      <td>0.0</td>\n      <td>1.0</td>\n      <td>Leasing Agent</td>\n      <td>Multi Family</td>\n      <td>None</td>\n      <td>SMB</td>\n      <td>NY</td>\n      <td>NY</td>\n      <td>1000000.0</td>\n      <td>1933.0</td>\n      <td>1170</td>\n      <td>0</td>\n      <td>1</td>\n      <td>0</td>\n      <td>90.0</td>\n    </tr>\n    <tr>\n      <th>24793</th>\n      <td>91512838</td>\n      <td>60224101</td>\n      <td>Sutton Real Estate Company</td>\n      <td>1.0</td>\n      <td>0.0</td>\n      <td>0.0</td>\n      <td>0.0</td>\n      <td>Leasing Agent</td>\n      <td>Multi Family</td>\n      <td>None</td>\n      <td>SMB</td>\n      <td>NY</td>\n      <td>NY</td>\n      <td>1000000.0</td>\n      <td>1933.0</td>\n      <td>1170</td>\n      <td>0</td>\n      <td>0</td>\n      <td>0</td>\n      <td>90.0</td>\n    </tr>\n    <tr>\n      <th>24794</th>\n      <td>91512838</td>\n      <td>60224103</td>\n      <td>Sutton Real Estate Company</td>\n      <td>1.0</td>\n      <td>0.0</td>\n      <td>0.0</td>\n      <td>0.0</td>\n      <td>Leasing Agent</td>\n      <td>Multi Family</td>\n      <td>None</td>\n      <td>SMB</td>\n      <td>NY</td>\n      <td>NY</td>\n      <td>1000000.0</td>\n      <td>1933.0</td>\n      <td>1170</td>\n      <td>0</td>\n      <td>0</td>\n      <td>0</td>\n      <td>90.0</td>\n    </tr>\n  </tbody>\n</table>\n<p>24795 rows × 20 columns</p>\n</div>"
     },
     "execution_count": 11,
     "metadata": {},
     "output_type": "execute_result"
    }
   ],
   "source": [
    "seq_contact_company_df['reply_count_binary'] = seq_contact_company_df['reply_count'].apply(lambda x: 1 if x > 0 else 0)\n",
    "seq_contact_company_df['open_count_binary'] = seq_contact_company_df['open_count'].apply(lambda x: 1 if x > 0 else 0)\n",
    "seq_contact_company_df['meeting_booked_count_binary'] = seq_contact_company_df['meeting_booked_count'].apply(\n",
    "    lambda x: 1 if x > 0 else 0)\n",
    "import datetime\n",
    "\n",
    "seq_contact_company_df['company_founded_years'] = datetime.datetime.now().year - seq_contact_company_df[\n",
    "    'company_founded_year']\n",
    "seq_contact_company_df"
   ]
  },
  {
   "cell_type": "markdown",
   "source": [
    "# Correlation Check for Sequence Level"
   ],
   "metadata": {
    "collapsed": false
   },
   "id": "13bdeb61c20d8832"
  },
  {
   "cell_type": "code",
   "execution_count": 12,
   "outputs": [
    {
     "name": "stdout",
     "output_type": "stream",
     "text": [
      "Chi2 Test for reply_count_binary\n"
     ]
    },
    {
     "data": {
      "text/plain": "                         ftr         score          pval p_test\n0                SEQUENCE_ID  2.646233e+08  0.000000e+00    SIG\n1          contact_job_title  2.639916e+02  2.314600e-59    SIG\n6              contact_state  9.786346e+01  4.482500e-23    SIG\n5              company_state  6.639409e+01  3.692069e-16    SIG\n3  company_protfolio_subtype  4.984522e+01  1.663655e-12    SIG\n2     company_protfolio_type  3.897129e-01  5.324503e-01  N-SIG\n4            company_segment  5.786415e-04  9.808088e-01  N-SIG",
      "text/html": "<div>\n<style scoped>\n    .dataframe tbody tr th:only-of-type {\n        vertical-align: middle;\n    }\n\n    .dataframe tbody tr th {\n        vertical-align: top;\n    }\n\n    .dataframe thead th {\n        text-align: right;\n    }\n</style>\n<table border=\"1\" class=\"dataframe\">\n  <thead>\n    <tr style=\"text-align: right;\">\n      <th></th>\n      <th>ftr</th>\n      <th>score</th>\n      <th>pval</th>\n      <th>p_test</th>\n    </tr>\n  </thead>\n  <tbody>\n    <tr>\n      <th>0</th>\n      <td>SEQUENCE_ID</td>\n      <td>2.646233e+08</td>\n      <td>0.000000e+00</td>\n      <td>SIG</td>\n    </tr>\n    <tr>\n      <th>1</th>\n      <td>contact_job_title</td>\n      <td>2.639916e+02</td>\n      <td>2.314600e-59</td>\n      <td>SIG</td>\n    </tr>\n    <tr>\n      <th>6</th>\n      <td>contact_state</td>\n      <td>9.786346e+01</td>\n      <td>4.482500e-23</td>\n      <td>SIG</td>\n    </tr>\n    <tr>\n      <th>5</th>\n      <td>company_state</td>\n      <td>6.639409e+01</td>\n      <td>3.692069e-16</td>\n      <td>SIG</td>\n    </tr>\n    <tr>\n      <th>3</th>\n      <td>company_protfolio_subtype</td>\n      <td>4.984522e+01</td>\n      <td>1.663655e-12</td>\n      <td>SIG</td>\n    </tr>\n    <tr>\n      <th>2</th>\n      <td>company_protfolio_type</td>\n      <td>3.897129e-01</td>\n      <td>5.324503e-01</td>\n      <td>N-SIG</td>\n    </tr>\n    <tr>\n      <th>4</th>\n      <td>company_segment</td>\n      <td>5.786415e-04</td>\n      <td>9.808088e-01</td>\n      <td>N-SIG</td>\n    </tr>\n  </tbody>\n</table>\n</div>"
     },
     "metadata": {},
     "output_type": "display_data"
    },
    {
     "name": "stdout",
     "output_type": "stream",
     "text": [
      "Chi2 Test for meeting_booked_count_binary\n"
     ]
    },
    {
     "data": {
      "text/plain": "                         ftr         score          pval p_test\n0                SEQUENCE_ID  45363.923285  0.000000e+00    SIG\n5              company_state    100.695197  1.072854e-23    SIG\n6              contact_state     80.249796  3.299465e-19    SIG\n3  company_protfolio_subtype     34.997757  3.300854e-09    SIG\n1          contact_job_title     31.828177  1.684315e-08    SIG\n4            company_segment      0.326873  5.675059e-01  N-SIG\n2     company_protfolio_type      0.172252  6.781178e-01  N-SIG",
      "text/html": "<div>\n<style scoped>\n    .dataframe tbody tr th:only-of-type {\n        vertical-align: middle;\n    }\n\n    .dataframe tbody tr th {\n        vertical-align: top;\n    }\n\n    .dataframe thead th {\n        text-align: right;\n    }\n</style>\n<table border=\"1\" class=\"dataframe\">\n  <thead>\n    <tr style=\"text-align: right;\">\n      <th></th>\n      <th>ftr</th>\n      <th>score</th>\n      <th>pval</th>\n      <th>p_test</th>\n    </tr>\n  </thead>\n  <tbody>\n    <tr>\n      <th>0</th>\n      <td>SEQUENCE_ID</td>\n      <td>45363.923285</td>\n      <td>0.000000e+00</td>\n      <td>SIG</td>\n    </tr>\n    <tr>\n      <th>5</th>\n      <td>company_state</td>\n      <td>100.695197</td>\n      <td>1.072854e-23</td>\n      <td>SIG</td>\n    </tr>\n    <tr>\n      <th>6</th>\n      <td>contact_state</td>\n      <td>80.249796</td>\n      <td>3.299465e-19</td>\n      <td>SIG</td>\n    </tr>\n    <tr>\n      <th>3</th>\n      <td>company_protfolio_subtype</td>\n      <td>34.997757</td>\n      <td>3.300854e-09</td>\n      <td>SIG</td>\n    </tr>\n    <tr>\n      <th>1</th>\n      <td>contact_job_title</td>\n      <td>31.828177</td>\n      <td>1.684315e-08</td>\n      <td>SIG</td>\n    </tr>\n    <tr>\n      <th>4</th>\n      <td>company_segment</td>\n      <td>0.326873</td>\n      <td>5.675059e-01</td>\n      <td>N-SIG</td>\n    </tr>\n    <tr>\n      <th>2</th>\n      <td>company_protfolio_type</td>\n      <td>0.172252</td>\n      <td>6.781178e-01</td>\n      <td>N-SIG</td>\n    </tr>\n  </tbody>\n</table>\n</div>"
     },
     "metadata": {},
     "output_type": "display_data"
    },
    {
     "name": "stdout",
     "output_type": "stream",
     "text": [
      "Chi2 Test for open_count_binary\n"
     ]
    },
    {
     "data": {
      "text/plain": "                         ftr         score      pval p_test\n0                SEQUENCE_ID  3.238933e+08  0.000000    SIG\n1          contact_job_title  8.274548e+03  0.000000    SIG\n4            company_segment  9.870385e+00  0.001680    SIG\n6              contact_state  7.128291e+00  0.007588    SIG\n2     company_protfolio_type  2.293453e+00  0.129921  N-SIG\n5              company_state  3.147294e-01  0.574792  N-SIG\n3  company_protfolio_subtype  4.128147e-02  0.838996  N-SIG",
      "text/html": "<div>\n<style scoped>\n    .dataframe tbody tr th:only-of-type {\n        vertical-align: middle;\n    }\n\n    .dataframe tbody tr th {\n        vertical-align: top;\n    }\n\n    .dataframe thead th {\n        text-align: right;\n    }\n</style>\n<table border=\"1\" class=\"dataframe\">\n  <thead>\n    <tr style=\"text-align: right;\">\n      <th></th>\n      <th>ftr</th>\n      <th>score</th>\n      <th>pval</th>\n      <th>p_test</th>\n    </tr>\n  </thead>\n  <tbody>\n    <tr>\n      <th>0</th>\n      <td>SEQUENCE_ID</td>\n      <td>3.238933e+08</td>\n      <td>0.000000</td>\n      <td>SIG</td>\n    </tr>\n    <tr>\n      <th>1</th>\n      <td>contact_job_title</td>\n      <td>8.274548e+03</td>\n      <td>0.000000</td>\n      <td>SIG</td>\n    </tr>\n    <tr>\n      <th>4</th>\n      <td>company_segment</td>\n      <td>9.870385e+00</td>\n      <td>0.001680</td>\n      <td>SIG</td>\n    </tr>\n    <tr>\n      <th>6</th>\n      <td>contact_state</td>\n      <td>7.128291e+00</td>\n      <td>0.007588</td>\n      <td>SIG</td>\n    </tr>\n    <tr>\n      <th>2</th>\n      <td>company_protfolio_type</td>\n      <td>2.293453e+00</td>\n      <td>0.129921</td>\n      <td>N-SIG</td>\n    </tr>\n    <tr>\n      <th>5</th>\n      <td>company_state</td>\n      <td>3.147294e-01</td>\n      <td>0.574792</td>\n      <td>N-SIG</td>\n    </tr>\n    <tr>\n      <th>3</th>\n      <td>company_protfolio_subtype</td>\n      <td>4.128147e-02</td>\n      <td>0.838996</td>\n      <td>N-SIG</td>\n    </tr>\n  </tbody>\n</table>\n</div>"
     },
     "metadata": {},
     "output_type": "display_data"
    },
    {
     "data": {
      "text/plain": "                             company_annual_revenue  company_units  \\\ncompany_annual_revenue                     1.000000       0.128880   \ncompany_units                              0.128880       1.000000   \ncompany_founded_years                      0.093122       0.072382   \nreply_count_binary                         0.006105      -0.030674   \nmeeting_booked_count_binary               -0.006278      -0.009723   \nopen_count_binary                          0.024144      -0.032926   \n\n                             company_founded_years  reply_count_binary  \\\ncompany_annual_revenue                    0.093122            0.006105   \ncompany_units                             0.072382           -0.030674   \ncompany_founded_years                     1.000000           -0.029499   \nreply_count_binary                       -0.029499            1.000000   \nmeeting_booked_count_binary              -0.013401            0.026253   \nopen_count_binary                        -0.049923            0.254120   \n\n                             meeting_booked_count_binary  open_count_binary  \ncompany_annual_revenue                         -0.006278           0.024144  \ncompany_units                                  -0.009723          -0.032926  \ncompany_founded_years                          -0.013401          -0.049923  \nreply_count_binary                              0.026253           0.254120  \nmeeting_booked_count_binary                     1.000000           0.032315  \nopen_count_binary                               0.032315           1.000000  ",
      "text/html": "<div>\n<style scoped>\n    .dataframe tbody tr th:only-of-type {\n        vertical-align: middle;\n    }\n\n    .dataframe tbody tr th {\n        vertical-align: top;\n    }\n\n    .dataframe thead th {\n        text-align: right;\n    }\n</style>\n<table border=\"1\" class=\"dataframe\">\n  <thead>\n    <tr style=\"text-align: right;\">\n      <th></th>\n      <th>company_annual_revenue</th>\n      <th>company_units</th>\n      <th>company_founded_years</th>\n      <th>reply_count_binary</th>\n      <th>meeting_booked_count_binary</th>\n      <th>open_count_binary</th>\n    </tr>\n  </thead>\n  <tbody>\n    <tr>\n      <th>company_annual_revenue</th>\n      <td>1.000000</td>\n      <td>0.128880</td>\n      <td>0.093122</td>\n      <td>0.006105</td>\n      <td>-0.006278</td>\n      <td>0.024144</td>\n    </tr>\n    <tr>\n      <th>company_units</th>\n      <td>0.128880</td>\n      <td>1.000000</td>\n      <td>0.072382</td>\n      <td>-0.030674</td>\n      <td>-0.009723</td>\n      <td>-0.032926</td>\n    </tr>\n    <tr>\n      <th>company_founded_years</th>\n      <td>0.093122</td>\n      <td>0.072382</td>\n      <td>1.000000</td>\n      <td>-0.029499</td>\n      <td>-0.013401</td>\n      <td>-0.049923</td>\n    </tr>\n    <tr>\n      <th>reply_count_binary</th>\n      <td>0.006105</td>\n      <td>-0.030674</td>\n      <td>-0.029499</td>\n      <td>1.000000</td>\n      <td>0.026253</td>\n      <td>0.254120</td>\n    </tr>\n    <tr>\n      <th>meeting_booked_count_binary</th>\n      <td>-0.006278</td>\n      <td>-0.009723</td>\n      <td>-0.013401</td>\n      <td>0.026253</td>\n      <td>1.000000</td>\n      <td>0.032315</td>\n    </tr>\n    <tr>\n      <th>open_count_binary</th>\n      <td>0.024144</td>\n      <td>-0.032926</td>\n      <td>-0.049923</td>\n      <td>0.254120</td>\n      <td>0.032315</td>\n      <td>1.000000</td>\n    </tr>\n  </tbody>\n</table>\n</div>"
     },
     "metadata": {},
     "output_type": "display_data"
    }
   ],
   "source": [
    "\n",
    "from experiments.common.utils import chi2_test_encode\n",
    "\n",
    "cat_cols = ['SEQUENCE_ID',\n",
    "            'contact_job_title',\n",
    "            'company_protfolio_type',\n",
    "            'company_protfolio_subtype',\n",
    "            'company_segment',\n",
    "            'company_state',\n",
    "            'contact_state',\n",
    "\n",
    "            ]\n",
    "num_cols = ['company_annual_revenue',\n",
    "            'company_units',\n",
    "            'company_founded_years']\n",
    "\n",
    "target_cols = ['reply_count_binary', 'meeting_booked_count_binary', 'open_count_binary']\n",
    "\n",
    "#categorical variables \n",
    "chi2_result_seq = chi2_test_encode(seq_contact_company_df, cat_cols, target_cols)\n",
    "for index, target_col in enumerate(target_cols):\n",
    "    print(f'Chi2 Test for {target_col}')\n",
    "    display(chi2_result_seq[index])\n",
    "\n",
    "# numerical variables\n",
    "correlation_matrix = seq_contact_company_df[num_cols + target_cols].corr()\n",
    "display(correlation_matrix)"
   ],
   "metadata": {
    "collapsed": false,
    "ExecuteTime": {
     "end_time": "2023-10-19T21:18:39.417891Z",
     "start_time": "2023-10-19T21:18:37.676127Z"
    }
   },
   "id": "b9a319d57cab5b48"
  },
  {
   "cell_type": "markdown",
   "source": [
    "# Correlation Check for Template Level"
   ],
   "metadata": {
    "collapsed": false
   },
   "id": "e81295cf22c71b76"
  },
  {
   "cell_type": "code",
   "execution_count": 13,
   "id": "4de327f6b235e496",
   "metadata": {
    "collapsed": false,
    "ExecuteTime": {
     "end_time": "2023-10-19T21:18:39.486446Z",
     "start_time": "2023-10-19T21:18:39.052228Z"
    }
   },
   "outputs": [
    {
     "data": {
      "text/plain": "       SEQUENCE_ID  CONTACT_ID        CONTACT_COMPANY_NAME  TEMPLATE_ID  \\\n0          1758690    45075501              Gallaher Homes     17748430   \n1          1758690    45075501              Gallaher Homes     17748531   \n2          1758690    58750151   Group Fox Management 411E     17748430   \n3          1758690    58750151   Group Fox Management 411E     17748531   \n4         37046485    58748001                    TestFlex     14198716   \n...            ...         ...                         ...          ...   \n78391     91512838    60224052  Sutton Real Estate Company     50091173   \n78392     91512838    60224053  Sutton Real Estate Company     50091173   \n78393     91512838    60224055  Sutton Real Estate Company     50091173   \n78394     91512838    60224101  Sutton Real Estate Company     50091173   \n78395     91512838    60224103  Sutton Real Estate Company     50091173   \n\n       send_count  reply_count  meeting_booked_count  open_count  \\\n0             1.0          0.0                   0.0         0.0   \n1             1.0          0.0                   0.0         0.0   \n2             1.0          0.0                   0.0         0.0   \n3             1.0          0.0                   0.0         0.0   \n4             1.0          0.0                   0.0         0.0   \n...           ...          ...                   ...         ...   \n78391         1.0          0.0                   0.0         0.0   \n78392         1.0          0.0                   0.0         0.0   \n78393         1.0          0.0                   0.0         1.0   \n78394         1.0          0.0                   0.0         0.0   \n78395         1.0          0.0                   0.0         0.0   \n\n               contact_job_title  \\\n0      Senior Executive Director   \n1      Senior Executive Director   \n2                     Controller   \n3                     Controller   \n4                           None   \n...                          ...   \n78391          Manager, Property   \n78392          Manager, Property   \n78393              Leasing Agent   \n78394              Leasing Agent   \n78395              Leasing Agent   \n\n                                  company_protfolio_type  \\\n0                                           Multi Family   \n1                                           Multi Family   \n2                                           Multi Family   \n3                                           Multi Family   \n4      Manufactured Homes;Manufacturing Housing;Multi...   \n...                                                  ...   \n78391                                       Multi Family   \n78392                                       Multi Family   \n78393                                       Multi Family   \n78394                                       Multi Family   \n78395                                       Multi Family   \n\n      company_protfolio_subtype company_segment company_state contact_state  \\\n0                          None             SMB            CA          None   \n1                          None             SMB            CA          None   \n2                  Conventional             SMB            IL          None   \n3                  Conventional             SMB            IL          None   \n4                  Conventional        Deep SMB          None          None   \n...                         ...             ...           ...           ...   \n78391                      None             SMB            NY            NY   \n78392                      None             SMB            NY            NY   \n78393                      None             SMB            NY            NY   \n78394                      None             SMB            NY            NY   \n78395                      None             SMB            NY            NY   \n\n       company_annual_revenue  company_founded_year  company_units  \n0                  10000000.0                1979.0           3568  \n1                  10000000.0                1979.0           3568  \n2                   1000000.0                1978.0           3758  \n3                   1000000.0                1978.0           3758  \n4                         NaN                   NaN              2  \n...                       ...                   ...            ...  \n78391               1000000.0                1933.0           1170  \n78392               1000000.0                1933.0           1170  \n78393               1000000.0                1933.0           1170  \n78394               1000000.0                1933.0           1170  \n78395               1000000.0                1933.0           1170  \n\n[78396 rows x 17 columns]",
      "text/html": "<div>\n<style scoped>\n    .dataframe tbody tr th:only-of-type {\n        vertical-align: middle;\n    }\n\n    .dataframe tbody tr th {\n        vertical-align: top;\n    }\n\n    .dataframe thead th {\n        text-align: right;\n    }\n</style>\n<table border=\"1\" class=\"dataframe\">\n  <thead>\n    <tr style=\"text-align: right;\">\n      <th></th>\n      <th>SEQUENCE_ID</th>\n      <th>CONTACT_ID</th>\n      <th>CONTACT_COMPANY_NAME</th>\n      <th>TEMPLATE_ID</th>\n      <th>send_count</th>\n      <th>reply_count</th>\n      <th>meeting_booked_count</th>\n      <th>open_count</th>\n      <th>contact_job_title</th>\n      <th>company_protfolio_type</th>\n      <th>company_protfolio_subtype</th>\n      <th>company_segment</th>\n      <th>company_state</th>\n      <th>contact_state</th>\n      <th>company_annual_revenue</th>\n      <th>company_founded_year</th>\n      <th>company_units</th>\n    </tr>\n  </thead>\n  <tbody>\n    <tr>\n      <th>0</th>\n      <td>1758690</td>\n      <td>45075501</td>\n      <td>Gallaher Homes</td>\n      <td>17748430</td>\n      <td>1.0</td>\n      <td>0.0</td>\n      <td>0.0</td>\n      <td>0.0</td>\n      <td>Senior Executive Director</td>\n      <td>Multi Family</td>\n      <td>None</td>\n      <td>SMB</td>\n      <td>CA</td>\n      <td>None</td>\n      <td>10000000.0</td>\n      <td>1979.0</td>\n      <td>3568</td>\n    </tr>\n    <tr>\n      <th>1</th>\n      <td>1758690</td>\n      <td>45075501</td>\n      <td>Gallaher Homes</td>\n      <td>17748531</td>\n      <td>1.0</td>\n      <td>0.0</td>\n      <td>0.0</td>\n      <td>0.0</td>\n      <td>Senior Executive Director</td>\n      <td>Multi Family</td>\n      <td>None</td>\n      <td>SMB</td>\n      <td>CA</td>\n      <td>None</td>\n      <td>10000000.0</td>\n      <td>1979.0</td>\n      <td>3568</td>\n    </tr>\n    <tr>\n      <th>2</th>\n      <td>1758690</td>\n      <td>58750151</td>\n      <td>Group Fox Management 411E</td>\n      <td>17748430</td>\n      <td>1.0</td>\n      <td>0.0</td>\n      <td>0.0</td>\n      <td>0.0</td>\n      <td>Controller</td>\n      <td>Multi Family</td>\n      <td>Conventional</td>\n      <td>SMB</td>\n      <td>IL</td>\n      <td>None</td>\n      <td>1000000.0</td>\n      <td>1978.0</td>\n      <td>3758</td>\n    </tr>\n    <tr>\n      <th>3</th>\n      <td>1758690</td>\n      <td>58750151</td>\n      <td>Group Fox Management 411E</td>\n      <td>17748531</td>\n      <td>1.0</td>\n      <td>0.0</td>\n      <td>0.0</td>\n      <td>0.0</td>\n      <td>Controller</td>\n      <td>Multi Family</td>\n      <td>Conventional</td>\n      <td>SMB</td>\n      <td>IL</td>\n      <td>None</td>\n      <td>1000000.0</td>\n      <td>1978.0</td>\n      <td>3758</td>\n    </tr>\n    <tr>\n      <th>4</th>\n      <td>37046485</td>\n      <td>58748001</td>\n      <td>TestFlex</td>\n      <td>14198716</td>\n      <td>1.0</td>\n      <td>0.0</td>\n      <td>0.0</td>\n      <td>0.0</td>\n      <td>None</td>\n      <td>Manufactured Homes;Manufacturing Housing;Multi...</td>\n      <td>Conventional</td>\n      <td>Deep SMB</td>\n      <td>None</td>\n      <td>None</td>\n      <td>NaN</td>\n      <td>NaN</td>\n      <td>2</td>\n    </tr>\n    <tr>\n      <th>...</th>\n      <td>...</td>\n      <td>...</td>\n      <td>...</td>\n      <td>...</td>\n      <td>...</td>\n      <td>...</td>\n      <td>...</td>\n      <td>...</td>\n      <td>...</td>\n      <td>...</td>\n      <td>...</td>\n      <td>...</td>\n      <td>...</td>\n      <td>...</td>\n      <td>...</td>\n      <td>...</td>\n      <td>...</td>\n    </tr>\n    <tr>\n      <th>78391</th>\n      <td>91512838</td>\n      <td>60224052</td>\n      <td>Sutton Real Estate Company</td>\n      <td>50091173</td>\n      <td>1.0</td>\n      <td>0.0</td>\n      <td>0.0</td>\n      <td>0.0</td>\n      <td>Manager, Property</td>\n      <td>Multi Family</td>\n      <td>None</td>\n      <td>SMB</td>\n      <td>NY</td>\n      <td>NY</td>\n      <td>1000000.0</td>\n      <td>1933.0</td>\n      <td>1170</td>\n    </tr>\n    <tr>\n      <th>78392</th>\n      <td>91512838</td>\n      <td>60224053</td>\n      <td>Sutton Real Estate Company</td>\n      <td>50091173</td>\n      <td>1.0</td>\n      <td>0.0</td>\n      <td>0.0</td>\n      <td>0.0</td>\n      <td>Manager, Property</td>\n      <td>Multi Family</td>\n      <td>None</td>\n      <td>SMB</td>\n      <td>NY</td>\n      <td>NY</td>\n      <td>1000000.0</td>\n      <td>1933.0</td>\n      <td>1170</td>\n    </tr>\n    <tr>\n      <th>78393</th>\n      <td>91512838</td>\n      <td>60224055</td>\n      <td>Sutton Real Estate Company</td>\n      <td>50091173</td>\n      <td>1.0</td>\n      <td>0.0</td>\n      <td>0.0</td>\n      <td>1.0</td>\n      <td>Leasing Agent</td>\n      <td>Multi Family</td>\n      <td>None</td>\n      <td>SMB</td>\n      <td>NY</td>\n      <td>NY</td>\n      <td>1000000.0</td>\n      <td>1933.0</td>\n      <td>1170</td>\n    </tr>\n    <tr>\n      <th>78394</th>\n      <td>91512838</td>\n      <td>60224101</td>\n      <td>Sutton Real Estate Company</td>\n      <td>50091173</td>\n      <td>1.0</td>\n      <td>0.0</td>\n      <td>0.0</td>\n      <td>0.0</td>\n      <td>Leasing Agent</td>\n      <td>Multi Family</td>\n      <td>None</td>\n      <td>SMB</td>\n      <td>NY</td>\n      <td>NY</td>\n      <td>1000000.0</td>\n      <td>1933.0</td>\n      <td>1170</td>\n    </tr>\n    <tr>\n      <th>78395</th>\n      <td>91512838</td>\n      <td>60224103</td>\n      <td>Sutton Real Estate Company</td>\n      <td>50091173</td>\n      <td>1.0</td>\n      <td>0.0</td>\n      <td>0.0</td>\n      <td>0.0</td>\n      <td>Leasing Agent</td>\n      <td>Multi Family</td>\n      <td>None</td>\n      <td>SMB</td>\n      <td>NY</td>\n      <td>NY</td>\n      <td>1000000.0</td>\n      <td>1933.0</td>\n      <td>1170</td>\n    </tr>\n  </tbody>\n</table>\n<p>78396 rows × 17 columns</p>\n</div>"
     },
     "execution_count": 13,
     "metadata": {},
     "output_type": "execute_result"
    }
   ],
   "source": [
    "template_seq_contact_company_df = (\n",
    "    df_sequence_20230101.groupby(by=['SEQUENCE_ID', 'CONTACT_ID', 'CONTACT_COMPANY_NAME', 'TEMPLATE_ID'])\n",
    "    .agg(send_count=('SENT_COUNT', 'sum'),\n",
    "         reply_count=('REPLY_COUNT', 'sum'),\n",
    "         meeting_booked_count=('MEETING_BOOKED_COUNT', 'sum'),\n",
    "         open_count=('OPEN_COUNT', 'sum'),\n",
    "         contact_job_title=('CONTACT_JOB_TITLE', 'first'),\n",
    "         company_protfolio_type=('COMPANY_PROTFOLIO_TYPE', 'first'),\n",
    "         company_protfolio_subtype=('COMPANY_PROTFOLIO_SUBTYPE', 'first'),\n",
    "         company_segment=('COMPANY_SEGMENT', 'first'),\n",
    "         company_state=('COMPANY_STATE', 'first'),\n",
    "         contact_state=('CONTACT_STATE', 'first'),\n",
    "         company_annual_revenue=('COMPANY_ANNUAL_REVENUE', 'first'),\n",
    "         company_founded_year=('COMPANY_FOUNDED_YEAR', 'first'),\n",
    "         company_units=('COMPANY_UNITS', 'first'),\n",
    "         )).reset_index()\n",
    "template_seq_contact_company_df"
   ]
  },
  {
   "cell_type": "code",
   "execution_count": 14,
   "id": "664d7ac53a7f9dbb",
   "metadata": {
    "collapsed": false,
    "ExecuteTime": {
     "end_time": "2023-10-19T21:18:39.597207Z",
     "start_time": "2023-10-19T21:18:39.147895Z"
    }
   },
   "outputs": [],
   "source": [
    "template_seq_contact_company_df['reply_count_binary'] = template_seq_contact_company_df['reply_count'].apply(\n",
    "    lambda x: 1 if x > 0 else 0)\n",
    "template_seq_contact_company_df['open_count_binary'] = template_seq_contact_company_df['open_count'].apply(\n",
    "    lambda x: 1 if x > 0 else 0)\n",
    "template_seq_contact_company_df['meeting_booked_count_binary'] = template_seq_contact_company_df[\n",
    "    'meeting_booked_count'].apply(lambda x: 1 if x > 0 else 0)\n",
    "template_seq_contact_company_df['company_founded_years'] = datetime.datetime.now().year - \\\n",
    "                                                           template_seq_contact_company_df[\n",
    "                                                               'company_founded_year']"
   ]
  },
  {
   "cell_type": "code",
   "execution_count": 15,
   "id": "b45ec95486b93411",
   "metadata": {
    "collapsed": false,
    "ExecuteTime": {
     "end_time": "2023-10-19T21:18:39.867145Z",
     "start_time": "2023-10-19T21:18:39.220834Z"
    }
   },
   "outputs": [
    {
     "name": "stdout",
     "output_type": "stream",
     "text": [
      "Chi2 Test for reply_count_binary\n"
     ]
    },
    {
     "data": {
      "text/plain": "                         ftr         score          pval p_test\n0                SEQUENCE_ID  1.642935e+08  0.000000e+00    SIG\n1                TEMPLATE_ID  1.027999e+08  0.000000e+00    SIG\n4  company_protfolio_subtype  1.046832e+02  1.433127e-24    SIG\n7              contact_state  9.005592e+01  2.315234e-21    SIG\n2          contact_job_title  8.998988e+01  2.393809e-21    SIG\n6              company_state  5.600271e+01  7.237123e-14    SIG\n3     company_protfolio_type  1.105924e+00  2.929698e-01  N-SIG\n5            company_segment  1.806093e-01  6.708501e-01  N-SIG",
      "text/html": "<div>\n<style scoped>\n    .dataframe tbody tr th:only-of-type {\n        vertical-align: middle;\n    }\n\n    .dataframe tbody tr th {\n        vertical-align: top;\n    }\n\n    .dataframe thead th {\n        text-align: right;\n    }\n</style>\n<table border=\"1\" class=\"dataframe\">\n  <thead>\n    <tr style=\"text-align: right;\">\n      <th></th>\n      <th>ftr</th>\n      <th>score</th>\n      <th>pval</th>\n      <th>p_test</th>\n    </tr>\n  </thead>\n  <tbody>\n    <tr>\n      <th>0</th>\n      <td>SEQUENCE_ID</td>\n      <td>1.642935e+08</td>\n      <td>0.000000e+00</td>\n      <td>SIG</td>\n    </tr>\n    <tr>\n      <th>1</th>\n      <td>TEMPLATE_ID</td>\n      <td>1.027999e+08</td>\n      <td>0.000000e+00</td>\n      <td>SIG</td>\n    </tr>\n    <tr>\n      <th>4</th>\n      <td>company_protfolio_subtype</td>\n      <td>1.046832e+02</td>\n      <td>1.433127e-24</td>\n      <td>SIG</td>\n    </tr>\n    <tr>\n      <th>7</th>\n      <td>contact_state</td>\n      <td>9.005592e+01</td>\n      <td>2.315234e-21</td>\n      <td>SIG</td>\n    </tr>\n    <tr>\n      <th>2</th>\n      <td>contact_job_title</td>\n      <td>8.998988e+01</td>\n      <td>2.393809e-21</td>\n      <td>SIG</td>\n    </tr>\n    <tr>\n      <th>6</th>\n      <td>company_state</td>\n      <td>5.600271e+01</td>\n      <td>7.237123e-14</td>\n      <td>SIG</td>\n    </tr>\n    <tr>\n      <th>3</th>\n      <td>company_protfolio_type</td>\n      <td>1.105924e+00</td>\n      <td>2.929698e-01</td>\n      <td>N-SIG</td>\n    </tr>\n    <tr>\n      <th>5</th>\n      <td>company_segment</td>\n      <td>1.806093e-01</td>\n      <td>6.708501e-01</td>\n      <td>N-SIG</td>\n    </tr>\n  </tbody>\n</table>\n</div>"
     },
     "metadata": {},
     "output_type": "display_data"
    },
    {
     "name": "stdout",
     "output_type": "stream",
     "text": [
      "Chi2 Test for meeting_booked_count_binary\n"
     ]
    },
    {
     "data": {
      "text/plain": "                         ftr         score          pval p_test\n0                SEQUENCE_ID  38880.273735  0.000000e+00    SIG\n1                TEMPLATE_ID   6163.318304  0.000000e+00    SIG\n6              company_state     98.716391  2.913804e-23    SIG\n7              contact_state     79.192600  5.634071e-19    SIG\n4  company_protfolio_subtype     39.302109  3.630491e-10    SIG\n2          contact_job_title     25.074155  5.516733e-07    SIG\n5            company_segment      0.385996  5.344119e-01  N-SIG\n3     company_protfolio_type      0.217040  6.413047e-01  N-SIG",
      "text/html": "<div>\n<style scoped>\n    .dataframe tbody tr th:only-of-type {\n        vertical-align: middle;\n    }\n\n    .dataframe tbody tr th {\n        vertical-align: top;\n    }\n\n    .dataframe thead th {\n        text-align: right;\n    }\n</style>\n<table border=\"1\" class=\"dataframe\">\n  <thead>\n    <tr style=\"text-align: right;\">\n      <th></th>\n      <th>ftr</th>\n      <th>score</th>\n      <th>pval</th>\n      <th>p_test</th>\n    </tr>\n  </thead>\n  <tbody>\n    <tr>\n      <th>0</th>\n      <td>SEQUENCE_ID</td>\n      <td>38880.273735</td>\n      <td>0.000000e+00</td>\n      <td>SIG</td>\n    </tr>\n    <tr>\n      <th>1</th>\n      <td>TEMPLATE_ID</td>\n      <td>6163.318304</td>\n      <td>0.000000e+00</td>\n      <td>SIG</td>\n    </tr>\n    <tr>\n      <th>6</th>\n      <td>company_state</td>\n      <td>98.716391</td>\n      <td>2.913804e-23</td>\n      <td>SIG</td>\n    </tr>\n    <tr>\n      <th>7</th>\n      <td>contact_state</td>\n      <td>79.192600</td>\n      <td>5.634071e-19</td>\n      <td>SIG</td>\n    </tr>\n    <tr>\n      <th>4</th>\n      <td>company_protfolio_subtype</td>\n      <td>39.302109</td>\n      <td>3.630491e-10</td>\n      <td>SIG</td>\n    </tr>\n    <tr>\n      <th>2</th>\n      <td>contact_job_title</td>\n      <td>25.074155</td>\n      <td>5.516733e-07</td>\n      <td>SIG</td>\n    </tr>\n    <tr>\n      <th>5</th>\n      <td>company_segment</td>\n      <td>0.385996</td>\n      <td>5.344119e-01</td>\n      <td>N-SIG</td>\n    </tr>\n    <tr>\n      <th>3</th>\n      <td>company_protfolio_type</td>\n      <td>0.217040</td>\n      <td>6.413047e-01</td>\n      <td>N-SIG</td>\n    </tr>\n  </tbody>\n</table>\n</div>"
     },
     "metadata": {},
     "output_type": "display_data"
    },
    {
     "name": "stdout",
     "output_type": "stream",
     "text": [
      "Chi2 Test for open_count_binary\n"
     ]
    },
    {
     "data": {
      "text/plain": "                         ftr         score          pval p_test\n0                SEQUENCE_ID  4.602324e+08  0.000000e+00    SIG\n1                TEMPLATE_ID  2.383513e+08  0.000000e+00    SIG\n2          contact_job_title  2.443554e+04  0.000000e+00    SIG\n5            company_segment  6.514562e+01  6.956272e-16    SIG\n6              company_state  3.144137e+01  2.055541e-08    SIG\n7              contact_state  1.885486e+01  1.410512e-05    SIG\n3     company_protfolio_type  3.944979e+00  4.701143e-02    SIG\n4  company_protfolio_subtype  1.873572e+00  1.710665e-01  N-SIG",
      "text/html": "<div>\n<style scoped>\n    .dataframe tbody tr th:only-of-type {\n        vertical-align: middle;\n    }\n\n    .dataframe tbody tr th {\n        vertical-align: top;\n    }\n\n    .dataframe thead th {\n        text-align: right;\n    }\n</style>\n<table border=\"1\" class=\"dataframe\">\n  <thead>\n    <tr style=\"text-align: right;\">\n      <th></th>\n      <th>ftr</th>\n      <th>score</th>\n      <th>pval</th>\n      <th>p_test</th>\n    </tr>\n  </thead>\n  <tbody>\n    <tr>\n      <th>0</th>\n      <td>SEQUENCE_ID</td>\n      <td>4.602324e+08</td>\n      <td>0.000000e+00</td>\n      <td>SIG</td>\n    </tr>\n    <tr>\n      <th>1</th>\n      <td>TEMPLATE_ID</td>\n      <td>2.383513e+08</td>\n      <td>0.000000e+00</td>\n      <td>SIG</td>\n    </tr>\n    <tr>\n      <th>2</th>\n      <td>contact_job_title</td>\n      <td>2.443554e+04</td>\n      <td>0.000000e+00</td>\n      <td>SIG</td>\n    </tr>\n    <tr>\n      <th>5</th>\n      <td>company_segment</td>\n      <td>6.514562e+01</td>\n      <td>6.956272e-16</td>\n      <td>SIG</td>\n    </tr>\n    <tr>\n      <th>6</th>\n      <td>company_state</td>\n      <td>3.144137e+01</td>\n      <td>2.055541e-08</td>\n      <td>SIG</td>\n    </tr>\n    <tr>\n      <th>7</th>\n      <td>contact_state</td>\n      <td>1.885486e+01</td>\n      <td>1.410512e-05</td>\n      <td>SIG</td>\n    </tr>\n    <tr>\n      <th>3</th>\n      <td>company_protfolio_type</td>\n      <td>3.944979e+00</td>\n      <td>4.701143e-02</td>\n      <td>SIG</td>\n    </tr>\n    <tr>\n      <th>4</th>\n      <td>company_protfolio_subtype</td>\n      <td>1.873572e+00</td>\n      <td>1.710665e-01</td>\n      <td>N-SIG</td>\n    </tr>\n  </tbody>\n</table>\n</div>"
     },
     "metadata": {},
     "output_type": "display_data"
    },
    {
     "data": {
      "text/plain": "                             company_annual_revenue  company_units  \\\ncompany_annual_revenue                     1.000000       0.114520   \ncompany_units                              0.114520       1.000000   \ncompany_founded_years                      0.082763       0.079379   \nreply_count_binary                         0.003085      -0.013178   \nmeeting_booked_count_binary               -0.003474      -0.005638   \nopen_count_binary                          0.038253      -0.032130   \n\n                             company_founded_years  reply_count_binary  \\\ncompany_annual_revenue                    0.082763            0.003085   \ncompany_units                             0.079379           -0.013178   \ncompany_founded_years                     1.000000           -0.015490   \nreply_count_binary                       -0.015490            1.000000   \nmeeting_booked_count_binary              -0.007602            0.017239   \nopen_count_binary                        -0.041857            0.193500   \n\n                             meeting_booked_count_binary  open_count_binary  \ncompany_annual_revenue                         -0.003474           0.038253  \ncompany_units                                  -0.005638          -0.032130  \ncompany_founded_years                          -0.007602          -0.041857  \nreply_count_binary                              0.017239           0.193500  \nmeeting_booked_count_binary                     1.000000           0.020577  \nopen_count_binary                               0.020577           1.000000  ",
      "text/html": "<div>\n<style scoped>\n    .dataframe tbody tr th:only-of-type {\n        vertical-align: middle;\n    }\n\n    .dataframe tbody tr th {\n        vertical-align: top;\n    }\n\n    .dataframe thead th {\n        text-align: right;\n    }\n</style>\n<table border=\"1\" class=\"dataframe\">\n  <thead>\n    <tr style=\"text-align: right;\">\n      <th></th>\n      <th>company_annual_revenue</th>\n      <th>company_units</th>\n      <th>company_founded_years</th>\n      <th>reply_count_binary</th>\n      <th>meeting_booked_count_binary</th>\n      <th>open_count_binary</th>\n    </tr>\n  </thead>\n  <tbody>\n    <tr>\n      <th>company_annual_revenue</th>\n      <td>1.000000</td>\n      <td>0.114520</td>\n      <td>0.082763</td>\n      <td>0.003085</td>\n      <td>-0.003474</td>\n      <td>0.038253</td>\n    </tr>\n    <tr>\n      <th>company_units</th>\n      <td>0.114520</td>\n      <td>1.000000</td>\n      <td>0.079379</td>\n      <td>-0.013178</td>\n      <td>-0.005638</td>\n      <td>-0.032130</td>\n    </tr>\n    <tr>\n      <th>company_founded_years</th>\n      <td>0.082763</td>\n      <td>0.079379</td>\n      <td>1.000000</td>\n      <td>-0.015490</td>\n      <td>-0.007602</td>\n      <td>-0.041857</td>\n    </tr>\n    <tr>\n      <th>reply_count_binary</th>\n      <td>0.003085</td>\n      <td>-0.013178</td>\n      <td>-0.015490</td>\n      <td>1.000000</td>\n      <td>0.017239</td>\n      <td>0.193500</td>\n    </tr>\n    <tr>\n      <th>meeting_booked_count_binary</th>\n      <td>-0.003474</td>\n      <td>-0.005638</td>\n      <td>-0.007602</td>\n      <td>0.017239</td>\n      <td>1.000000</td>\n      <td>0.020577</td>\n    </tr>\n    <tr>\n      <th>open_count_binary</th>\n      <td>0.038253</td>\n      <td>-0.032130</td>\n      <td>-0.041857</td>\n      <td>0.193500</td>\n      <td>0.020577</td>\n      <td>1.000000</td>\n    </tr>\n  </tbody>\n</table>\n</div>"
     },
     "metadata": {},
     "output_type": "display_data"
    }
   ],
   "source": [
    "cat_cols = ['SEQUENCE_ID',\n",
    "            'TEMPLATE_ID',\n",
    "            'contact_job_title',\n",
    "            'company_protfolio_type',\n",
    "            'company_protfolio_subtype',\n",
    "            'company_segment',\n",
    "            'company_state',\n",
    "            'contact_state',\n",
    "\n",
    "            ]\n",
    "num_cols = ['company_annual_revenue',\n",
    "            'company_units',\n",
    "            'company_founded_years']\n",
    "\n",
    "chi2_result_template = chi2_test_encode(template_seq_contact_company_df, cat_cols, target_cols)\n",
    "for index, target_col in enumerate(target_cols):\n",
    "    print(f'Chi2 Test for {target_col}')\n",
    "    display(chi2_result_template[index])\n",
    "\n",
    "# numerical variables\n",
    "correlation_matrix = template_seq_contact_company_df[num_cols + target_cols].corr()\n",
    "display(correlation_matrix)"
   ]
  },
  {
   "cell_type": "markdown",
   "source": [
    "# Model Build for Sequence Level"
   ],
   "metadata": {
    "collapsed": false
   },
   "id": "d821376ba07d5973"
  },
  {
   "cell_type": "code",
   "execution_count": 16,
   "id": "51cd01365be2b155",
   "metadata": {
    "collapsed": false,
    "ExecuteTime": {
     "end_time": "2023-10-19T21:18:39.867455Z",
     "start_time": "2023-10-19T21:18:39.373219Z"
    }
   },
   "outputs": [],
   "source": [
    "import lightgbm as lgb\n",
    "from sklearn.model_selection import train_test_split\n",
    "from sklearn.metrics import accuracy_score, classification_report, confusion_matrix"
   ]
  },
  {
   "cell_type": "code",
   "execution_count": 17,
   "id": "6f36c49c-f782-44c7-a567-3c1cde918c6a",
   "metadata": {
    "ExecuteTime": {
     "end_time": "2023-10-19T21:18:39.867604Z",
     "start_time": "2023-10-19T21:18:39.402649Z"
    }
   },
   "outputs": [],
   "source": [
    "target = 'reply_count_binary'\n",
    "X = seq_contact_company_df[['SEQUENCE_ID',\n",
    "                            'contact_job_title',\n",
    "                            'company_protfolio_type',\n",
    "                            'company_protfolio_subtype',\n",
    "                            'company_segment',\n",
    "                            'company_state',\n",
    "                            'contact_state',\n",
    "                            'company_annual_revenue',\n",
    "                            'company_units',\n",
    "                            'company_founded_years'\n",
    "                            ]]  # Adjust 'target' to your target variable's name\n",
    "y = seq_contact_company_df[target]"
   ]
  },
  {
   "cell_type": "code",
   "execution_count": 18,
   "id": "6a430da0-815f-4093-85ed-d2cd8b298ce8",
   "metadata": {
    "ExecuteTime": {
     "end_time": "2023-10-19T21:18:39.933179Z",
     "start_time": "2023-10-19T21:18:39.411397Z"
    }
   },
   "outputs": [
    {
     "data": {
      "text/plain": "       SEQUENCE_ID          contact_job_title  \\\n0          1758690  Senior Executive Director   \n1          1758690                 Controller   \n2         37046485                       None   \n3         37380911               Assistant VP   \n4         37380911      VP/Operations Manager   \n...            ...                        ...   \n24790     91512838          Manager, Property   \n24791     91512838          Manager, Property   \n24792     91512838              Leasing Agent   \n24793     91512838              Leasing Agent   \n24794     91512838              Leasing Agent   \n\n                                  company_protfolio_type  \\\n0                                           Multi Family   \n1                                           Multi Family   \n2      Manufactured Homes;Manufacturing Housing;Multi...   \n3                                           Multi Family   \n4                                           Multi Family   \n...                                                  ...   \n24790                                       Multi Family   \n24791                                       Multi Family   \n24792                                       Multi Family   \n24793                                       Multi Family   \n24794                                       Multi Family   \n\n      company_protfolio_subtype company_segment company_state contact_state  \\\n0                          None             SMB            CA          None   \n1                  Conventional             SMB            IL          None   \n2                  Conventional        Deep SMB          None          None   \n3                          None             SMB            TX            TX   \n4                  Conventional             SMB            OR            CA   \n...                         ...             ...           ...           ...   \n24790                      None             SMB            NY            NY   \n24791                      None             SMB            NY            NY   \n24792                      None             SMB            NY            NY   \n24793                      None             SMB            NY            NY   \n24794                      None             SMB            NY            NY   \n\n       company_annual_revenue  company_units  company_founded_years  \n0                  10000000.0           3568                   44.0  \n1                   1000000.0           3758                   45.0  \n2                         NaN              2                    NaN  \n3                   1000000.0           3997                   32.0  \n4                         NaN           1500                   73.0  \n...                       ...            ...                    ...  \n24790               1000000.0           1170                   90.0  \n24791               1000000.0           1170                   90.0  \n24792               1000000.0           1170                   90.0  \n24793               1000000.0           1170                   90.0  \n24794               1000000.0           1170                   90.0  \n\n[24795 rows x 10 columns]",
      "text/html": "<div>\n<style scoped>\n    .dataframe tbody tr th:only-of-type {\n        vertical-align: middle;\n    }\n\n    .dataframe tbody tr th {\n        vertical-align: top;\n    }\n\n    .dataframe thead th {\n        text-align: right;\n    }\n</style>\n<table border=\"1\" class=\"dataframe\">\n  <thead>\n    <tr style=\"text-align: right;\">\n      <th></th>\n      <th>SEQUENCE_ID</th>\n      <th>contact_job_title</th>\n      <th>company_protfolio_type</th>\n      <th>company_protfolio_subtype</th>\n      <th>company_segment</th>\n      <th>company_state</th>\n      <th>contact_state</th>\n      <th>company_annual_revenue</th>\n      <th>company_units</th>\n      <th>company_founded_years</th>\n    </tr>\n  </thead>\n  <tbody>\n    <tr>\n      <th>0</th>\n      <td>1758690</td>\n      <td>Senior Executive Director</td>\n      <td>Multi Family</td>\n      <td>None</td>\n      <td>SMB</td>\n      <td>CA</td>\n      <td>None</td>\n      <td>10000000.0</td>\n      <td>3568</td>\n      <td>44.0</td>\n    </tr>\n    <tr>\n      <th>1</th>\n      <td>1758690</td>\n      <td>Controller</td>\n      <td>Multi Family</td>\n      <td>Conventional</td>\n      <td>SMB</td>\n      <td>IL</td>\n      <td>None</td>\n      <td>1000000.0</td>\n      <td>3758</td>\n      <td>45.0</td>\n    </tr>\n    <tr>\n      <th>2</th>\n      <td>37046485</td>\n      <td>None</td>\n      <td>Manufactured Homes;Manufacturing Housing;Multi...</td>\n      <td>Conventional</td>\n      <td>Deep SMB</td>\n      <td>None</td>\n      <td>None</td>\n      <td>NaN</td>\n      <td>2</td>\n      <td>NaN</td>\n    </tr>\n    <tr>\n      <th>3</th>\n      <td>37380911</td>\n      <td>Assistant VP</td>\n      <td>Multi Family</td>\n      <td>None</td>\n      <td>SMB</td>\n      <td>TX</td>\n      <td>TX</td>\n      <td>1000000.0</td>\n      <td>3997</td>\n      <td>32.0</td>\n    </tr>\n    <tr>\n      <th>4</th>\n      <td>37380911</td>\n      <td>VP/Operations Manager</td>\n      <td>Multi Family</td>\n      <td>Conventional</td>\n      <td>SMB</td>\n      <td>OR</td>\n      <td>CA</td>\n      <td>NaN</td>\n      <td>1500</td>\n      <td>73.0</td>\n    </tr>\n    <tr>\n      <th>...</th>\n      <td>...</td>\n      <td>...</td>\n      <td>...</td>\n      <td>...</td>\n      <td>...</td>\n      <td>...</td>\n      <td>...</td>\n      <td>...</td>\n      <td>...</td>\n      <td>...</td>\n    </tr>\n    <tr>\n      <th>24790</th>\n      <td>91512838</td>\n      <td>Manager, Property</td>\n      <td>Multi Family</td>\n      <td>None</td>\n      <td>SMB</td>\n      <td>NY</td>\n      <td>NY</td>\n      <td>1000000.0</td>\n      <td>1170</td>\n      <td>90.0</td>\n    </tr>\n    <tr>\n      <th>24791</th>\n      <td>91512838</td>\n      <td>Manager, Property</td>\n      <td>Multi Family</td>\n      <td>None</td>\n      <td>SMB</td>\n      <td>NY</td>\n      <td>NY</td>\n      <td>1000000.0</td>\n      <td>1170</td>\n      <td>90.0</td>\n    </tr>\n    <tr>\n      <th>24792</th>\n      <td>91512838</td>\n      <td>Leasing Agent</td>\n      <td>Multi Family</td>\n      <td>None</td>\n      <td>SMB</td>\n      <td>NY</td>\n      <td>NY</td>\n      <td>1000000.0</td>\n      <td>1170</td>\n      <td>90.0</td>\n    </tr>\n    <tr>\n      <th>24793</th>\n      <td>91512838</td>\n      <td>Leasing Agent</td>\n      <td>Multi Family</td>\n      <td>None</td>\n      <td>SMB</td>\n      <td>NY</td>\n      <td>NY</td>\n      <td>1000000.0</td>\n      <td>1170</td>\n      <td>90.0</td>\n    </tr>\n    <tr>\n      <th>24794</th>\n      <td>91512838</td>\n      <td>Leasing Agent</td>\n      <td>Multi Family</td>\n      <td>None</td>\n      <td>SMB</td>\n      <td>NY</td>\n      <td>NY</td>\n      <td>1000000.0</td>\n      <td>1170</td>\n      <td>90.0</td>\n    </tr>\n  </tbody>\n</table>\n<p>24795 rows × 10 columns</p>\n</div>"
     },
     "execution_count": 18,
     "metadata": {},
     "output_type": "execute_result"
    }
   ],
   "source": [
    "X"
   ]
  },
  {
   "cell_type": "code",
   "execution_count": 19,
   "outputs": [
    {
     "data": {
      "text/plain": "{'contact_job_title': {0: ' Director of Property Management',\n  1: ' Senior Regional VP',\n  2: '(DUPE) Regional Manager',\n  3: '(NLWC) Director of IT',\n  4: '(NLWC)VP of Development/Managing Director of Multifamily',\n  5: '3 Works',\n  6: '3rd party answering service ',\n  7: '633 Palms PM',\n  8: 'A and R Clerk',\n  9: 'AP',\n  10: 'AP Manager',\n  11: 'AP Specialist',\n  12: 'AP/HR',\n  13: 'AP/PM',\n  14: 'AR',\n  15: 'AR Manager',\n  16: 'AVP',\n  17: 'AVP of Residential',\n  18: 'AVP of Training',\n  19: 'Abington Properties',\n  20: 'Account Admin',\n  21: 'Account Executive',\n  22: 'Account Manager',\n  23: 'Account Manager & Realtor',\n  24: 'Account Manager & Training Agent',\n  25: 'Account Specialist',\n  26: 'Account Supervisor',\n  27: 'Accountant',\n  28: 'Accountant & Office Manager',\n  29: 'Accountant/Lease Admin',\n  30: 'Accounting',\n  31: 'Accounting ',\n  32: 'Accounting & Finance Associate',\n  33: 'Accounting & HR Controller',\n  34: 'Accounting (handles portal)',\n  35: 'Accounting Admin',\n  36: 'Accounting Asset Manager',\n  37: 'Accounting Assistant',\n  38: 'Accounting Associate',\n  39: 'Accounting Bookkeeper',\n  40: 'Accounting Clerk',\n  41: 'Accounting Coordinator',\n  42: 'Accounting Department',\n  43: 'Accounting Director',\n  44: 'Accounting Manager',\n  45: 'Accounting Manager/ Office Manager',\n  46: 'Accounting Manager/Operations Support',\n  47: 'Accounting Property Specialist',\n  48: 'Accounting Services Officer',\n  49: 'Accounting Specialist',\n  50: 'Accounting Supervisor',\n  51: 'Accounting System Manager',\n  52: 'Accounting Vice President, Property Management',\n  53: 'Accounting and Human Resources',\n  54: 'Accounting and Human Resources Department',\n  55: 'Accounting and Rent Collection',\n  56: 'Accounting/HR Assistant',\n  57: 'Accounting/PM',\n  58: 'Accounts',\n  59: 'Accounts Assistant & Manager',\n  60: 'Accounts Payable',\n  61: 'Accounts Payable Coordinator',\n  62: 'Accounts Payable Department',\n  63: 'Accounts Payable Manager',\n  64: 'Accounts Payable Specialist',\n  65: 'Accounts Payable and Office Management',\n  66: 'Accounts Payable and Receivable',\n  67: 'Accounts Payable and Receiving',\n  68: 'Accounts Payables Specialist',\n  69: 'Accounts Receivable',\n  70: 'Accounts Receivable Clerk',\n  71: 'Accounts Receivable Manager',\n  72: 'Accounts Receivable Specialist',\n  73: 'Accounts Receivable Supervisor',\n  74: 'Accounts Receivable Yardi Specialist',\n  75: 'Accounts and Maintenance',\n  76: 'Accouts Payable Manager',\n  77: 'Accredited Residential Manager',\n  78: 'Acquisition Associate',\n  79: 'Acquisition Specialist',\n  80: 'Acquisition and Asset Manager',\n  81: 'Acquisitions',\n  82: 'Acquisitions Analyst',\n  83: 'Acquisitions Associate',\n  84: 'Acquisitions Chief & Officer',\n  85: 'Acquisitions Head',\n  86: 'Acquisitions Partner',\n  87: 'Acquisitions Senior Associate',\n  88: 'Acquisitions and Operations Associate',\n  89: 'Activities Director',\n  90: 'Adams Properties',\n  91: 'Adler Residential- Property Assistant & Manager',\n  92: 'Admin',\n  93: 'Admin Assistant',\n  94: 'Admin Director',\n  95: 'Admin Director and Property Manager',\n  96: 'Admin Specialist',\n  97: 'Admin and CAD Operator',\n  98: 'Admin and Leasing Agent',\n  99: 'Admin. Asst',\n  100: 'Admin/Accounting Director',\n  101: 'Administration Assistant',\n  102: 'Administration and Property Management',\n  103: 'Administrative & Compliance Assistant',\n  104: 'Administrative Assistant',\n  105: 'Administrative Assistant II',\n  106: 'Administrative Assistant Maintenance Department',\n  107: 'Administrative Assistant to the COO & HR Director',\n  108: 'Administrative Assistant/ Site Manager',\n  109: 'Administrative AssistantShowing Specialist',\n  110: 'Administrative Coordinator',\n  111: 'Administrative Executive Assistant',\n  112: 'Administrative Manager',\n  113: 'Administrative Marketing Assistant',\n  114: 'Administrative Operations Manager',\n  115: 'Administrator',\n  116: 'Affordable Asset Management Analyst',\n  117: 'Affordable Public Housing Operations',\n  118: 'Agent',\n  119: 'Agent, Property Manager',\n  120: 'Albuquerque Area Manager',\n  121: 'Algin Management',\n  122: 'Allied Property Management',\n  123: 'Ammons Pittman Property Management',\n  124: 'Analyst',\n  125: 'Ancillary Services Manager',\n  126: 'Angela Ortiz-Giraldo Collections Administrator',\n  127: 'Anthology Management',\n  128: 'Apartment Accounting Senior Administrator',\n  129: 'Apartment Asset Manager',\n  130: 'Apartment Leasing Specialist',\n  131: 'Apartment Manager',\n  132: 'Apartment Professional',\n  133: 'Application/Outreach Specialist',\n  134: 'Apt. Management',\n  135: 'Aquisitions',\n  136: 'Area Assistant Manager',\n  137: 'Area Community Manager',\n  138: 'Area Director',\n  139: 'Area Director, Operations',\n  140: 'Area General Manager',\n  141: 'Area Leasing Director',\n  142: 'Area Maintenance Supervisor',\n  143: 'Area Manager',\n  144: 'Area Manager ( Condominiums )',\n  145: 'Area Manager (Las Vegas)',\n  146: 'Area Manager ARM',\n  147: 'Area Manager Bryan',\n  148: 'Area Manager of Multi-Family Housing',\n  149: 'Area Manager of San Antonio, Texas & Tucson, Arizona',\n  150: 'Area Manager, Training Coordinator',\n  151: 'Area Manager, Valley Income Properties',\n  152: 'Area PM',\n  153: 'Area Resident Service Manager',\n  154: 'Area Supervisor',\n  155: 'Area Supervisor/Office Admin',\n  156: 'Area VP',\n  157: 'Area VP ',\n  158: 'Area Vice President',\n  159: 'Area manager',\n  160: 'Arizona Vice President, Property Management',\n  161: 'Asset Coordinator',\n  162: 'Asset Director',\n  163: 'Asset Management',\n  164: 'Asset Management Analyst',\n  165: 'Asset Management Assistant',\n  166: 'Asset Management Associate',\n  167: 'Asset Management Coordinator',\n  168: 'Asset Management Director',\n  169: 'Asset Management Expense Analyst',\n  170: 'Asset Management Intern',\n  171: 'Asset Management Revenue Analyst',\n  172: 'Asset Management Specialist',\n  173: 'Asset Manager',\n  174: 'Asset Manager ',\n  175: 'Asset Manager & Acquisitions Associate',\n  176: 'Asset Manager & Compliance Officer',\n  177: 'Asset Manager & Managing Broker',\n  178: 'Asset Manager - Villa Campana and Crestview Townhomes',\n  179: 'Asset Manager, Housing Authority',\n  180: 'Asset Manager/Regional',\n  181: 'Asset VP/Multifamily Ops',\n  182: 'Asset manager',\n  183: 'Asset/Regional',\n  184: 'Assistaint Community Manager, The Ashland',\n  185: 'Assistant',\n  186: 'Assistant Accountant',\n  187: 'Assistant Apartment Manager',\n  188: 'Assistant Asset Manager',\n  189: 'Assistant Bookkeeper - Commercial Property Manager',\n  190: 'Assistant Broker',\n  191: 'Assistant Community Director',\n  192: 'Assistant Community Manager',\n  193: 'Assistant Controller',\n  194: 'Assistant Director',\n  195: 'Assistant Director Housing Choice Vouchers',\n  196: 'Assistant Director Of Recertification',\n  197: 'Assistant Director Property Management',\n  198: 'Assistant Director of Accounting',\n  199: 'Assistant Director of On-Site Property Management',\n  200: 'Assistant Director of Operations',\n  201: 'Assistant Director of Property Management',\n  202: 'Assistant Director of Property Operations',\n  203: 'Assistant Director of Resident and Public Relations',\n  204: 'Assistant Director of Residential Leasing',\n  205: 'Assistant Director of Residential Management',\n  206: 'Assistant Director, Asset Management',\n  207: 'Assistant Director, Capital Construction',\n  208: 'Assistant Director, Capital Construction Department',\n  209: 'Assistant Director, Operations',\n  210: 'Assistant Director, Property Management',\n  211: 'Assistant Director, Rental Property Management',\n  212: 'Assistant Director, Residential Property Management',\n  213: 'Assistant Director, Residential Services',\n  214: 'Assistant Director, Sales, Leasing & Marketing',\n  215: 'Assistant General Manager',\n  216: 'Assistant General Manager, Multifamily',\n  217: 'Assistant Housing Director',\n  218: 'Assistant Manager',\n  219: 'Assistant Manager - La Mirage Resort',\n  220: 'Assistant Manager I William Penn Apartment Homes I',\n  221: 'Assistant Manager and Compliance Director (Dual Role)',\n  222: 'Assistant Manager and Leasing Consultant',\n  223: 'Assistant Manager, Client Services',\n  224: 'Assistant Manager, Leasing & Agent',\n  225: 'Assistant Manager, Operations & Maintenance',\n  226: 'Assistant Manager, Operations, Hccp',\n  227: 'Assistant Office Manager',\n  228: 'Assistant Ops Dir',\n  229: 'Assistant PM',\n  230: 'Assistant PM/Front Desk',\n  231: 'Assistant Portfolio Manager',\n  232: 'Assistant Project Manager',\n  233: 'Assistant Property Manager',\n  234: 'Assistant Property Supervisor',\n  235: 'Assistant Propery Manager',\n  236: 'Assistant Propety Manager',\n  237: 'Assistant RPM',\n  238: 'Assistant Regional Director',\n  239: 'Assistant Regional Maintenance Director',\n  240: 'Assistant Regional Manager',\n  241: 'Assistant Regional Manager, Andrews Ridge Apartments',\n  242: 'Assistant Regional Portfolio Manager',\n  243: 'Assistant Regional Property Manager',\n  244: 'Assistant Regional Vice President',\n  245: 'Assistant Resident Manager',\n  246: 'Assistant Resident Manager and Leasing Agent',\n  247: 'Assistant Resident Manager and Social Media Manager',\n  248: 'Assistant Residential Manager',\n  249: 'Assistant Site Manager',\n  250: 'Assistant Systems Specialist',\n  251: 'Assistant To Chief Executive Officer',\n  252: 'Assistant To Chief Executive Officer and President',\n  253: 'Assistant To General Manager',\n  254: 'Assistant To Saul Silber',\n  255: 'Assistant To The Vice President Of Operations',\n  256: 'Assistant To the Director of Finance',\n  257: 'Assistant To the President',\n  258: 'Assistant VP',\n  259: 'Assistant VP - TN/SC',\n  260: 'Assistant VP - Western Region',\n  261: 'Assistant VP of Internal Operations',\n  262: 'Assistant VP of Operations',\n  263: 'Assistant VP of Residential Accounting',\n  264: 'Assistant VP, Asset Management',\n  265: 'Assistant VP, Asset Management & Finance',\n  266: 'Assistant VP, Information Technology',\n  267: 'Assistant VP, Leasing',\n  268: 'Assistant VP, Operations',\n  269: 'Assistant VP, Operations Downtown (Portland)',\n  270: 'Assistant VP, Organization Development',\n  271: 'Assistant VP, Property Management',\n  272: 'Assistant VP, To of Management',\n  273: 'Assistant VP-LA/MS',\n  274: 'Assistant VP/Director of Property Management',\n  275: 'Assistant Vice President',\n  276: 'Assistant Vice President ',\n  277: 'Assistant Vice President & Assistant Controller',\n  278: 'Assistant Vice President & Corporate Controller & Director, Residential Accounting',\n  279: 'Assistant Vice President & Manager, Operations',\n  280: 'Assistant Vice President & Portfolio Manager',\n  281: 'Assistant Vice President & Regional Controller',\n  282: 'Assistant Vice President & Regional Manager, Property',\n  283: 'Assistant Vice President & Services Director, Risk Management & Insurance',\n  284: 'Assistant Vice President of Affordable Housing',\n  285: 'Assistant Vice President of Property Management',\n  286: 'Assistant Vice President,  Business Systems & Support',\n  287: 'Assistant Vice President- Rental Assistance',\n  288: 'Assistant property manager',\n  289: 'Assistant to CEO',\n  290: 'Assitant Community Manager',\n  291: 'Assitant Housing Manager',\n  292: 'Assitant Regional Property Manager',\n  293: 'Associate',\n  294: 'Associate Asset Manager',\n  295: 'Associate Broker and Leasing Coordinator',\n  296: 'Associate Broker and Owner Services',\n  297: 'Associate Community Manager',\n  298: 'Associate Dir, Prop Management',\n  299: 'Associate Director',\n  300: 'Associate Director Property Operations',\n  301: 'Associate Director of Operations',\n  302: 'Associate Director of Property Management',\n  303: 'Associate Director of Residential Leasing',\n  304: 'Associate Director, Lease Renewal',\n  305: 'Associate Director, Portfolio',\n  306: 'Associate Director, Property Management',\n  307: 'Associate Director, Property Operations',\n  308: 'Associate Director, Real Estate',\n  309: 'Associate Executive Manager',\n  310: 'Associate Partner/Area Supervisor',\n  311: 'Associate Portfolio Manager',\n  312: 'Associate Regional Manager',\n  313: 'Associate Regional Property Manager',\n  314: 'Associate VP',\n  315: 'Associate VP ',\n  316: 'Associate VP, Asset Management',\n  317: 'Associate VP, Investments',\n  318: 'Associate VP, Marketing & Recruiting',\n  319: 'Associate Vice President',\n  320: 'Association Assistant Manager',\n  321: 'Association Division Manager',\n  322: 'Association Manager',\n  323: 'Association Manager Professional Property Management',\n  324: 'Association Managing Agent',\n  325: 'Association and Property Management',\n  326: 'Asst Manager',\n  327: 'Asst VP Area Operations ',\n  328: 'Asst. Portfolio Manager',\n  329: 'Asst. Property Manager',\n  330: 'Asst. Vice President',\n  331: 'Asst. regional manager ',\n  332: 'Astor Apartments Building Manager',\n  333: 'At Origin Credit Advisers President & Chief Investment Officer',\n  334: 'Azemika, The Family Law Lawyers',\n  335: 'Back End Developer',\n  336: 'BanCal Property Management',\n  337: 'Barge Properties',\n  338: 'Beanstalk Real Estate Solutions',\n  339: 'Benefits HRIS Director, Compensation',\n  340: 'Billing Specialist',\n  341: 'Board Member',\n  342: \"Bob's Wife, Influencer\",\n  343: 'Bookeeper and Executive Assistant',\n  344: 'Bookkeeper',\n  345: 'Bookkeeper Administrative Assistant',\n  346: 'Bookkeeper and Controller',\n  347: 'Bookkeeper and Office Assistant',\n  348: 'Bookkeeping',\n  349: 'Bookkeeping Manager',\n  350: 'Borrower Management',\n  351: 'Borrower and Vice President',\n  352: 'Branch Manager',\n  353: 'Branch Manager (Sacramento)',\n  354: 'Brand & Educational Strategist',\n  355: 'Brand Director of Operations and Acquisitions',\n  356: 'Brand Experience Director, Membership',\n  357: 'Brand Manager',\n  358: 'Brand Read Bio Director, Design',\n  359: 'Brand Senior Director, Corporate Communications',\n  360: 'Broker',\n  361: 'Broker & Owner',\n  362: 'Broker / Owner',\n  363: 'Broker / Owner / Manager',\n  364: 'Broker Associate',\n  365: 'Broker Owner',\n  366: 'Broker Owner/ 2023  NARPM Triangle Chapter President',\n  367: 'Broker and Accounting Supervisor',\n  368: 'Broker and General Manager',\n  369: 'Broker and Head Property Manager',\n  370: 'Broker and Manager',\n  371: 'Broker and Owner',\n  372: 'Broker and President',\n  373: 'Broker and Principal',\n  374: 'Broker and Property Manager',\n  375: 'Broker, Owner',\n  376: 'Broker, Property Manager',\n  377: 'Broker/ Owner',\n  378: 'Broker/Director of Marketing',\n  379: 'Broker/Owner',\n  380: 'Broker/Partner',\n  381: 'Broker/Property Manager',\n  382: 'Brokerage Leasing Coordinator',\n  383: 'Buckingham Foundation Director, Operations',\n  384: 'Buckingham Property Management',\n  385: 'Building Manager',\n  386: 'Business Address I',\n  387: 'Business Analyst',\n  388: 'Business Development',\n  389: 'Business Development & Customer Relations',\n  390: 'Business Development & Strategic Marketing Director',\n  391: 'Business Development Executive',\n  392: 'Business Development Manager',\n  393: 'Business Development Partner',\n  394: 'Business Development Specialist',\n  395: 'Business Intelligence Specialist',\n  396: 'Business Manager',\n  397: 'Business Operations',\n  398: 'Business Operations Analyst',\n  399: 'Business Operations Manager',\n  400: 'Business Operations Systems Analyst',\n  401: 'Business Ops Manager',\n  402: 'Business Owner',\n  403: 'Business Process Manager',\n  404: 'Business Relationship Associate',\n  405: 'Business Services Manager',\n  406: 'Business Support',\n  407: 'Business System Director/Marketing',\n  408: 'Business Systems Manager',\n  409: 'Business/Admin Manager',\n  410: 'CAM',\n  411: 'CAM & NALP',\n  412: 'CAM Area Director',\n  413: 'CAM Community Manager',\n  414: 'CAM Regional Manager',\n  415: 'CAM, CALP',\n  416: 'CAM, CAPS',\n  417: 'CAM, CPO, NALP',\n  418: 'CAPEX Director',\n  419: 'CAPS, CAM',\n  420: 'CEO',\n  421: 'CEO & President',\n  422: 'CEO & Treasurer',\n  423: 'CEO NLWC',\n  424: 'CEO/Broker',\n  425: 'CEO/COO',\n  426: 'CEO/Co-Manager',\n  427: 'CEO/Co-President',\n  428: 'CEO/Co-founder/Director',\n  429: 'CEO/Executive Director',\n  430: 'CEO/Executive VP',\n  431: 'CEO/Firm Council Chairperson',\n  432: 'CEO/Founder',\n  433: 'CEO/Owner',\n  434: 'CEO/President',\n  435: 'CEO/President-MO',\n  436: 'CEO/President/Board Secretary',\n  437: 'CFO',\n  438: 'CFO ',\n  439: 'CFO / Treasurer',\n  440: 'CFO, Controller',\n  441: 'CFO/COO',\n  442: 'CFO/Controller',\n  443: 'CFO/Director of Human Resources',\n  444: 'CFO?',\n  445: 'CHIEF OPERATING OFFICER',\n  446: 'CIO',\n  447: 'CMO',\n  448: 'COLLECTIONS MANAGER',\n  449: 'COMMERCIAL!',\n  450: 'COMMUNITY MANAGER',\n  451: 'COO',\n  452: 'COO / President of TESCO Properties',\n  453: 'COO of Operations',\n  454: 'COO, Principal',\n  455: 'COO/ CFO',\n  456: 'COO/Head of JEM Multifamily Operations',\n  457: 'COO/President',\n  458: 'CTO',\n  459: 'California Oaks Property Management',\n  460: 'California Property Services',\n  461: 'Campus Manager',\n  462: 'Capital Properties Asset Manager (South)',\n  463: 'Carousel Development Corporation',\n  464: 'Cash Accountant',\n  465: 'Central & Western Divisions Talent Acquisitions Recruiter',\n  466: 'Central Calif.l District Manager',\n  467: 'Central Management',\n  468: 'Central Oregon Area Manager',\n  469: 'Chairman',\n  470: 'Chairman & CEO',\n  471: 'Chairman & Chief Executive Officer',\n  472: 'Chairman and Ceo',\n  473: 'Chairman of the Board',\n  474: 'Chairman, Chief Executive Officer and Founder',\n  475: 'Chairman/CEO',\n  476: 'Chairman/Co-CEO',\n  477: 'Chapter President',\n  478: 'Cheif of Staff To CEO',\n  479: 'Cheir Growth officer',\n  480: \"Cheryl's Assistant\",\n  481: 'Chief',\n  482: 'Chief Accounting Officer',\n  483: 'Chief Acquisitions Officer',\n  484: 'Chief Administrative Officer',\n  485: 'Chief Asset Management Officer',\n  486: 'Chief Asset Officer',\n  487: 'Chief Brand Officer',\n  488: 'Chief Business Development Officer',\n  489: 'Chief Community Officer',\n  490: 'Chief Compliance Officer',\n  491: 'Chief Development & Asset Management Officer',\n  492: 'Chief Development Officer',\n  493: 'Chief Development Officer/Partner',\n  494: 'Chief Engineer',\n  495: 'Chief Executive Officer',\n  496: 'Chief Executive Officer & Broker',\n  497: 'Chief Executive Officer & Chairman',\n  498: 'Chief Executive Officer & Co Owner',\n  499: 'Chief Executive Officer & Co-Founder',\n  500: 'Chief Executive Officer & Director',\n  501: 'Chief Executive Officer & Director, Marketing',\n  502: 'Chief Executive Officer & Financial Officer',\n  503: 'Chief Executive Officer & Founder',\n  504: 'Chief Executive Officer & Owner',\n  505: 'Chief Executive Officer & Partner',\n  506: 'Chief Executive Officer & President',\n  507: 'Chief Executive Officer & President & Counsel',\n  508: 'Chief Executive Officer (Development)',\n  509: 'Chief Executive Officer/Co Founder',\n  510: 'Chief Executive/Regional Manager',\n  511: 'Chief Financial Officer',\n  512: 'Chief Financial Officer & Chief Operating Officer',\n  513: 'Chief Financial Officer & Controller',\n  514: 'Chief Financial Officer & Executive Vice President',\n  515: 'Chief Financial Officer & Manager, Operations',\n  516: 'Chief Financial Officer & Principal',\n  517: 'Chief Financial Officer & Senior VP',\n  518: 'Chief Financial Officer & Senior Vice President',\n  519: 'Chief Financial Officer & Treasurer',\n  520: 'Chief Financial Officer & Vice President',\n  521: 'Chief Financial Officer - Property Management & Holding',\n  522: 'Chief Financial Officer and Chief Operating Officer',\n  523: 'Chief Financial Officer, Member',\n  524: 'Chief Financial Officer/COO',\n  525: 'Chief Financial Officer/Chief Operating Officer',\n  526: 'Chief Financial Officer/Manager-Senior Living',\n  527: 'Chief Financial Officer/Office Manager',\n  528: 'Chief Financial Officer/Partner',\n  529: 'Chief Financial Officer/Senior VP',\n  530: 'Chief Financial/Operations Officer',\n  531: 'Chief Housing Officer',\n  532: 'Chief Information & Technology Officer',\n  533: 'Chief Information Officer',\n  534: 'Chief Investment Officer',\n  535: 'Chief Investment Officer & Chief Development Officer',\n  536: 'Chief Investment Officer & Executive VP, Residential Financing',\n  537: 'Chief Investment Officer - Mulitfamily',\n  538: 'Chief Legal Officer',\n  539: 'Chief Marketing & Innovation Officer',\n  540: 'Chief Marketing Officer',\n  541: 'Chief Marketing Officer/Design Development Director',\n  542: 'Chief Operating & Compliance Officer',\n  543: 'Chief Operating Officer',\n  544: 'Chief Operating Officer & Chief Operating Officer',\n  545: 'Chief Operating Officer & Chief Technology Officer',\n  546: 'Chief Operating Officer & Licensed Realty Estate Broker',\n  547: 'Chief Operating Officer & Partner',\n  548: 'Chief Operating Officer & Principal, Acquisitions & Development',\n  549: 'Chief Operating Officer & Qualifying Broker',\n  550: 'Chief Operating Officer & Secretary Treasurer',\n  551: 'Chief Operating Officer - Management',\n  552: 'Chief Operating Officer - Residential',\n  553: 'Chief Operating Officer - commercial',\n  554: 'Chief Operating Officer Designated Broker',\n  555: 'Chief Operating Officer Hotel Division',\n  556: 'Chief Operating Officer, Managing Partner',\n  557: 'Chief Operating Officer, Real Estate Management',\n  558: 'Chief Operating Officer, Residential Management',\n  559: 'Chief Operating Officer, U.S. Operations',\n  560: 'Chief Operating Officer/ Co Founder',\n  561: 'Chief Operating Officer/Chief Financial Officer',\n  562: 'Chief Operating Officer/Executive VP',\n  563: 'Chief Operating Officer/Managing Broker ',\n  564: 'Chief Operating Officer/Treasurer',\n  565: 'Chief Operating and Financial Officer',\n  566: 'Chief Operation Officer/Partner',\n  567: 'Chief Operations Officer',\n  568: 'Chief Orperating Officer',\n  569: 'Chief People Officer',\n  570: 'Chief Performance Officer/Comptroller',\n  571: 'Chief Program Officer',\n  572: 'Chief Property Management Officer',\n  573: 'Chief Real Estate Officer',\n  574: 'Chief Strategy Officer',\n  575: 'Chief Strategy Officer & Chief Financial Officer',\n  576: 'Chief Strategy Officer & General Counsel',\n  577: 'Chief Technology Officer',\n  578: 'Chief Technology Officer & Chief Information Officer, Information Technology Management',\n  579: 'Chief Transformation Officer',\n  580: 'Chief of Resident Initiatives and Facilities Director',\n  581: 'Chief of Staff',\n  582: 'Chief of Staff of Property Management',\n  583: 'City Community Manager',\n  584: 'Clarkson Executive Park',\n  585: 'Clerical Work',\n  586: 'Clerk and Clerical Receptionist',\n  587: 'Client Development Service Manager',\n  588: 'Client Service Accountant',\n  589: 'Client Service Manager',\n  590: 'Client Services Coordinator',\n  591: 'Closing Coordinator',\n  592: 'Co Owner',\n  593: 'Co- Operations Owner & Manager',\n  594: 'Co-CEO',\n  595: 'Co-CEO/President',\n  596: 'Co-Chief Executive Officer/President',\n  597: 'Co-Founder',\n  598: 'Co-Founder & CMO',\n  599: 'Co-Founder & Managing Partner',\n  600: 'Co-Founder & Principal',\n  601: 'Co-Founder/CEO',\n  602: 'Co-Founder/Co-Chief Executive Officer/President',\n  603: 'Co-Founder/Managing Principal/Acquisitions',\n  604: 'Co-Founder/President',\n  605: 'Co-Founder/Principal',\n  606: 'Co-Managing Partner',\n  607: 'Co-Owner',\n  608: 'Co-Owner/Chief Marketing & Technology Officer',\n  609: 'Co-Owner/Executive VP',\n  610: 'Co-Owner/Managing Partner',\n  611: 'Co-Owner/Operations Manager',\n  612: 'Co-Owner/President',\n  613: 'Co-Owner/Principal',\n  614: 'Co-Owner/Property Manager',\n  615: 'Co-Owner/VP',\n  616: 'Co-Owners',\n  617: 'Co-President',\n  618: 'Co-founder & Chief Operating Officer',\n  619: 'Co-managing Member',\n  620: 'Cola Sahma',\n  621: 'Collection Manager',\n  622: 'Collections',\n  623: 'Collections Administrator',\n  624: 'Collections Agent',\n  625: 'Collections Manager',\n  626: 'Collections Specialist',\n  627: 'Commercial Associate',\n  628: 'Commercial Leasing and Management',\n  629: 'Commercial Maintenance Supervisor',\n  630: 'Commercial Manager',\n  631: 'Commercial Managing Broker',\n  632: 'Commercial Propert Manager',\n  633: 'Commercial Property Management Firm Accounting Controller',\n  634: 'Commercial Property Supervisor',\n  635: 'Commercial, On-Site Management Senior Property Manager',\n  636: 'Communication Marketing Analyst',\n  637: 'Communications & Marketing',\n  638: 'Communities For Seniors',\n  639: 'Community Administrator',\n  640: 'Community Assistant',\n  641: 'Community Assistant Manager',\n  642: 'Community Association Manager',\n  643: 'Community Center Director',\n  644: 'Community Director',\n  645: 'Community Leader',\n  646: 'Community Leasing Consultant',\n  647: 'Community Manager',\n  648: 'Community Manager - Apartments',\n  649: 'Community Manager - Broadway Estates & Mesa Village',\n  650: 'Community Manager - Notary Public',\n  651: 'Community Manager - Stone Creek Apartments',\n  652: 'Community Manager - Sun Terra',\n  653: 'Community Manager At Greenview Properties',\n  654: 'Community Manager and Property Manager',\n  655: 'Community Manager and Property Manager, Owner, Contact Information',\n  656: 'Community Manager of Greenway Flats',\n  657: 'Community Manager, Aria',\n  658: 'Community Manager, Blu',\n  659: 'Community Manager, COS',\n  660: 'Community Manager, Eleven10',\n  661: 'Community Manager, Experience Leader',\n  662: 'Community Manager, Lake Pointe Apartments',\n  663: 'Community Manager, Renaissance Apartments',\n  664: 'Community Manager, Uptown Square Apartments',\n  665: 'Community Manager. SUR Southside Quarter. Viewpoint Equities LLC',\n  666: 'Community Operations Assistant',\n  667: 'Community Reations Director',\n  668: 'Community Sales Manager',\n  669: 'Community Support Leader',\n  670: 'Community Support Specialist',\n  671: 'Community director & Area manager',\n  672: 'Compliance Director',\n  673: 'Compliance Manager',\n  674: 'Compliance Officer',\n  675: 'Compliance Officer & Accountant',\n  676: 'Compliance Site Manager',\n  677: 'Compliance Specialist',\n  678: 'Compliance Specialist & Senior Property Manager',\n  679: 'Compliance/Regional',\n  680: 'Comptroller',\n  681: 'Concierge',\n  682: 'Condo Portfolio Manager',\n  683: 'Coney Realty and Management',\n  684: 'Consensys Property Management',\n  685: 'Construction Coordinator',\n  686: 'Construction Project Coordinator',\n  687: 'Construction and Maintenance Superintendent',\n  688: 'Consultant',\n  689: 'Consultant / Advisor',\n  690: 'Consumer Experience Director',\n  691: 'Content Marketing Specialist',\n  692: 'Contract Administrator',\n  693: 'Controler',\n  694: 'Controller',\n  695: 'Controller & Asset Manager',\n  696: 'Controller & Investment Associate',\n  697: 'Controller & Manager, Human Resource',\n  698: 'Controller & Manager, Human Resources',\n  699: 'Controller & Senior VP',\n  700: 'Controller & Team Member',\n  701: 'Controller - M&M Realty Partners',\n  702: 'Controller/CFO',\n  703: 'Controller/Chief Financial Officer',\n  704: 'Controller/Payroll',\n  705: 'Controller/President',\n  706: 'Corporate Accountant',\n  707: 'Corporate Assistant Controller',\n  708: 'Corporate Controller',\n  709: 'Corporate Counsel/Chief Financial Officer',\n  710: 'Corporate Development Manager',\n  711: 'Corporate Director',\n  712: 'Corporate Director Assistant and Regional Manager',\n  713: 'Corporate Director, Marketing',\n  714: 'Corporate Engineer',\n  715: 'Corporate Legal Administrator',\n  716: 'Corporate Manager',\n  717: 'Corporate Marketing / Leasing Manager',\n  718: 'Corporate Marketing Director',\n  719: 'Corporate Office Administrator',\n  720: 'Corporate Office Manager',\n  721: 'Corporate Real Estate Director',\n  722: 'Corporate Training Specialist',\n  723: 'Corporate Vice President',\n  724: 'Corson Group',\n  725: 'Creative Director',\n  726: 'Credit/Collections Manager',\n  727: 'Customer Account Manager',\n  728: 'Customer Care Manager',\n  729: 'Customer Relations Coordinator',\n  730: 'Customer Service Lead',\n  731: 'Customer Service Representative',\n  732: 'DIRECTOR OF LEASING',\n  733: 'DIRECTOR OF MULTIFAMILY',\n  734: 'DM',\n  735: 'DNC Manager, Property',\n  736: 'Data Scientist',\n  737: 'Debt Recovery',\n  738: 'Deceased',\n  739: 'Department Manager',\n  740: 'Department Manager, Operations Compliance',\n  741: 'Department, Asset Management Asset Manager',\n  742: 'Deputy Director',\n  743: 'Deputy Director of Asset Management & Special Projects',\n  744: 'Deputy Director of Finance & Asset Management',\n  745: 'Deputy Director, Department of Housing Operations',\n  746: 'Deputy Director, Housing Operations',\n  747: 'Deputy Director, Operations',\n  748: 'Deputy Director, Planning & Development',\n  749: 'Deputy Director, Property Maintenance',\n  750: 'Deputy Executive Director',\n  751: 'Deputy Managing Director',\n  752: 'Design, Leasing, Sales',\n  753: 'Designated Broker',\n  754: 'Designated Managing Broker and Owner',\n  755: 'Development & Finance VP',\n  756: 'Development Associate',\n  757: 'Development Project Manager',\n  758: 'Development Specialist',\n  759: 'Development Vice President & Director',\n  760: 'Development/Acquisitions',\n  761: 'Digital Marketer & Administrator',\n  762: 'Digital Marketing Coordinator',\n  763: 'Digital Marketing Manager',\n  764: 'Digital Marketing Operating Officerdinator Chief',\n  765: 'Digital Marketing Specialist',\n  766: 'Digital Marketing Strategist',\n  767: 'Digital Media Manager',\n  768: 'Dir Residential Services',\n  769: 'Dir of Asset Management',\n  770: 'Dir of Business Ops',\n  771: 'Dir of Engineering',\n  772: 'Dir of Leasing',\n  773: 'Dir of Marketing',\n  774: 'Dir of Operations',\n  775: 'Dir of Ops',\n  776: 'Dir of Property Management',\n  777: 'Dir of Property Management and Resident Resources',\n  778: 'Dir of Property Operations',\n  779: 'Dir of Residential Services',\n  780: 'Dir of Sales and Leasing',\n  781: 'Dir, Commercial Operations',\n  782: 'Dir. Asset Performance',\n  783: 'Dir. Property Systems Support',\n  784: 'Dir. Sales & Marketing',\n  785: 'Dir. of Conventional Housing',\n  786: 'Dir. of Marketing & Design ',\n  787: 'Dir. of Operations',\n  788: 'Dir. of Training',\n  789: 'Directof of Housing',\n  790: 'Director',\n  791: 'Director  Housing Management Services',\n  792: 'Director - Asset Management',\n  793: 'Director - Investments',\n  794: 'Director - Operations',\n  795: 'Director -Residential Management',\n  796: 'Director Asset Management',\n  797: 'Director Asset/Property',\n  798: 'Director Community Relations',\n  799: 'Director Finance Analyst',\n  800: 'Director I, Cam of Operations',\n  801: 'Director Marketing',\n  802: 'Director Of Business Development',\n  803: 'Director Of Client Services',\n  804: 'Director Of Collections - AR',\n  805: 'Director Of Marketing',\n  806: 'Director Of Marketing And Real Estate',\n  807: 'Director Of Operations',\n  808: 'Director Of Property Management',\n  809: 'Director Of Property Operations',\n  810: 'Director Of Resident Services',\n  811: 'Director Of Telecommunications',\n  812: 'Director Property',\n  813: 'Director Property Management',\n  814: 'Director Property Ops',\n  815: 'Director Residential Leasing',\n  816: 'Director Strategy & Planning ',\n  817: 'Director and Regional General Manager',\n  818: 'Director of Accounting',\n  819: 'Director of Accounting/HR',\n  820: 'Director of Acquisitions',\n  821: 'Director of Acquisitions & Leasing',\n  822: 'Director of Admin',\n  823: 'Director of Affordable Housing',\n  824: 'Director of Ancillary Services',\n  825: 'Director of Asset Management',\n  826: 'Director of Asset Management and Capital Improvements',\n  827: 'Director of Beacon Communities',\n  828: 'Director of Business & Marketing',\n  829: 'Director of Business Development',\n  830: 'Director of Business Development & Resident Relations',\n  831: 'Director of Business Development and Brand Strategy',\n  832: 'Director of Business Operations',\n  833: 'Director of Business Processes & Procedures',\n  834: 'Director of Business Systems & Training',\n  835: 'Director of Business Transformation & Strategy',\n  836: 'Director of Change Management',\n  837: 'Director of Collections',\n  838: 'Director of Community Engagement',\n  839: 'Director of Community Management',\n  840: 'Director of Community Programs/External Relations',\n  841: 'Director of Compliance',\n  842: 'Director of Compliance / LIHTC',\n  843: 'Director of Conventional Housing',\n  844: 'Director of Corporate Housing',\n  845: 'Director of Corporate Operations',\n  846: 'Director of Customer Experience',\n  847: 'Director of Developer Relations & CAM Team Leader',\n  848: 'Director of Development',\n  849: 'Director of Digital Marketing',\n  850: 'Director of Education & Data Management',\n  851: 'Director of Employee Relations & Risk Management',\n  852: 'Director of Engagement',\n  853: 'Director of Field Operations',\n  854: 'Director of Finance',\n  855: 'Director of Finance/Accounting',\n  856: 'Director of Finance/CFO',\n  857: 'Director of Finance/Managing Member',\n  858: 'Director of Finance; Vice President',\n  859: 'Director of Financial Operations',\n  860: 'Director of Financial Operations & Controller',\n  861: 'Director of Financial Ops',\n  862: 'Director of Financial Planning',\n  863: 'Director of Financial Reporting',\n  864: 'Director of Financial Services',\n  865: 'Director of Fund Development & Public Relations',\n  866: 'Director of HR',\n  867: 'Director of HR/Payroll',\n  868: 'Director of Housing',\n  869: 'Director of Housing Choice Voucher Program',\n  870: 'Director of Housing Development',\n  871: 'Director of Housing Management',\n  872: 'Director of Housing Management Operations',\n  873: 'Director of Housing Programs',\n  874: 'Director of Housing Services',\n  875: 'Director of I.T./Regional Manager',\n  876: 'Director of IT',\n  877: 'Director of IT Management',\n  878: 'Director of Information Technology',\n  879: 'Director of Internal Operations',\n  880: 'Director of Kane Residential',\n  881: 'Director of Learning and Develoment',\n  882: 'Director of Learning and Development',\n  883: 'Director of Leased Housing',\n  884: 'Director of Leasing',\n  885: 'Director of Leasing & Marketing',\n  886: 'Director of Maintenance',\n  887: 'Director of Maintenance/AR',\n  888: 'Director of Management Information Systems',\n  889: 'Director of Management Operations',\n  890: 'Director of Management Ops',\n  891: 'Director of Management Services',\n  892: 'Director of Management – Student Housing Division',\n  893: 'Director of Manufactured Housing',\n  894: 'Director of Market Intelligence',\n  895: 'Director of Market Rate Housing',\n  896: 'Director of Market Rate Leasing',\n  897: 'Director of Marketing',\n  898: 'Director of Marketing & Client Services',\n  899: 'Director of Marketing & Communications',\n  900: 'Director of Marketing & Leasing',\n  901: 'Director of Marketing & Technology Innovation',\n  902: 'Director of Marketing & Training',\n  903: 'Director of Marketing and Brand Management',\n  904: 'Director of Marketing and Business Services',\n  905: 'Director of Marketing and Human Relations',\n  906: 'Director of Marketing and Technology',\n  907: 'Director of Marketing/Community Engagement',\n  908: 'Director of Marketing/VP',\n  909: 'Director of Media, Marketing & Attraction',\n  910: 'Director of Membership & Affiliate Services',\n  911: 'Director of Mission, Culture & People',\n  912: 'Director of Multi Family',\n  913: 'Director of Multi Family Housing',\n  914: 'Director of Multi-Family Housing',\n  915: 'Director of Multi-family, New Developments',\n  916: 'Director of Multifamily',\n  917: 'Director of Multifamily Housing Operations',\n  918: 'Director of Multifamily Operations',\n  919: 'Director of Multifamily Operations and Management',\n  920: 'Director of Multifamily Training',\n  921: 'Director of New Business - REM ',\n  922: 'Director of Operations',\n  923: 'Director of Operations ',\n  924: 'Director of Operations & Development',\n  925: 'Director of Operations & HR',\n  926: 'Director of Operations & IT',\n  927: 'Director of Operations & Strategy',\n  928: 'Director of Operations - CO Springs Division',\n  929: 'Director of Operations Strategy',\n  930: 'Director of Operations/Compliance',\n  931: 'Director of Operations/Partner',\n  932: 'Director of Operations/Property Management',\n  933: 'Director of Operations/Senior Compliance Director',\n  934: 'Director of Operatons ',\n  935: 'Director of Ops',\n  936: 'Director of Ops/PM',\n  937: 'Director of PM',\n  938: 'Director of PM/COO',\n  939: 'Director of PM/Leasing',\n  940: 'Director of Portfolio Management',\n  941: 'Director of Portfolio Office Management',\n  942: 'Director of Project & Asset Management',\n  943: 'Director of Project Management',\n  944: 'Director of Properties',\n  945: 'Director of Property Applications and Technology',\n  946: 'Director of Property Collections',\n  947: 'Director of Property Management',\n  948: 'Director of Property Management ',\n  949: 'Director of Property Management & Operations',\n  950: 'Director of Property Management / Compliance',\n  951: 'Director of Property Management Accounting',\n  952: 'Director of Property Management Operations',\n  953: 'Director of Property Management, Affordable',\n  954: 'Director of Property Management, Connecticut',\n  955: 'Director of Property Management-Operations',\n  956: 'Director of Property Managers',\n  957: 'Director of Property Mgmt ',\n  958: 'Director of Property Operations',\n  959: 'Director of Property Ops',\n  960: 'Director of Property Software',\n  961: 'Director of Property management',\n  962: 'Director of Property/Asset Management',\n  963: 'Director of Public Housing',\n  964: 'Director of Purchasing and Operations',\n  965: 'Director of Quality Assurance',\n  966: 'Director of Real Estate',\n  967: 'Director of Regional Operations',\n  968: 'Director of Rental',\n  969: 'Director of Rental Management',\n  970: 'Director of Rental Operations',\n  971: 'Director of Resident Advocacy',\n  972: 'Director of Resident Management',\n  973: 'Director of Resident Operations',\n  974: 'Director of Resident Services',\n  975: 'Director of Resident Services and Community Engagement',\n  976: 'Director of Resident Success',\n  977: 'Director of Residential',\n  978: 'Director of Residential Asset Management/Regional Manager',\n  979: 'Director of Residential Leasing',\n  980: 'Director of Residential Maintenance',\n  981: 'Director of Residential Management',\n  982: 'Director of Residential Operations',\n  983: 'Director of Residential Properties',\n  984: 'Director of Residential Property',\n  985: 'Director of Residential Property Management',\n  986: 'Director of Residential Real Estate ',\n  987: 'Director of Residential Rentals',\n  988: 'Director of Residential Services',\n  989: 'Director of Revenue Management',\n  990: 'Director of Revenue Management & Technology',\n  991: 'Director of Revenue Management and Marketing',\n  992: 'Director of Sales & Marketing',\n  993: 'Director of Sales/Leasing',\n  994: 'Director of Service Operations',\n  995: 'Director of Single Family Property Managers',\n  996: 'Director of Social Impact',\n  997: 'Director of Special Projects',\n  998: 'Director of Strategic Solutions',\n  999: 'Director of Strategic Tech',\n  ...},\n 'company_protfolio_type': {0: 'Association/Events;Multi Family',\n  1: 'HOA',\n  2: 'HOA;Manufactured Homes;Single Family',\n  3: 'HOA;Multi Family',\n  4: 'HOA;Multi Family;Single Family',\n  5: 'MISSING',\n  6: 'Manufactured Homes',\n  7: 'Manufactured Homes;Manufacturing Housing',\n  8: 'Manufactured Homes;Manufacturing Housing;Multi Family',\n  9: 'Manufactured Homes;Manufacturing Housing;Multi Family;Student Housing',\n  10: 'Manufactured Homes;Multi Family',\n  11: 'Manufactured Homes;Multi Family;Single Family',\n  12: 'Manufactured Homes;Rent (other)',\n  13: 'Manufacturing Housing',\n  14: 'Manufacturing Housing;Multi Family',\n  15: 'Manufacturing Housing;Multi Family;Rent (other);Single Family',\n  16: 'Manufacturing Housing;Multi Family;Single Family',\n  17: 'Multi Family',\n  18: 'Multi Family;Manufacturing Housing',\n  19: 'Multi Family;Rent (other)',\n  20: 'Multi Family;Single Family',\n  21: 'Multi Family;Single Family;Student Housing',\n  22: 'Multi Family;Student Housing',\n  23: 'Multi Family;Student Housing;HOA;Manufactured Homes',\n  24: 'Rent (other)',\n  25: 'Single Family',\n  26: 'Single Family;Multi Family',\n  27: 'Student Housing'},\n 'company_protfolio_subtype': {0: 'Affordable - HUD',\n  1: 'Affordable - HUD;Affordable - Tax Credit',\n  2: 'Affordable - HUD;Affordable - Tax Credit;Affordable - Other',\n  3: 'Affordable - HUD;Affordable - Tax Credit;Affordable - Other;Conventional',\n  4: 'Affordable - HUD;Affordable - Tax Credit;Affordable - Other;Senior Housing',\n  5: 'Affordable - HUD;Senior Housing',\n  6: 'Affordable - Other',\n  7: 'Affordable - Other;Affordable - HUD;Affordable - Tax Credit',\n  8: 'Affordable - Other;Conventional',\n  9: 'Affordable - Other;Senior Housing',\n  10: 'Affordable - Tax Credit;Affordable - Other',\n  11: 'Conventional',\n  12: 'Conventional;Affordable - HUD',\n  13: 'Conventional;Affordable - HUD;Affordable - Other',\n  14: 'Conventional;Affordable - HUD;Affordable - Tax Credit',\n  15: 'Conventional;Affordable - HUD;Affordable - Tax Credit;Affordable - Other',\n  16: 'Conventional;Affordable - HUD;Affordable - Tax Credit;Affordable - Other;Senior Housing',\n  17: 'Conventional;Affordable - HUD;Affordable - Tax Credit;Senior Housing',\n  18: 'Conventional;Affordable - Other',\n  19: 'Conventional;Affordable - Other;Affordable - HUD',\n  20: 'Conventional;Affordable - Other;Affordable - Tax Credit;Affordable - HUD',\n  21: 'Conventional;Affordable - Other;Senior Housing',\n  22: 'Conventional;Affordable - Tax Credit',\n  23: 'Conventional;Other',\n  24: 'Conventional;Senior Housing',\n  25: 'Conventional;Senior Housing;Affordable - Other',\n  26: 'Conventional;Student Housing',\n  27: 'Conventional;Student Housing;Affordable - HUD',\n  28: 'Conventional;Student Housing;Affordable - Other',\n  29: 'Conventional;Student Housing;Senior Housing',\n  30: 'MISSING',\n  31: 'Other',\n  32: 'Senior Housing',\n  33: 'Senior Housing;Affordable - Other;Affordable - HUD',\n  34: 'Senior Housing;Affordable - Tax Credit;Affordable - Other',\n  35: 'Student Housing',\n  36: 'Student Housing;Conventional'},\n 'company_segment': {0: 'Deep SMB',\n  1: 'Enterprise',\n  2: 'Mid Market',\n  3: 'No Company Units',\n  4: 'SMB',\n  5: 'Strategic'},\n 'company_state': {0: 'AL',\n  1: 'AR',\n  2: 'AZ',\n  3: 'Arizona',\n  4: 'Arkansas',\n  5: 'Beijing Shi',\n  6: 'British Columbia',\n  7: 'CA',\n  8: 'CO',\n  9: 'CT',\n  10: 'California',\n  11: 'Co',\n  12: 'Colorado',\n  13: 'DC',\n  14: 'DE',\n  15: 'FL',\n  16: 'Florida',\n  17: 'GA',\n  18: 'Georgia',\n  19: 'HI',\n  20: 'Hlavní město Praha',\n  21: 'IA',\n  22: 'ID',\n  23: 'IL',\n  24: 'IN',\n  25: 'Idaho',\n  26: 'Illinois',\n  27: 'KS',\n  28: 'KY',\n  29: 'Kentucky',\n  30: 'LA',\n  31: 'Louisiana',\n  32: 'MA',\n  33: 'MB',\n  34: 'MD',\n  35: 'ME',\n  36: 'MI',\n  37: 'MISSING',\n  38: 'MN',\n  39: 'MO',\n  40: 'MS',\n  41: 'MT',\n  42: 'Massachusetts',\n  43: 'Michigan',\n  44: 'Minnesota',\n  45: 'Missouri',\n  46: 'NC',\n  47: 'ND',\n  48: 'NE',\n  49: 'NH',\n  50: 'NJ',\n  51: 'NM',\n  52: 'NV',\n  53: 'NY',\n  54: 'Nebraska',\n  55: 'New Jersey',\n  56: 'New York',\n  57: 'North Carolina',\n  58: 'OH',\n  59: 'OK',\n  60: 'ON',\n  61: 'OR',\n  62: 'Ohio',\n  63: 'Oregon',\n  64: 'PA',\n  65: 'Pennsylvania',\n  66: 'RI',\n  67: 'SC',\n  68: 'SD',\n  69: 'South Carolina',\n  70: 'TN',\n  71: 'TX',\n  72: 'Texas',\n  73: 'UT',\n  74: 'Utah',\n  75: 'VA',\n  76: 'VT',\n  77: 'Vaduz',\n  78: 'Vermont',\n  79: 'Virginia',\n  80: 'WA',\n  81: 'WI',\n  82: 'WV',\n  83: 'Washington',\n  84: 'Wisconsin',\n  85: 'Île-de-France'},\n 'contact_state': {0: 'AB',\n  1: 'AK',\n  2: 'AL',\n  3: 'AR',\n  4: 'AZ',\n  5: 'Alabama',\n  6: 'Alaska',\n  7: 'Arizona',\n  8: 'Aspen',\n  9: 'BC',\n  10: 'CA',\n  11: 'CO',\n  12: 'CT',\n  13: 'Ca',\n  14: 'California',\n  15: 'Central',\n  16: 'Central and Western',\n  17: 'Colorado',\n  18: 'D.C',\n  19: 'DC',\n  20: 'DE',\n  21: 'District of Columbia',\n  22: 'FL',\n  23: 'Florida',\n  24: 'GA',\n  25: 'Georgia',\n  26: 'HI',\n  27: 'Hawaii',\n  28: 'Houston, TX',\n  29: 'Huntsville',\n  30: 'IA',\n  31: 'ID',\n  32: 'IL',\n  33: 'IN',\n  34: 'Illinois',\n  35: 'Indiana',\n  36: 'Iowa',\n  37: 'Jacksonville Beach FL',\n  38: 'KS',\n  39: 'KY',\n  40: 'Kansas',\n  41: 'LA',\n  42: 'Louisiana',\n  43: 'MA',\n  44: 'MB',\n  45: 'MD',\n  46: 'ME',\n  47: 'MI',\n  48: 'MISSING',\n  49: 'MN',\n  50: 'MO',\n  51: 'MS',\n  52: 'MT',\n  53: 'Maryland',\n  54: 'Massachusetts',\n  55: 'Michigan',\n  56: 'Missouri',\n  57: 'NC',\n  58: 'ND',\n  59: 'NE',\n  60: 'NH',\n  61: 'NJ',\n  62: 'NM',\n  63: 'NV',\n  64: 'NY',\n  65: 'Nevada',\n  66: 'New Jersey',\n  67: 'New Mexico',\n  68: 'New York',\n  69: 'North Carolina',\n  70: 'OH',\n  71: 'OK',\n  72: 'ON',\n  73: 'OR',\n  74: 'Ohio',\n  75: 'Oklahoma',\n  76: 'Oregon',\n  77: 'PA',\n  78: 'PR',\n  79: 'Pa',\n  80: 'Pennsylvania',\n  81: 'QC',\n  82: 'RI',\n  83: 'SC',\n  84: 'SD',\n  85: 'Singapore, Singapore',\n  86: 'TN',\n  87: 'TX',\n  88: 'Tennessee',\n  89: 'Texas',\n  90: 'Tx',\n  91: 'UT',\n  92: 'Utah',\n  93: 'VA',\n  94: 'VT',\n  95: 'Virginia',\n  96: 'WA',\n  97: 'WI',\n  98: 'WV',\n  99: 'WY',\n  100: 'Warwick',\n  101: 'Wisconsin',\n  102: 'Wrentham',\n  103: 'louisiana',\n  104: 'michigan'}}"
     },
     "execution_count": 19,
     "metadata": {},
     "output_type": "execute_result"
    }
   ],
   "source": [
    "from experiments.common.utils import cat_encode\n",
    "\n",
    "class_map = cat_encode(X)\n",
    "class_map"
   ],
   "metadata": {
    "collapsed": false,
    "ExecuteTime": {
     "end_time": "2023-10-19T21:18:39.988329Z",
     "start_time": "2023-10-19T21:18:39.414443Z"
    }
   },
   "id": "1c7a5189-942a-4728-9b28-5261ab2bed11"
  },
  {
   "cell_type": "code",
   "execution_count": 20,
   "id": "ee99f9ef-6dc1-48c3-b872-31f30357e6d0",
   "metadata": {
    "ExecuteTime": {
     "end_time": "2023-10-19T21:18:39.991883Z",
     "start_time": "2023-10-19T21:18:39.472160Z"
    }
   },
   "outputs": [],
   "source": [
    "X_train, X_test, y_train, y_test = train_test_split(X, y, test_size=0.2, random_state=42)"
   ]
  },
  {
   "cell_type": "code",
   "execution_count": null,
   "id": "34d92e0b-3edf-40f9-b6b4-db23350e05c0",
   "metadata": {
    "is_executing": true,
    "ExecuteTime": {
     "start_time": "2023-10-19T21:18:53.123316Z"
    }
   },
   "outputs": [],
   "source": [
    "lgb_model = lgb.LGBMClassifier(\n",
    "    boosting_type='gbdt',\n",
    "    objective='binary',\n",
    "    metric='binary_logloss',\n",
    "    num_leaves=31,\n",
    "    learning_rate=0.05,\n",
    "    feature_fraction=0.9,\n",
    "    # is_unbalance=True,\n",
    "    # n_estimators=4000,\n",
    "    reg_alpha=5,\n",
    "    reg_lambda=5,\n",
    "    verbose=1,\n",
    ")\n",
    "\n",
    "lgb_model.fit(X_train, y_train)"
   ]
  },
  {
   "cell_type": "code",
   "execution_count": 1,
   "outputs": [
    {
     "ename": "NameError",
     "evalue": "name 'seq_contact_company_df' is not defined",
     "output_type": "error",
     "traceback": [
      "\u001B[0;31m---------------------------------------------------------------------------\u001B[0m",
      "\u001B[0;31mNameError\u001B[0m                                 Traceback (most recent call last)",
      "Cell \u001B[0;32mIn[1], line 1\u001B[0m\n\u001B[0;32m----> 1\u001B[0m seq_contact_company_df\u001B[38;5;241m.\u001B[39mshape\n",
      "\u001B[0;31mNameError\u001B[0m: name 'seq_contact_company_df' is not defined"
     ]
    }
   ],
   "source": [
    "seq_contact_company_df.shape"
   ],
   "metadata": {
    "collapsed": false,
    "ExecuteTime": {
     "end_time": "2023-10-19T21:26:52.767698Z",
     "start_time": "2023-10-19T21:26:52.466095Z"
    }
   },
   "id": "652f576ab3b54bce"
  },
  {
   "cell_type": "code",
   "execution_count": 1,
   "id": "85929472-534b-40df-ac90-2b7d383f6f11",
   "metadata": {
    "ExecuteTime": {
     "end_time": "2023-10-19T20:45:25.713543Z",
     "start_time": "2023-10-19T20:45:25.411947Z"
    }
   },
   "outputs": [
    {
     "ename": "NameError",
     "evalue": "name 'lgb_model' is not defined",
     "output_type": "error",
     "traceback": [
      "\u001B[0;31m---------------------------------------------------------------------------\u001B[0m",
      "\u001B[0;31mNameError\u001B[0m                                 Traceback (most recent call last)",
      "Cell \u001B[0;32mIn[1], line 1\u001B[0m\n\u001B[0;32m----> 1\u001B[0m y_pred \u001B[38;5;241m=\u001B[39m lgb_model\u001B[38;5;241m.\u001B[39mpredict(X_test)\n",
      "\u001B[0;31mNameError\u001B[0m: name 'lgb_model' is not defined"
     ]
    }
   ],
   "source": [
    "y_pred = lgb_model.predict(X_test)"
   ]
  },
  {
   "cell_type": "code",
   "execution_count": 61,
   "id": "26b346b4-b362-4cd6-9abd-eb3d97cf2961",
   "metadata": {},
   "outputs": [
    {
     "name": "stdout",
     "output_type": "stream",
     "text": [
      "Accuracy: 0.9481046016622745\n",
      "Confusion Matrix:\n",
      "[[4676    1]\n",
      " [ 255    1]]\n",
      "Classification Report:\n",
      "              precision    recall  f1-score   support\n",
      "\n",
      "           0       0.95      1.00      0.97      4677\n",
      "           1       0.50      0.00      0.01       256\n",
      "\n",
      "    accuracy                           0.95      4933\n",
      "   macro avg       0.72      0.50      0.49      4933\n",
      "weighted avg       0.93      0.95      0.92      4933\n"
     ]
    }
   ],
   "source": [
    "accuracy = accuracy_score(y_test, y_pred)\n",
    "conf_matrix = confusion_matrix(y_test, y_pred)\n",
    "classification_rep = classification_report(y_test, y_pred)\n",
    "\n",
    "print(f'Accuracy: {accuracy}')\n",
    "print(f'Confusion Matrix:\\n{conf_matrix}')\n",
    "print(f'Classification Report:\\n{classification_rep}')"
   ]
  },
  {
   "cell_type": "code",
   "execution_count": 62,
   "id": "2f85c660-8b0f-4073-8df1-8c7251b746fa",
   "metadata": {},
   "outputs": [
    {
     "data": {
      "text/plain": [
       "<Axes: ylabel='reply_count_binary'>"
      ]
     },
     "execution_count": 62,
     "metadata": {},
     "output_type": "execute_result"
    },
    {
     "data": {
      "image/png": "[encoded data removed]",
      "text/plain": [
       "<Figure size 640x480 with 1 Axes>"
      ]
     },
     "metadata": {},
     "output_type": "display_data"
    }
   ],
   "source": [
    "seq_contact_company_df[target].value_counts().plot(kind='pie', autopct='%0.2f%%', radius=0.5)"
   ]
  },
  {
   "cell_type": "code",
   "execution_count": 1,
   "id": "a972cbb1-bc83-4f6b-bbdd-c7b03f379d7a",
   "metadata": {
    "ExecuteTime": {
     "end_time": "2023-10-19T01:46:09.438565Z",
     "start_time": "2023-10-19T01:46:08.119603Z"
    }
   },
   "outputs": [],
   "source": [
    "import lightgbm as lgb"
   ]
  },
  {
   "cell_type": "code",
   "execution_count": null,
   "id": "c6b1982a-4643-474f-bbe1-a01ef2df0b02",
   "metadata": {},
   "outputs": [],
   "source": []
  },
  {
   "cell_type": "code",
   "execution_count": null,
   "id": "37b85f25-39f8-4216-8814-9be1bab29866",
   "metadata": {},
   "outputs": [],
   "source": []
  },
  {
   "cell_type": "code",
   "execution_count": null,
   "id": "b32f7d61dbe4064f",
   "metadata": {
    "collapsed": false
   },
   "outputs": [],
   "source": []
  }
 ],
 "metadata": {
  "kernelspec": {
   "display_name": "Python 3 (ipykernel)",
   "language": "python",
   "name": "python3"
  },
  "language_info": {
   "codemirror_mode": {
    "name": "ipython",
    "version": 3
   },
   "file_extension": ".py",
   "mimetype": "text/x-python",
   "name": "python",
   "nbconvert_exporter": "python",
   "pygments_lexer": "ipython3",
   "version": "3.11.5"
  }
 },
 "nbformat": 4,
 "nbformat_minor": 5
}
