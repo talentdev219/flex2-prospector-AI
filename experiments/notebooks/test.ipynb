{
 "cells": [
  {
   "cell_type": "code",
   "execution_count": 91,
   "id": "45187ded-6af0-457a-aba8-e21f8fdca004",
   "metadata": {
    "tags": []
   },
   "outputs": [],
   "source": [
    "email = \"\"\"\n",
    "Thank you Valerie.  I 'll respond shortly.  :)\n",
    "\n",
    "\n",
    "*Teamwork makes the dream work, *\n",
    "\n",
    "[image: photo]\n",
    "*Malinda Wheeler*\n",
    "Industry Principal & Institutional Partnerships\n",
    "M: 415-686-8845\n",
    "\n",
    "https://getflex.com/\n",
    "\n",
    "\n",
    "malinda@getflex.com\n",
    "\n",
    "\n",
    "\n",
    "\n",
    "\n",
    "\n",
    "On Wed, Jan 4, 2023 at 10:52 AM Valerie Ortiz <\n",
    "seasons52--valerie-ortiz-@discussions.tripleseat.com> wrote:\n",
    "\n",
    "> | Reply above this line to comment |\n",
    "> – – – – – – – – – – – – – – – – – – – – – – – – – – – – – – – – – – – –\n",
    "> *Replying to:* Valerie Ortiz and Malinda Wheeler\n",
    "> *Event:* Malinda Wheeler on Tuesday, Jan 10, 2023 11:00 AM, *Manager:*\n",
    "> Valerie Ortiz\n",
    ">\n",
    "> Hi Melinda!\n",
    ">\n",
    "> Confirming that the space is booked! Excited to be working on this with\n",
    "> you.\n",
    ">\n",
    "> Keep your eyes out for an email following this one outlining the pre-event\n",
    "> checklist.\n",
    ">\n",
    "> Of course, I am available if you have any questions along the way.\n",
    ">\n",
    "> Thank you and looking forward to seeing you all next week.\n",
    ">\n",
    "> Valerie\n",
    ">\n",
    "> *Online Documents:*\n",
    "> [image: Add document] Agreement\n",
    "> <http://link.tripleseatclicks.com/ls/click?upn=YOMPQESbm04LGvRxOJARRon1Crvms9ctJlRyQnkR19NbOoUg9FOLsfRaZaKlP-2FSKF7GUksA0zmBA0C8jxDK9KlY2tSGgPufCFUdbXwuYuGKyk2qXrdu8dj42CztvqUwqMZp-2FJH28YIPKzkMFxFeSdwkF91IIEAH59Gu0G50PTdY-3DT_7__Szd8UIwNdbRP-2B6K8MZIvtmNg3n8KtNc1bJk9pbOUyKjgV1Aa-2Ft9FPjjjLamoDbkp9VWqMFT1F1QrUot-2FXDr7V2tzVjsxHfm3BiZQyjYhdODONXIfGFa38Y-2F77qy8f-2FxOReMhvt1w9Zo2oVc-2FuJy9HGMMx55BU117y-2BQgiFMtEBJtlWLn-2BvD4rD8XJK4Ei2dNjntU-2B0E9KwzHXO8IV-2BWxBLFFg-2FPwiNDlAMn41TBDnddr6zUBOvucaVpzpJyIdYk06ftfDFGBn3vEdM5-2FOu-2F7-2FRQT9-2Bgz8uemRN3OEuBlw-2FVxJzuqSfmuQvX0R3CxVJx7FhoSvyENQM-2BgFlEmQC0zBNewFSIrSekTJNfm1yva-2BRVRj59u49ci1FzYzxTTHBpjYlu0Yl00enoZbEpXbffRKxw28c3OFd5nHcuDrdHWzRi-2BEOeULlUmjMTYc0moMX4TuCX9a-2F0FmN2-2FpffxEo-2BSYukUoocWdEqJ-2BnD2zPWMbLg-3D>\n",
    "> To send a message or view other details about this event, visit our guest\n",
    "> portal.\n",
    "> <http://link.tripleseatclicks.com/ls/click?upn=3SrGUmusZc6iICgVsMk6IrS2IhYuniJCtq3k8s546dKpzOuD7bLxb3bISY992RrCUwkOaJCrv1Y26C01moGxs0Q-2FgzRsvOCH6NQ0Lt-2FDtvdMjYeGibpaiw9TTtJezwaIHz3g_Szd8UIwNdbRP-2B6K8MZIvtmNg3n8KtNc1bJk9pbOUyKjgV1Aa-2Ft9FPjjjLamoDbkp9VWqMFT1F1QrUot-2FXDr7V2tzVjsxHfm3BiZQyjYhdODONXIfGFa38Y-2F77qy8f-2FxOReMhvt1w9Zo2oVc-2FuJy9HGMMx55BU117y-2BQgiFMtEBJtlWLn-2BvD4rD8XJK4Ei2dNjntU-2B0E9KwzHXO8IV-2BWxBLFFg-2FPwiNDlAMn41TBDnddr6zUBOvucaVpzpJyIdYk039xIHXgaQ1bD-2BttmqjGXd5M62Y-2FUvyvucoRc-2BtG5ymjvIcpMGJ4ScTDtqRNKZ2deMdrQHMJk6m9b7-2BqaGjsZlw8-2Fp9UzgKiJnuiBQ1o-2Bg45FSB4PzsjJvszQCfsF6l3nT4vvkmpeFWt1L3Uenrq-2Btuqhwl0vp9RBFDGNHvTxS-2F2eE6ZvNsLzZuEwBNSe7d5VwePDdTc6T5VIDhnJMGnG-2FKWdjrRRSvXSzA-2BhMUdvrBQ-3D>\n",
    ">\n",
    "> [TS/1x4l7h0eaecaaj96q7uj]\n",
    ">\n",
    "\"\"\"\n",
    "\n",
    "emailx = \"\"\"\n",
    "Hi Jamie,\n",
    "\n",
    "Happy New Year! It looks like these are the only properties your team has\n",
    "Flex on, I have attached the property list template if you would like to\n",
    "add more properties.\n",
    "[image: Screenshot_20230101_103617.png]\n",
    "\n",
    "Thanks,\n",
    "Garrett\n",
    "\n",
    "On Sun, Jan 1, 2023 at 10:34 AM Jamie Garcia <Jamie.Garcia@teamarise.org>\n",
    "wrote:\n",
    "\n",
    "> Hi Garrett,\n",
    ">\n",
    "> I hope all is well! I wanted to know if our sister property, Tradewinds\n",
    "> Apartments is set up for Flex? Address is 1919 13th Avenue North, Texas\n",
    "> City, TX 77590.\n",
    ">\n",
    "> Respectfully,\n",
    ">\n",
    "> Jamie Garcia\n",
    "> (510)779-7103\n",
    "> Jamie.Garcia@teamarise.org\n",
    "> ------------------------------\n",
    "> *From:* Garrett Rivas <garrett@getflex.com>\n",
    "> *Sent:* Tuesday, September 13, 2022 1:44:03 PM\n",
    "> *To:* Jamie Garcia <Jamie.Garcia@teamarise.org>\n",
    "> *Subject:* Re: Flex - Property List Template\n",
    ">\n",
    "> Got it, ok I was adjusting to PST. I will actually update the invite for\n",
    "> 10am CT since I am booked at 1pm. I apologize for the confusion.\n",
    ">\n",
    "> On Tue, Sep 13, 2022 at 1:41 PM Jamie Garcia <Jamie.Garcia@teamarise.org>\n",
    "> wrote:\n",
    ">\n",
    "> We're on CT timezone.\n",
    ">\n",
    "> Respectfully,\n",
    "\"\"\""
   ]
  },
  {
   "cell_type": "code",
   "execution_count": 92,
   "id": "7d81fd65-156c-4c22-b29f-807067d6cdad",
   "metadata": {
    "tags": []
   },
   "outputs": [],
   "source": [
    "import re\n",
    "import pandas as pd\n",
    "def extra_email_content(email_log):\n",
    "    try:\n",
    "        # pattern = r\"(?<=\\n)(?<!>)(.*?)(?=\\nOn.*[A-Za-z0-9._%+-]+@[A-Za-z0-9.-]+\\.[A-Z|a-z]{2,7})\"\n",
    "        pattern = r\"(?<!>)(.*?)(?=\\nOn.*[A-Za-z0-9._%+-]+@[A-Za-z0-9.-]+\\.[A-Za-z]{2,7}.*)(.*?)(?=\\n>+\\s*(\\*From:\\*|On))\"\n",
    "        # pattern = r\"(.*?)(?=\\nOn.*[A-Za-z0-9._%+-]+@[A-Za-z0-9.-]+\\.[A-Z|a-z]{2,7}.*)(.*?)(?=\\n>+\\s*(\\*From:\\*|On))\"\n",
    "        match = re.search(pattern, email_log, re.DOTALL)\n",
    "\n",
    "        if match:\n",
    "            return pd.Series([match.group(1).strip().replace('>', ''), match.group(2).strip().replace('>', '')])\n",
    "            # extracted_text = match.group(2).strip().replace('>', '')\n",
    "            # print(extracted_text)\n",
    "        else:\n",
    "            print('aa')\n",
    "            return pd.Series([None, None])\n",
    "    except Exception as e:\n",
    "        print('hh')\n",
    "        return pd.Series([None, None])"
   ]
  },
  {
   "cell_type": "code",
   "execution_count": 93,
   "id": "38b3a4b9-7797-4a86-b3fc-98ff169cc8ca",
   "metadata": {
    "tags": []
   },
   "outputs": [
    {
     "name": "stdout",
     "output_type": "stream",
     "text": [
      "aa\n",
      "0    None\n",
      "1    None\n",
      "dtype: object\n"
     ]
    }
   ],
   "source": [
    "print(extra_email_content(email))"
   ]
  },
  {
   "cell_type": "code",
   "execution_count": null,
   "id": "db9ffdf2-c181-4dde-a3b6-82de6eb15786",
   "metadata": {},
   "outputs": [
    {
     "ename": "SyntaxError",
     "evalue": "invalid syntax (3969276181.py, line 1)",
     "output_type": "error",
     "traceback": [
      "\u001b[0;36m  Cell \u001b[0;32mIn[55], line 1\u001b[0;36m\u001b[0m\n\u001b[0;31m    On Thu, Dec 29, 2022 at 1:49 PM Portico Helpdesk <helpdesk@porticopm.com>\u001b[0m\n\u001b[0m       ^\u001b[0m\n\u001b[0;31mSyntaxError\u001b[0m\u001b[0;31m:\u001b[0m invalid syntax\n"
     ]
    }
   ],
   "source": [
    "On Thu, Dec 29, 2022 at 1:49 PM Portico Helpdesk <helpdesk@porticopm.com>\n",
    "wrote:"
   ]
  }
 ],
 "metadata": {
  "availableInstances": [
   {
    "_defaultOrder": 0,
    "_isFastLaunch": true,
    "category": "General purpose",
    "gpuNum": 0,
    "hideHardwareSpecs": false,
    "memoryGiB": 4,
    "name": "ml.t3.medium",
    "vcpuNum": 2
   },
   {
    "_defaultOrder": 1,
    "_isFastLaunch": false,
    "category": "General purpose",
    "gpuNum": 0,
    "hideHardwareSpecs": false,
    "memoryGiB": 8,
    "name": "ml.t3.large",
    "vcpuNum": 2
   },
   {
    "_defaultOrder": 2,
    "_isFastLaunch": false,
    "category": "General purpose",
    "gpuNum": 0,
    "hideHardwareSpecs": false,
    "memoryGiB": 16,
    "name": "ml.t3.xlarge",
    "vcpuNum": 4
   },
   {
    "_defaultOrder": 3,
    "_isFastLaunch": false,
    "category": "General purpose",
    "gpuNum": 0,
    "hideHardwareSpecs": false,
    "memoryGiB": 32,
    "name": "ml.t3.2xlarge",
    "vcpuNum": 8
   },
   {
    "_defaultOrder": 4,
    "_isFastLaunch": true,
    "category": "General purpose",
    "gpuNum": 0,
    "hideHardwareSpecs": false,
    "memoryGiB": 8,
    "name": "ml.m5.large",
    "vcpuNum": 2
   },
   {
    "_defaultOrder": 5,
    "_isFastLaunch": false,
    "category": "General purpose",
    "gpuNum": 0,
    "hideHardwareSpecs": false,
    "memoryGiB": 16,
    "name": "ml.m5.xlarge",
    "vcpuNum": 4
   },
   {
    "_defaultOrder": 6,
    "_isFastLaunch": false,
    "category": "General purpose",
    "gpuNum": 0,
    "hideHardwareSpecs": false,
    "memoryGiB": 32,
    "name": "ml.m5.2xlarge",
    "vcpuNum": 8
   },
   {
    "_defaultOrder": 7,
    "_isFastLaunch": false,
    "category": "General purpose",
    "gpuNum": 0,
    "hideHardwareSpecs": false,
    "memoryGiB": 64,
    "name": "ml.m5.4xlarge",
    "vcpuNum": 16
   },
   {
    "_defaultOrder": 8,
    "_isFastLaunch": false,
    "category": "General purpose",
    "gpuNum": 0,
    "hideHardwareSpecs": false,
    "memoryGiB": 128,
    "name": "ml.m5.8xlarge",
    "vcpuNum": 32
   },
   {
    "_defaultOrder": 9,
    "_isFastLaunch": false,
    "category": "General purpose",
    "gpuNum": 0,
    "hideHardwareSpecs": false,
    "memoryGiB": 192,
    "name": "ml.m5.12xlarge",
    "vcpuNum": 48
   },
   {
    "_defaultOrder": 10,
    "_isFastLaunch": false,
    "category": "General purpose",
    "gpuNum": 0,
    "hideHardwareSpecs": false,
    "memoryGiB": 256,
    "name": "ml.m5.16xlarge",
    "vcpuNum": 64
   },
   {
    "_defaultOrder": 11,
    "_isFastLaunch": false,
    "category": "General purpose",
    "gpuNum": 0,
    "hideHardwareSpecs": false,
    "memoryGiB": 384,
    "name": "ml.m5.24xlarge",
    "vcpuNum": 96
   },
   {
    "_defaultOrder": 12,
    "_isFastLaunch": false,
    "category": "General purpose",
    "gpuNum": 0,
    "hideHardwareSpecs": false,
    "memoryGiB": 8,
    "name": "ml.m5d.large",
    "vcpuNum": 2
   },
   {
    "_defaultOrder": 13,
    "_isFastLaunch": false,
    "category": "General purpose",
    "gpuNum": 0,
    "hideHardwareSpecs": false,
    "memoryGiB": 16,
    "name": "ml.m5d.xlarge",
    "vcpuNum": 4
   },
   {
    "_defaultOrder": 14,
    "_isFastLaunch": false,
    "category": "General purpose",
    "gpuNum": 0,
    "hideHardwareSpecs": false,
    "memoryGiB": 32,
    "name": "ml.m5d.2xlarge",
    "vcpuNum": 8
   },
   {
    "_defaultOrder": 15,
    "_isFastLaunch": false,
    "category": "General purpose",
    "gpuNum": 0,
    "hideHardwareSpecs": false,
    "memoryGiB": 64,
    "name": "ml.m5d.4xlarge",
    "vcpuNum": 16
   },
   {
    "_defaultOrder": 16,
    "_isFastLaunch": false,
    "category": "General purpose",
    "gpuNum": 0,
    "hideHardwareSpecs": false,
    "memoryGiB": 128,
    "name": "ml.m5d.8xlarge",
    "vcpuNum": 32
   },
   {
    "_defaultOrder": 17,
    "_isFastLaunch": false,
    "category": "General purpose",
    "gpuNum": 0,
    "hideHardwareSpecs": false,
    "memoryGiB": 192,
    "name": "ml.m5d.12xlarge",
    "vcpuNum": 48
   },
   {
    "_defaultOrder": 18,
    "_isFastLaunch": false,
    "category": "General purpose",
    "gpuNum": 0,
    "hideHardwareSpecs": false,
    "memoryGiB": 256,
    "name": "ml.m5d.16xlarge",
    "vcpuNum": 64
   },
   {
    "_defaultOrder": 19,
    "_isFastLaunch": false,
    "category": "General purpose",
    "gpuNum": 0,
    "hideHardwareSpecs": false,
    "memoryGiB": 384,
    "name": "ml.m5d.24xlarge",
    "vcpuNum": 96
   },
   {
    "_defaultOrder": 20,
    "_isFastLaunch": false,
    "category": "General purpose",
    "gpuNum": 0,
    "hideHardwareSpecs": true,
    "memoryGiB": 0,
    "name": "ml.geospatial.interactive",
    "supportedImageNames": [
     "sagemaker-geospatial-v1-0"
    ],
    "vcpuNum": 0
   },
   {
    "_defaultOrder": 21,
    "_isFastLaunch": true,
    "category": "Compute optimized",
    "gpuNum": 0,
    "hideHardwareSpecs": false,
    "memoryGiB": 4,
    "name": "ml.c5.large",
    "vcpuNum": 2
   },
   {
    "_defaultOrder": 22,
    "_isFastLaunch": false,
    "category": "Compute optimized",
    "gpuNum": 0,
    "hideHardwareSpecs": false,
    "memoryGiB": 8,
    "name": "ml.c5.xlarge",
    "vcpuNum": 4
   },
   {
    "_defaultOrder": 23,
    "_isFastLaunch": false,
    "category": "Compute optimized",
    "gpuNum": 0,
    "hideHardwareSpecs": false,
    "memoryGiB": 16,
    "name": "ml.c5.2xlarge",
    "vcpuNum": 8
   },
   {
    "_defaultOrder": 24,
    "_isFastLaunch": false,
    "category": "Compute optimized",
    "gpuNum": 0,
    "hideHardwareSpecs": false,
    "memoryGiB": 32,
    "name": "ml.c5.4xlarge",
    "vcpuNum": 16
   },
   {
    "_defaultOrder": 25,
    "_isFastLaunch": false,
    "category": "Compute optimized",
    "gpuNum": 0,
    "hideHardwareSpecs": false,
    "memoryGiB": 72,
    "name": "ml.c5.9xlarge",
    "vcpuNum": 36
   },
   {
    "_defaultOrder": 26,
    "_isFastLaunch": false,
    "category": "Compute optimized",
    "gpuNum": 0,
    "hideHardwareSpecs": false,
    "memoryGiB": 96,
    "name": "ml.c5.12xlarge",
    "vcpuNum": 48
   },
   {
    "_defaultOrder": 27,
    "_isFastLaunch": false,
    "category": "Compute optimized",
    "gpuNum": 0,
    "hideHardwareSpecs": false,
    "memoryGiB": 144,
    "name": "ml.c5.18xlarge",
    "vcpuNum": 72
   },
   {
    "_defaultOrder": 28,
    "_isFastLaunch": false,
    "category": "Compute optimized",
    "gpuNum": 0,
    "hideHardwareSpecs": false,
    "memoryGiB": 192,
    "name": "ml.c5.24xlarge",
    "vcpuNum": 96
   },
   {
    "_defaultOrder": 29,
    "_isFastLaunch": true,
    "category": "Accelerated computing",
    "gpuNum": 1,
    "hideHardwareSpecs": false,
    "memoryGiB": 16,
    "name": "ml.g4dn.xlarge",
    "vcpuNum": 4
   },
   {
    "_defaultOrder": 30,
    "_isFastLaunch": false,
    "category": "Accelerated computing",
    "gpuNum": 1,
    "hideHardwareSpecs": false,
    "memoryGiB": 32,
    "name": "ml.g4dn.2xlarge",
    "vcpuNum": 8
   },
   {
    "_defaultOrder": 31,
    "_isFastLaunch": false,
    "category": "Accelerated computing",
    "gpuNum": 1,
    "hideHardwareSpecs": false,
    "memoryGiB": 64,
    "name": "ml.g4dn.4xlarge",
    "vcpuNum": 16
   },
   {
    "_defaultOrder": 32,
    "_isFastLaunch": false,
    "category": "Accelerated computing",
    "gpuNum": 1,
    "hideHardwareSpecs": false,
    "memoryGiB": 128,
    "name": "ml.g4dn.8xlarge",
    "vcpuNum": 32
   },
   {
    "_defaultOrder": 33,
    "_isFastLaunch": false,
    "category": "Accelerated computing",
    "gpuNum": 4,
    "hideHardwareSpecs": false,
    "memoryGiB": 192,
    "name": "ml.g4dn.12xlarge",
    "vcpuNum": 48
   },
   {
    "_defaultOrder": 34,
    "_isFastLaunch": false,
    "category": "Accelerated computing",
    "gpuNum": 1,
    "hideHardwareSpecs": false,
    "memoryGiB": 256,
    "name": "ml.g4dn.16xlarge",
    "vcpuNum": 64
   },
   {
    "_defaultOrder": 35,
    "_isFastLaunch": false,
    "category": "Accelerated computing",
    "gpuNum": 1,
    "hideHardwareSpecs": false,
    "memoryGiB": 61,
    "name": "ml.p3.2xlarge",
    "vcpuNum": 8
   },
   {
    "_defaultOrder": 36,
    "_isFastLaunch": false,
    "category": "Accelerated computing",
    "gpuNum": 4,
    "hideHardwareSpecs": false,
    "memoryGiB": 244,
    "name": "ml.p3.8xlarge",
    "vcpuNum": 32
   },
   {
    "_defaultOrder": 37,
    "_isFastLaunch": false,
    "category": "Accelerated computing",
    "gpuNum": 8,
    "hideHardwareSpecs": false,
    "memoryGiB": 488,
    "name": "ml.p3.16xlarge",
    "vcpuNum": 64
   },
   {
    "_defaultOrder": 38,
    "_isFastLaunch": false,
    "category": "Accelerated computing",
    "gpuNum": 8,
    "hideHardwareSpecs": false,
    "memoryGiB": 768,
    "name": "ml.p3dn.24xlarge",
    "vcpuNum": 96
   },
   {
    "_defaultOrder": 39,
    "_isFastLaunch": false,
    "category": "Memory Optimized",
    "gpuNum": 0,
    "hideHardwareSpecs": false,
    "memoryGiB": 16,
    "name": "ml.r5.large",
    "vcpuNum": 2
   },
   {
    "_defaultOrder": 40,
    "_isFastLaunch": false,
    "category": "Memory Optimized",
    "gpuNum": 0,
    "hideHardwareSpecs": false,
    "memoryGiB": 32,
    "name": "ml.r5.xlarge",
    "vcpuNum": 4
   },
   {
    "_defaultOrder": 41,
    "_isFastLaunch": false,
    "category": "Memory Optimized",
    "gpuNum": 0,
    "hideHardwareSpecs": false,
    "memoryGiB": 64,
    "name": "ml.r5.2xlarge",
    "vcpuNum": 8
   },
   {
    "_defaultOrder": 42,
    "_isFastLaunch": false,
    "category": "Memory Optimized",
    "gpuNum": 0,
    "hideHardwareSpecs": false,
    "memoryGiB": 128,
    "name": "ml.r5.4xlarge",
    "vcpuNum": 16
   },
   {
    "_defaultOrder": 43,
    "_isFastLaunch": false,
    "category": "Memory Optimized",
    "gpuNum": 0,
    "hideHardwareSpecs": false,
    "memoryGiB": 256,
    "name": "ml.r5.8xlarge",
    "vcpuNum": 32
   },
   {
    "_defaultOrder": 44,
    "_isFastLaunch": false,
    "category": "Memory Optimized",
    "gpuNum": 0,
    "hideHardwareSpecs": false,
    "memoryGiB": 384,
    "name": "ml.r5.12xlarge",
    "vcpuNum": 48
   },
   {
    "_defaultOrder": 45,
    "_isFastLaunch": false,
    "category": "Memory Optimized",
    "gpuNum": 0,
    "hideHardwareSpecs": false,
    "memoryGiB": 512,
    "name": "ml.r5.16xlarge",
    "vcpuNum": 64
   },
   {
    "_defaultOrder": 46,
    "_isFastLaunch": false,
    "category": "Memory Optimized",
    "gpuNum": 0,
    "hideHardwareSpecs": false,
    "memoryGiB": 768,
    "name": "ml.r5.24xlarge",
    "vcpuNum": 96
   },
   {
    "_defaultOrder": 47,
    "_isFastLaunch": false,
    "category": "Accelerated computing",
    "gpuNum": 1,
    "hideHardwareSpecs": false,
    "memoryGiB": 16,
    "name": "ml.g5.xlarge",
    "vcpuNum": 4
   },
   {
    "_defaultOrder": 48,
    "_isFastLaunch": false,
    "category": "Accelerated computing",
    "gpuNum": 1,
    "hideHardwareSpecs": false,
    "memoryGiB": 32,
    "name": "ml.g5.2xlarge",
    "vcpuNum": 8
   },
   {
    "_defaultOrder": 49,
    "_isFastLaunch": false,
    "category": "Accelerated computing",
    "gpuNum": 1,
    "hideHardwareSpecs": false,
    "memoryGiB": 64,
    "name": "ml.g5.4xlarge",
    "vcpuNum": 16
   },
   {
    "_defaultOrder": 50,
    "_isFastLaunch": false,
    "category": "Accelerated computing",
    "gpuNum": 1,
    "hideHardwareSpecs": false,
    "memoryGiB": 128,
    "name": "ml.g5.8xlarge",
    "vcpuNum": 32
   },
   {
    "_defaultOrder": 51,
    "_isFastLaunch": false,
    "category": "Accelerated computing",
    "gpuNum": 1,
    "hideHardwareSpecs": false,
    "memoryGiB": 256,
    "name": "ml.g5.16xlarge",
    "vcpuNum": 64
   },
   {
    "_defaultOrder": 52,
    "_isFastLaunch": false,
    "category": "Accelerated computing",
    "gpuNum": 4,
    "hideHardwareSpecs": false,
    "memoryGiB": 192,
    "name": "ml.g5.12xlarge",
    "vcpuNum": 48
   },
   {
    "_defaultOrder": 53,
    "_isFastLaunch": false,
    "category": "Accelerated computing",
    "gpuNum": 4,
    "hideHardwareSpecs": false,
    "memoryGiB": 384,
    "name": "ml.g5.24xlarge",
    "vcpuNum": 96
   },
   {
    "_defaultOrder": 54,
    "_isFastLaunch": false,
    "category": "Accelerated computing",
    "gpuNum": 8,
    "hideHardwareSpecs": false,
    "memoryGiB": 768,
    "name": "ml.g5.48xlarge",
    "vcpuNum": 192
   },
   {
    "_defaultOrder": 55,
    "_isFastLaunch": false,
    "category": "Accelerated computing",
    "gpuNum": 8,
    "hideHardwareSpecs": false,
    "memoryGiB": 1152,
    "name": "ml.p4d.24xlarge",
    "vcpuNum": 96
   },
   {
    "_defaultOrder": 56,
    "_isFastLaunch": false,
    "category": "Accelerated computing",
    "gpuNum": 8,
    "hideHardwareSpecs": false,
    "memoryGiB": 1152,
    "name": "ml.p4de.24xlarge",
    "vcpuNum": 96
   }
  ],
  "instance_type": "ml.t3.medium",
  "kernelspec": {
   "display_name": "Python 3 (Data Science 3.0)",
   "language": "python",
   "name": "python3__SAGEMAKER_INTERNAL__arn:aws:sagemaker:us-east-1:081325390199:image/sagemaker-data-science-310-v1"
  },
  "language_info": {
   "codemirror_mode": {
    "name": "ipython",
    "version": 3
   },
   "file_extension": ".py",
   "mimetype": "text/x-python",
   "name": "python",
   "nbconvert_exporter": "python",
   "pygments_lexer": "ipython3",
   "version": "3.10.6"
  }
 },
 "nbformat": 4,
 "nbformat_minor": 5
}
