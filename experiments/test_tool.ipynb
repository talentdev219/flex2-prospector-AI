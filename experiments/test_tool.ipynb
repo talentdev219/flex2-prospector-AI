{
 "cells": [
  {
   "cell_type": "code",
   "execution_count": 48,
   "id": "initial_id",
   "metadata": {
    "collapsed": true,
    "ExecuteTime": {
     "end_time": "2023-10-17T23:53:21.988397Z",
     "start_time": "2023-10-17T23:53:21.947103Z"
    }
   },
   "outputs": [],
   "source": [
    "import pandas as pd\n",
    "import snowflake.connector\n",
    "\n",
    "snowflake_user = \"xiangping@getflex.com\""
   ]
  },
  {
   "cell_type": "code",
   "execution_count": 49,
   "outputs": [],
   "source": [
    "def get_snowflake_query_result(query_file_path: str,\n",
    "                               snowflake_user: str) -> pd.DataFrame:\n",
    "    with open(query_file_path, 'r') as file:\n",
    "        query_commands = file.read()\n",
    "    # Create Snowflake connection\n",
    "    cnx = snowflake.connector.connect(\n",
    "        user=snowflake_user,\n",
    "        account=\"jma23782.us-east-1\",\n",
    "        authenticator=\"externalbrowser\"\n",
    "    )\n",
    "    # Create cursor and execute query\n",
    "    cursor = cnx.cursor()\n",
    "    cursor.execute(query_commands)\n",
    "    rows = cursor.fetchall()\n",
    "    df = pd.DataFrame(rows, columns=[desc[0] for desc in cursor.description])\n",
    "    cursor.close()\n",
    "    cnx.close()\n",
    "    return df\n"
   ],
   "metadata": {
    "collapsed": false,
    "ExecuteTime": {
     "end_time": "2023-10-17T23:53:54.502009Z",
     "start_time": "2023-10-17T23:53:54.446143Z"
    }
   },
   "id": "b83d59d1e4accffe"
  },
  {
   "cell_type": "code",
   "execution_count": 50,
   "outputs": [
    {
     "name": "stdout",
     "output_type": "stream",
     "text": [
      "Initiating login request with your identity provider. A browser window should have opened for you to complete the login. If you can't see it, check existing browser windows, or your OS settings. Press CTRL+C to abort and try again...\n",
      "Going to open: https://accounts.google.com/o/saml2/idp?idpid=C03xsf2wk&SAMLRequest=lZJfb9owFMW%2FSuQ9J84fWopFQBm0g46OCNJO25uXmGDh2Jmv09B9%2BpmkkbqHVtqDJcs%2Bx%2Fd3fe50fq6E88w0cCVjFHg%2BcpjMVcFlGaPH7M69QQ4YKgsqlGQxemGA5rMp0ErUJGnMUe7Y74aBcexDEkh3EaNGS6IocCCSVgyIyck%2BediQ0PNJrZVRuRLojeVjBwVg2ljCwVIAt3hHY2qCcdu2Xht5Spc49H0f%2BxNsVRfJp0F%2Ftj29ow%2BwP7rorcLK01e2z1z2X%2FAR1q9eBGSVZambbvcZcpIBdaEkNBXTe6afec4ed5seACzB%2FUMSRuOb0GvAZRSMG3ggVXsQ9MRyVdWNsc96docPrMBCldx2vl7GqD7xYvRUp3TDI57Alwmt%2FmTb%2B%2B8T%2BmNbnm8n7e5qlWy%2BruQtrMQxz5HzNEQbXqJdAzRsLS%2BBGnvkh5Eb%2BG4wzsKIXI1IMPaug%2BufyFnaQLmkpnMO1DTPVSMNeKVSpWAdn8KX9ELMi3puFy%2FihR%2Bd4RC2J9RPCelq6tl%2F9z7Fb%2B2vE%2FfNhrBepkrw%2FMW5U7qi5v2MAi%2FoTnjhHjopYRXlIikKzQBsVkKodqEZNXawjW4YwrO%2B6r%2BjPfsL&RelayState=54209 to authenticate...\n"
     ]
    }
   ],
   "source": [
    "df_sequence_20230101 = get_snowflake_query_result('sql/sequence_query.sql',\n",
    "                                                  snowflake_user)"
   ],
   "metadata": {
    "collapsed": false,
    "ExecuteTime": {
     "end_time": "2023-10-17T23:54:59.815603Z",
     "start_time": "2023-10-17T23:54:16.370935Z"
    }
   },
   "id": "e8f628630b290947"
  },
  {
   "cell_type": "code",
   "execution_count": 52,
   "outputs": [
    {
     "data": {
      "text/plain": "(80189, 83)"
     },
     "execution_count": 52,
     "metadata": {},
     "output_type": "execute_result"
    }
   ],
   "source": [
    "df_sequence_20230101.shape"
   ],
   "metadata": {
    "collapsed": false,
    "ExecuteTime": {
     "end_time": "2023-10-17T23:55:11.444690Z",
     "start_time": "2023-10-17T23:55:11.432550Z"
    }
   },
   "id": "c72887334a5083ad"
  },
  {
   "cell_type": "code",
   "execution_count": 54,
   "outputs": [],
   "source": [
    "df_sequence_20230101.to_csv('data/sequence_20230101.csv', index=False, sep='|')"
   ],
   "metadata": {
    "collapsed": false,
    "ExecuteTime": {
     "end_time": "2023-10-17T23:55:47.049827Z",
     "start_time": "2023-10-17T23:55:44.676477Z"
    }
   },
   "id": "f8b84853e4f3b196"
  },
  {
   "cell_type": "code",
   "execution_count": 57,
   "outputs": [
    {
     "data": {
      "text/plain": "       OCCURRED_DATE SEQUENCE_ID SEQUENCE_NAME STEP_ID TEMPLATE_ID  \\\n29          20230415    76230405     JE Jan 23       3    37950803   \n31          20230329    76230405     JE Jan 23       0    37779790   \n32          20230410    76230405     JE Jan 23       2    37950732   \n35          20230404    76230405     JE Jan 23       1    37950617   \n37          20230420    76230405     JE Jan 23       4    37951256   \n...              ...         ...           ...     ...         ...   \n79725       20230125    76230405     JE Jan 23       0    37779790   \n79726       20230125    76230405     JE Jan 23       0    37779790   \n79727       20230131    76230405     JE Jan 23       1    37950617   \n79728       20230131    76230405     JE Jan 23       1    37950617   \n79729       20230216    76230405     JE Jan 23       4    37951256   \n\n      SEQUENCE_ENROLLMENT_ID       SEQUENCE_STEP_EXCUTION_ID  CONTACT_ID  \\\n29                6659388995  76230405-1551671967-6659388995    57974101   \n31                6659388992  76230405-1551671967-6659388992    57974101   \n32                6659388994  76230405-1551671967-6659388994    57974101   \n35                6659388993  76230405-1551671967-6659388993    57974101   \n37                6659388996  76230405-1551671967-6659388996    57974101   \n...                      ...                             ...         ...   \n79725             6165108854  76230405-1445618742-6165108854       49213   \n79726             6165108872  76230405-1445618739-6165108872    58681451   \n79727             6165108885  76230405-1445618741-6165108885       36060   \n79728             6165108849  76230405-1445618736-6165108849    58681401   \n79729             6165108870  76230405-1445618738-6165108870       33625   \n\n      CONTACT_FIRST_NAME CONTACT_LAST_NAME  ... COMPANY_PM_SOFTWARE  \\\n29               GH Team              None  ...        Rent Manager   \n31               GH Team              None  ...        Rent Manager   \n32               GH Team              None  ...        Rent Manager   \n35               GH Team              None  ...        Rent Manager   \n37               GH Team              None  ...        Rent Manager   \n...                  ...               ...  ...                 ...   \n79725             Sondra              Atou  ...               Yardi   \n79726               Echo          Thompson  ...               Yardi   \n79727                Ted           Kennedy  ...               Yardi   \n79728             Amanda           Novotny  ...               Yardi   \n79729              Cindy           Coleman  ...               Yardi   \n\n      COMPANY_PROTFOLIO_SUBTYPE COMPANY_PROTFOLIO_TYPE COMPANY_RENT_PORTAL  \\\n29                         None           Multi Family         RentManager   \n31                         None           Multi Family         RentManager   \n32                         None           Multi Family         RentManager   \n35                         None           Multi Family         RentManager   \n37                         None           Multi Family         RentManager   \n...                         ...                    ...                 ...   \n79725                      None           Multi Family            RentCafe   \n79726                      None           Multi Family            RentCafe   \n79727                      None           Multi Family            RentCafe   \n79728                      None           Multi Family            RentCafe   \n79729                      None           Multi Family            RentCafe   \n\n      COMPANY_SEGMENT COMPANY_STATE  COMPANY_TIMEZONE COMPANY_UNITS  \\\n29                SMB            MI   America/Detroit          3000   \n31                SMB            MI   America/Detroit          3000   \n32                SMB            MI   America/Detroit          3000   \n35                SMB            MI   America/Detroit          3000   \n37                SMB            MI   America/Detroit          3000   \n...               ...           ...               ...           ...   \n79725        Deep SMB            AZ  America/Edmonton           752   \n79726        Deep SMB            AZ  America/Edmonton           752   \n79727        Deep SMB            AZ  America/Edmonton           752   \n79728        Deep SMB            AZ  America/Edmonton           752   \n79729        Deep SMB            AZ  America/Edmonton           752   \n\n             COMPANY_WEBSITE COMPANY_ZIPCODE  \n29       generalhomecorp.com           48099  \n31       generalhomecorp.com           48099  \n32       generalhomecorp.com           48099  \n35       generalhomecorp.com           48099  \n37       generalhomecorp.com           48099  \n...                      ...             ...  \n79725  http://www.petwin.com           85251  \n79726  http://www.petwin.com           85251  \n79727  http://www.petwin.com           85251  \n79728  http://www.petwin.com           85251  \n79729  http://www.petwin.com           85251  \n\n[2410 rows x 83 columns]",
      "text/html": "<div>\n<style scoped>\n    .dataframe tbody tr th:only-of-type {\n        vertical-align: middle;\n    }\n\n    .dataframe tbody tr th {\n        vertical-align: top;\n    }\n\n    .dataframe thead th {\n        text-align: right;\n    }\n</style>\n<table border=\"1\" class=\"dataframe\">\n  <thead>\n    <tr style=\"text-align: right;\">\n      <th></th>\n      <th>OCCURRED_DATE</th>\n      <th>SEQUENCE_ID</th>\n      <th>SEQUENCE_NAME</th>\n      <th>STEP_ID</th>\n      <th>TEMPLATE_ID</th>\n      <th>SEQUENCE_ENROLLMENT_ID</th>\n      <th>SEQUENCE_STEP_EXCUTION_ID</th>\n      <th>CONTACT_ID</th>\n      <th>CONTACT_FIRST_NAME</th>\n      <th>CONTACT_LAST_NAME</th>\n      <th>...</th>\n      <th>COMPANY_PM_SOFTWARE</th>\n      <th>COMPANY_PROTFOLIO_SUBTYPE</th>\n      <th>COMPANY_PROTFOLIO_TYPE</th>\n      <th>COMPANY_RENT_PORTAL</th>\n      <th>COMPANY_SEGMENT</th>\n      <th>COMPANY_STATE</th>\n      <th>COMPANY_TIMEZONE</th>\n      <th>COMPANY_UNITS</th>\n      <th>COMPANY_WEBSITE</th>\n      <th>COMPANY_ZIPCODE</th>\n    </tr>\n  </thead>\n  <tbody>\n    <tr>\n      <th>29</th>\n      <td>20230415</td>\n      <td>76230405</td>\n      <td>JE Jan 23</td>\n      <td>3</td>\n      <td>37950803</td>\n      <td>6659388995</td>\n      <td>76230405-1551671967-6659388995</td>\n      <td>57974101</td>\n      <td>GH Team</td>\n      <td>None</td>\n      <td>...</td>\n      <td>Rent Manager</td>\n      <td>None</td>\n      <td>Multi Family</td>\n      <td>RentManager</td>\n      <td>SMB</td>\n      <td>MI</td>\n      <td>America/Detroit</td>\n      <td>3000</td>\n      <td>generalhomecorp.com</td>\n      <td>48099</td>\n    </tr>\n    <tr>\n      <th>31</th>\n      <td>20230329</td>\n      <td>76230405</td>\n      <td>JE Jan 23</td>\n      <td>0</td>\n      <td>37779790</td>\n      <td>6659388992</td>\n      <td>76230405-1551671967-6659388992</td>\n      <td>57974101</td>\n      <td>GH Team</td>\n      <td>None</td>\n      <td>...</td>\n      <td>Rent Manager</td>\n      <td>None</td>\n      <td>Multi Family</td>\n      <td>RentManager</td>\n      <td>SMB</td>\n      <td>MI</td>\n      <td>America/Detroit</td>\n      <td>3000</td>\n      <td>generalhomecorp.com</td>\n      <td>48099</td>\n    </tr>\n    <tr>\n      <th>32</th>\n      <td>20230410</td>\n      <td>76230405</td>\n      <td>JE Jan 23</td>\n      <td>2</td>\n      <td>37950732</td>\n      <td>6659388994</td>\n      <td>76230405-1551671967-6659388994</td>\n      <td>57974101</td>\n      <td>GH Team</td>\n      <td>None</td>\n      <td>...</td>\n      <td>Rent Manager</td>\n      <td>None</td>\n      <td>Multi Family</td>\n      <td>RentManager</td>\n      <td>SMB</td>\n      <td>MI</td>\n      <td>America/Detroit</td>\n      <td>3000</td>\n      <td>generalhomecorp.com</td>\n      <td>48099</td>\n    </tr>\n    <tr>\n      <th>35</th>\n      <td>20230404</td>\n      <td>76230405</td>\n      <td>JE Jan 23</td>\n      <td>1</td>\n      <td>37950617</td>\n      <td>6659388993</td>\n      <td>76230405-1551671967-6659388993</td>\n      <td>57974101</td>\n      <td>GH Team</td>\n      <td>None</td>\n      <td>...</td>\n      <td>Rent Manager</td>\n      <td>None</td>\n      <td>Multi Family</td>\n      <td>RentManager</td>\n      <td>SMB</td>\n      <td>MI</td>\n      <td>America/Detroit</td>\n      <td>3000</td>\n      <td>generalhomecorp.com</td>\n      <td>48099</td>\n    </tr>\n    <tr>\n      <th>37</th>\n      <td>20230420</td>\n      <td>76230405</td>\n      <td>JE Jan 23</td>\n      <td>4</td>\n      <td>37951256</td>\n      <td>6659388996</td>\n      <td>76230405-1551671967-6659388996</td>\n      <td>57974101</td>\n      <td>GH Team</td>\n      <td>None</td>\n      <td>...</td>\n      <td>Rent Manager</td>\n      <td>None</td>\n      <td>Multi Family</td>\n      <td>RentManager</td>\n      <td>SMB</td>\n      <td>MI</td>\n      <td>America/Detroit</td>\n      <td>3000</td>\n      <td>generalhomecorp.com</td>\n      <td>48099</td>\n    </tr>\n    <tr>\n      <th>...</th>\n      <td>...</td>\n      <td>...</td>\n      <td>...</td>\n      <td>...</td>\n      <td>...</td>\n      <td>...</td>\n      <td>...</td>\n      <td>...</td>\n      <td>...</td>\n      <td>...</td>\n      <td>...</td>\n      <td>...</td>\n      <td>...</td>\n      <td>...</td>\n      <td>...</td>\n      <td>...</td>\n      <td>...</td>\n      <td>...</td>\n      <td>...</td>\n      <td>...</td>\n      <td>...</td>\n    </tr>\n    <tr>\n      <th>79725</th>\n      <td>20230125</td>\n      <td>76230405</td>\n      <td>JE Jan 23</td>\n      <td>0</td>\n      <td>37779790</td>\n      <td>6165108854</td>\n      <td>76230405-1445618742-6165108854</td>\n      <td>49213</td>\n      <td>Sondra</td>\n      <td>Atou</td>\n      <td>...</td>\n      <td>Yardi</td>\n      <td>None</td>\n      <td>Multi Family</td>\n      <td>RentCafe</td>\n      <td>Deep SMB</td>\n      <td>AZ</td>\n      <td>America/Edmonton</td>\n      <td>752</td>\n      <td>http://www.petwin.com</td>\n      <td>85251</td>\n    </tr>\n    <tr>\n      <th>79726</th>\n      <td>20230125</td>\n      <td>76230405</td>\n      <td>JE Jan 23</td>\n      <td>0</td>\n      <td>37779790</td>\n      <td>6165108872</td>\n      <td>76230405-1445618739-6165108872</td>\n      <td>58681451</td>\n      <td>Echo</td>\n      <td>Thompson</td>\n      <td>...</td>\n      <td>Yardi</td>\n      <td>None</td>\n      <td>Multi Family</td>\n      <td>RentCafe</td>\n      <td>Deep SMB</td>\n      <td>AZ</td>\n      <td>America/Edmonton</td>\n      <td>752</td>\n      <td>http://www.petwin.com</td>\n      <td>85251</td>\n    </tr>\n    <tr>\n      <th>79727</th>\n      <td>20230131</td>\n      <td>76230405</td>\n      <td>JE Jan 23</td>\n      <td>1</td>\n      <td>37950617</td>\n      <td>6165108885</td>\n      <td>76230405-1445618741-6165108885</td>\n      <td>36060</td>\n      <td>Ted</td>\n      <td>Kennedy</td>\n      <td>...</td>\n      <td>Yardi</td>\n      <td>None</td>\n      <td>Multi Family</td>\n      <td>RentCafe</td>\n      <td>Deep SMB</td>\n      <td>AZ</td>\n      <td>America/Edmonton</td>\n      <td>752</td>\n      <td>http://www.petwin.com</td>\n      <td>85251</td>\n    </tr>\n    <tr>\n      <th>79728</th>\n      <td>20230131</td>\n      <td>76230405</td>\n      <td>JE Jan 23</td>\n      <td>1</td>\n      <td>37950617</td>\n      <td>6165108849</td>\n      <td>76230405-1445618736-6165108849</td>\n      <td>58681401</td>\n      <td>Amanda</td>\n      <td>Novotny</td>\n      <td>...</td>\n      <td>Yardi</td>\n      <td>None</td>\n      <td>Multi Family</td>\n      <td>RentCafe</td>\n      <td>Deep SMB</td>\n      <td>AZ</td>\n      <td>America/Edmonton</td>\n      <td>752</td>\n      <td>http://www.petwin.com</td>\n      <td>85251</td>\n    </tr>\n    <tr>\n      <th>79729</th>\n      <td>20230216</td>\n      <td>76230405</td>\n      <td>JE Jan 23</td>\n      <td>4</td>\n      <td>37951256</td>\n      <td>6165108870</td>\n      <td>76230405-1445618738-6165108870</td>\n      <td>33625</td>\n      <td>Cindy</td>\n      <td>Coleman</td>\n      <td>...</td>\n      <td>Yardi</td>\n      <td>None</td>\n      <td>Multi Family</td>\n      <td>RentCafe</td>\n      <td>Deep SMB</td>\n      <td>AZ</td>\n      <td>America/Edmonton</td>\n      <td>752</td>\n      <td>http://www.petwin.com</td>\n      <td>85251</td>\n    </tr>\n  </tbody>\n</table>\n<p>2410 rows × 83 columns</p>\n</div>"
     },
     "execution_count": 57,
     "metadata": {},
     "output_type": "execute_result"
    }
   ],
   "source": [
    "df_sequence_20230101[df_sequence_20230101['SEQUENCE_ID'] == '76230405']"
   ],
   "metadata": {
    "collapsed": false,
    "ExecuteTime": {
     "end_time": "2023-10-17T23:56:54.287821Z",
     "start_time": "2023-10-17T23:56:54.136307Z"
    }
   },
   "id": "d3a9ab1592400688"
  },
  {
   "cell_type": "code",
   "execution_count": 58,
   "outputs": [
    {
     "name": "stdout",
     "output_type": "stream",
     "text": [
      "<class 'pandas.core.frame.DataFrame'>\n",
      "RangeIndex: 80189 entries, 0 to 80188\n",
      "Data columns (total 83 columns):\n",
      " #   Column                                                   Non-Null Count  Dtype         \n",
      "---  ------                                                   --------------  -----         \n",
      " 0   OCCURRED_DATE                                            80189 non-null  int64         \n",
      " 1   SEQUENCE_ID                                              80189 non-null  object        \n",
      " 2   SEQUENCE_NAME                                            80189 non-null  object        \n",
      " 3   STEP_ID                                                  80189 non-null  object        \n",
      " 4   TEMPLATE_ID                                              80189 non-null  object        \n",
      " 5   SEQUENCE_ENROLLMENT_ID                                   80189 non-null  object        \n",
      " 6   SEQUENCE_STEP_EXCUTION_ID                                80189 non-null  object        \n",
      " 7   CONTACT_ID                                               80189 non-null  int64         \n",
      " 8   CONTACT_FIRST_NAME                                       80092 non-null  object        \n",
      " 9   CONTACT_LAST_NAME                                        79859 non-null  object        \n",
      " 10  CONTACT_COMPANY_ID                                       80189 non-null  object        \n",
      " 11  CONTACT_COMPANY_NAME                                     78379 non-null  object        \n",
      " 12  REPLY_COUNT                                              1266 non-null   object        \n",
      " 13  OPEN_COUNT                                               15546 non-null  object        \n",
      " 14  MEETING_BOOKED_COUNT                                     20 non-null     object        \n",
      " 15  CONTACT_UPDATE_DATE                                      80189 non-null  datetime64[ns]\n",
      " 16  CONTACT_ADDRESS                                          45738 non-null  object        \n",
      " 17  CONTACT_CITY                                             58525 non-null  object        \n",
      " 18  CONTACT_COMPANY                                          78379 non-null  object        \n",
      " 19  CONTACT_COUNTRY                                          47451 non-null  object        \n",
      " 20  CONTACT_CREATE_DATE                                      80189 non-null  datetime64[ns]\n",
      " 21  CONTACT_CREATE_TIMESTAMP                                 80189 non-null  object        \n",
      " 22  CONTACT_EAMIL                                            80180 non-null  object        \n",
      " 23  CONTACT_FIRST_DEAL_CREATE_DATE                           3846 non-null   datetime64[ns]\n",
      " 24  CONTACT_ADDITIONAL_EMAIL                                 1695 non-null   object        \n",
      " 25  CONTACT_EMAIL_DOMAIN                                     80180 non-null  object        \n",
      " 26  CONTACT_IP_TIMEZONE                                      2631 non-null   object        \n",
      " 27  CONTACT_IS_UNWORKED                                      80189 non-null  object        \n",
      " 28  CONTACT_LATEST_SEQUENCE_ENDED_DATE                       79587 non-null  datetime64[ns]\n",
      " 29  CONTACT_LATEST_SEQUENCE_ENDED_TIMESTAMP                  79587 non-null  object        \n",
      " 30  CONTACT_LATEST_SEQUENCE_ENROLLED_DATE                    80189 non-null  datetime64[ns]\n",
      " 31  CONTACT_LATEST_SEQUENCE_ENTROLLED_TIMESTAMP              80189 non-null  object        \n",
      " 32  CONTACT_LEAD_STATUS                                      35340 non-null  object        \n",
      " 33  CONTACT_SEQUENCES_ENROLLED_COUNT                         80189 non-null  object        \n",
      " 34  CONTACT_SEQUENCES_IS_ENROLLED                            80189 non-null  object        \n",
      " 35  CONTACT_TIME_BETWEEN_CONTACT_CREATION_AND_DEAL_CREATION  3846 non-null   object        \n",
      " 36  CONTACT_HUBSPOT_OWNER_ID                                 80189 non-null  object        \n",
      " 37  CONTACT_HUBSPOT_TEAM_ID                                  80189 non-null  object        \n",
      " 38  CONTACT_JOB_TITLE                                        76483 non-null  object        \n",
      " 39  CONTACT_LAST_MODIFIED_DATE                               80189 non-null  datetime64[ns]\n",
      " 40  CONTACT_LAST_MODIFED_TIMESTAMP                           80189 non-null  object        \n",
      " 41  CONTACT_LEAD_SOURCE                                      43159 non-null  object        \n",
      " 42  CONTACT_LINKEDIN                                         32185 non-null  object        \n",
      " 43  CONTACT_MOBILE_PHONE                                     31457 non-null  object        \n",
      " 44  CONTACT_NUM_ASSOCIATED_DEALS                             3846 non-null   object        \n",
      " 45  CONTACT_NUM_CONTACTED_NOTES                              80189 non-null  object        \n",
      " 46  CONTACT_PHONE                                            66853 non-null  object        \n",
      " 47  CONTACT_STATE                                            57878 non-null  object        \n",
      " 48  CONTACT_UNITS                                            54630 non-null  object        \n",
      " 49  CONTACT_WEBSITE                                          66151 non-null  object        \n",
      " 50  CONTACT_ZIPCODE                                          54331 non-null  object        \n",
      " 51  COMPANY_OBJECT_TYPE_ID                                   80189 non-null  object        \n",
      " 52  COMPANY_UPDATE_DATE                                      80189 non-null  datetime64[ns]\n",
      " 53  COMPANY_ADDRESS                                          77482 non-null  object        \n",
      " 54  COMPANY_ADDRESS2                                         9862 non-null   object        \n",
      " 55  COMPANY_ANNUAL_REVENUE                                   69576 non-null  object        \n",
      " 56  COMPANY_CITY                                             78867 non-null  object        \n",
      " 57  COMPANY_COUNTRY                                          76022 non-null  object        \n",
      " 58  COMPANY_CREATE_DATE                                      80189 non-null  datetime64[ns]\n",
      " 59  COMPANY_CREATE_TIMESTAMP                                 80189 non-null  object        \n",
      " 60  COMPANY_DESCRIPTION                                      74161 non-null  object        \n",
      " 61  COMPANY_DOMAIN                                           80185 non-null  object        \n",
      " 62  COMPANY_FACEBOOK_PAGE                                    32286 non-null  object        \n",
      " 63  COMPANY_FIRST_CONTACT_DATE                               80189 non-null  datetime64[ns]\n",
      " 64  COMPANY_FOUNDED_YEAR                                     64419 non-null  object        \n",
      " 65  COMPANY_LEAD_STATUS                                      70606 non-null  object        \n",
      " 66  COMPANY_LINKEDIN_PAGE                                    67362 non-null  object        \n",
      " 67  COMPANY_LINKEDIN_BIO                                     70284 non-null  object        \n",
      " 68  COMPANY_NAME                                             80189 non-null  object        \n",
      " 69  COMPANY_NUM_ASSOCIATED_CONTACTS                          80189 non-null  object        \n",
      " 70  COMPANY_NUM_ASSOCIATED_DEALS                             50748 non-null  object        \n",
      " 71  COMPANY_NUM_PROPERTIES                                   61352 non-null  object        \n",
      " 72  COMPANY_PHONE                                            76463 non-null  object        \n",
      " 73  COMPANY_PM_SOFTWARE                                      65168 non-null  object        \n",
      " 74  COMPANY_PROTFOLIO_SUBTYPE                                46902 non-null  object        \n",
      " 75  COMPANY_PROTFOLIO_TYPE                                   76280 non-null  object        \n",
      " 76  COMPANY_RENT_PORTAL                                      69487 non-null  object        \n",
      " 77  COMPANY_SEGMENT                                          80189 non-null  object        \n",
      " 78  COMPANY_STATE                                            79187 non-null  object        \n",
      " 79  COMPANY_TIMEZONE                                         74753 non-null  object        \n",
      " 80  COMPANY_UNITS                                            80189 non-null  object        \n",
      " 81  COMPANY_WEBSITE                                          80185 non-null  object        \n",
      " 82  COMPANY_ZIPCODE                                          79003 non-null  object        \n",
      "dtypes: datetime64[ns](9), int64(2), object(72)\n",
      "memory usage: 50.8+ MB\n"
     ]
    }
   ],
   "source": [
    "df_sequence_20230101.info()"
   ],
   "metadata": {
    "collapsed": false,
    "ExecuteTime": {
     "end_time": "2023-10-17T23:57:06.331726Z",
     "start_time": "2023-10-17T23:57:05.414093Z"
    }
   },
   "id": "65fdc64fd1abc9a7"
  },
  {
   "cell_type": "code",
   "execution_count": null,
   "outputs": [],
   "source": [],
   "metadata": {
    "collapsed": false
   },
   "id": "21d468a95954e4a6"
  },
  {
   "cell_type": "code",
   "execution_count": 73,
   "outputs": [],
   "source": [
    "# test if the contact and company is 1 to 1 \n",
    "seq_contact_company_df = df_sequence_20230101.groupby(by=['SEQUENCE_ID', 'CONTACT_ID'])[['CONTACT_COMPANY_NAME']].nunique()"
   ],
   "metadata": {
    "collapsed": false,
    "ExecuteTime": {
     "end_time": "2023-10-18T00:09:01.663246Z",
     "start_time": "2023-10-18T00:09:00.965367Z"
    }
   },
   "id": "ff652ecad1b7bf4"
  },
  {
   "cell_type": "code",
   "execution_count": 74,
   "outputs": [
    {
     "data": {
      "text/plain": "Empty DataFrame\nColumns: [CONTACT_COMPANY_NAME]\nIndex: []",
      "text/html": "<div>\n<style scoped>\n    .dataframe tbody tr th:only-of-type {\n        vertical-align: middle;\n    }\n\n    .dataframe tbody tr th {\n        vertical-align: top;\n    }\n\n    .dataframe thead th {\n        text-align: right;\n    }\n</style>\n<table border=\"1\" class=\"dataframe\">\n  <thead>\n    <tr style=\"text-align: right;\">\n      <th></th>\n      <th></th>\n      <th>CONTACT_COMPANY_NAME</th>\n    </tr>\n    <tr>\n      <th>SEQUENCE_ID</th>\n      <th>CONTACT_ID</th>\n      <th></th>\n    </tr>\n  </thead>\n  <tbody>\n  </tbody>\n</table>\n</div>"
     },
     "execution_count": 74,
     "metadata": {},
     "output_type": "execute_result"
    }
   ],
   "source": [
    "# conclusion is Yes \n",
    "seq_contact_company_df[seq_contact_company_df['CONTACT_COMPANY_NAME'] > 1]"
   ],
   "metadata": {
    "collapsed": false,
    "ExecuteTime": {
     "end_time": "2023-10-18T00:09:02.959170Z",
     "start_time": "2023-10-18T00:09:02.933154Z"
    }
   },
   "id": "b81fbf2dfce31104"
  },
  {
   "cell_type": "code",
   "execution_count": 72,
   "outputs": [
    {
     "ename": "AttributeError",
     "evalue": "'Series' object has no attribute 'columns'",
     "output_type": "error",
     "traceback": [
      "\u001B[0;31m---------------------------------------------------------------------------\u001B[0m",
      "\u001B[0;31mAttributeError\u001B[0m                            Traceback (most recent call last)",
      "\u001B[0;32m/var/folders/87/68jxvfgs4f91bq6p06d8lzpc0000gp/T/ipykernel_91465/4026441769.py\u001B[0m in \u001B[0;36m?\u001B[0;34m()\u001B[0m\n\u001B[0;32m----> 1\u001B[0;31m \u001B[0mseq_contact_company_df\u001B[0m\u001B[0;34m.\u001B[0m\u001B[0mcolumns\u001B[0m\u001B[0;34m\u001B[0m\u001B[0;34m\u001B[0m\u001B[0m\n\u001B[0m",
      "\u001B[0;32m~/Documents/projects/flex2-prospector-AI/.venv/lib/python3.11/site-packages/pandas/core/generic.py\u001B[0m in \u001B[0;36m?\u001B[0;34m(self, name)\u001B[0m\n\u001B[1;32m   6200\u001B[0m             \u001B[0;32mand\u001B[0m \u001B[0mname\u001B[0m \u001B[0;32mnot\u001B[0m \u001B[0;32min\u001B[0m \u001B[0mself\u001B[0m\u001B[0;34m.\u001B[0m\u001B[0m_accessors\u001B[0m\u001B[0;34m\u001B[0m\u001B[0;34m\u001B[0m\u001B[0m\n\u001B[1;32m   6201\u001B[0m             \u001B[0;32mand\u001B[0m \u001B[0mself\u001B[0m\u001B[0;34m.\u001B[0m\u001B[0m_info_axis\u001B[0m\u001B[0;34m.\u001B[0m\u001B[0m_can_hold_identifiers_and_holds_name\u001B[0m\u001B[0;34m(\u001B[0m\u001B[0mname\u001B[0m\u001B[0;34m)\u001B[0m\u001B[0;34m\u001B[0m\u001B[0;34m\u001B[0m\u001B[0m\n\u001B[1;32m   6202\u001B[0m         ):\n\u001B[1;32m   6203\u001B[0m             \u001B[0;32mreturn\u001B[0m \u001B[0mself\u001B[0m\u001B[0;34m[\u001B[0m\u001B[0mname\u001B[0m\u001B[0;34m]\u001B[0m\u001B[0;34m\u001B[0m\u001B[0;34m\u001B[0m\u001B[0m\n\u001B[0;32m-> 6204\u001B[0;31m         \u001B[0;32mreturn\u001B[0m \u001B[0mobject\u001B[0m\u001B[0;34m.\u001B[0m\u001B[0m__getattribute__\u001B[0m\u001B[0;34m(\u001B[0m\u001B[0mself\u001B[0m\u001B[0;34m,\u001B[0m \u001B[0mname\u001B[0m\u001B[0;34m)\u001B[0m\u001B[0;34m\u001B[0m\u001B[0;34m\u001B[0m\u001B[0m\n\u001B[0m",
      "\u001B[0;31mAttributeError\u001B[0m: 'Series' object has no attribute 'columns'"
     ]
    }
   ],
   "source": [
    "# summary the sequence performance \n",
    "# for a sequence to a specific contact and company, the performance is the sum of all the performance of all the steps \n",
    "# use the yes/no indicator for if scheduled meeting, if response \n",
    "seq_contact_company_df = df_sequence_20230101.groupby(by=['SEQUENCE_ID', 'CONTACT_ID', 'CONTACT_COMPANY_NAME'])[['CONTACT_COMPANY_NAME']]"
   ],
   "metadata": {
    "collapsed": false,
    "ExecuteTime": {
     "end_time": "2023-10-18T00:08:43.380910Z",
     "start_time": "2023-10-18T00:08:43.357941Z"
    }
   },
   "id": "14d3c3e3022c5fbf"
  },
  {
   "cell_type": "code",
   "execution_count": 81,
   "outputs": [],
   "source": [
    "dfx = pd.read_csv('/Users/xiangpingbu/Documents/tmp/2023-10-18_customer_1697616350829.csv', sep='|')"
   ],
   "metadata": {
    "collapsed": false,
    "ExecuteTime": {
     "end_time": "2023-10-18T08:06:43.470034Z",
     "start_time": "2023-10-18T08:06:43.327268Z"
    }
   },
   "id": "40674c1714e67f03"
  },
  {
   "cell_type": "code",
   "execution_count": 82,
   "outputs": [
    {
     "data": {
      "text/plain": "                      customer_id customer_type                 created_at  \\\n0    VXUxXVNCxOMOA2za8ViXwYVNzN03    individual  2023-10-11T11:02:50-05:00   \n1    IGUdpzPW0RSh6rxZcihnO77VNSs1    individual  2023-10-11T11:07:05-05:00   \n2    9Ux0tDF9qffpzBOhVixMH35fDKQ2    individual  2023-10-11T11:07:26-05:00   \n3    vHKwrp7RpoZ8Zywwb6rTcLIsUEL2    individual  2023-10-11T11:07:43-05:00   \n4    DeXNuL8in2YGN61aVzGTOLOfn9r1    individual  2023-10-11T11:07:59-05:00   \n..                            ...           ...                        ...   \n147  WmgH9DTrHhOqsUFRcclYcDQ3cgg1    individual  2023-10-11T13:19:57-05:00   \n148  4tXFpg5FfBdIALX8xzl6yCM4JOv1    individual  2023-10-11T13:20:18-05:00   \n149  rmLK475JTjRu4nSSOJpU8vO63Qm1    individual  2023-10-11T13:20:37-05:00   \n150  JRSGZrLr02Yahfnc3U0bCazs8m72    individual  2023-10-11T13:21:38-05:00   \n151  TeCu3H55FdMslAqqAR1790C4hOq1    individual  2023-10-11T13:38:43-05:00   \n\n    first_name  preferred_first_name  middle_name last_name  date_of_birth  \\\n0        Keith                   NaN          NaN   Wilkins            NaN   \n1        Keith                   NaN          NaN   Wilkins            NaN   \n2        Keith                   NaN          NaN   Wilkins            NaN   \n3        Keith                   NaN          NaN   Wilkins            NaN   \n4        Keith                   NaN          NaN   Wilkins            NaN   \n..         ...                   ...          ...       ...            ...   \n147      Keith                   NaN          NaN   Wilkins            NaN   \n148      Keith                   NaN          NaN   Wilkins            NaN   \n149      Keith                   NaN          NaN   Wilkins            NaN   \n150      Keith                   NaN          NaN   Wilkins            NaN   \n151      Keith                   NaN          NaN   Wilkins            NaN   \n\n    tax_id_type tax_id_value  ... mailing_address_state  \\\n0           ssn  123-45-6789  ...                   NaN   \n1           ssn  123-45-6789  ...                   NaN   \n2           ssn  123-45-6789  ...                   NaN   \n3           ssn  123-45-6789  ...                   NaN   \n4           ssn  123-45-6789  ...                   NaN   \n..          ...          ...  ...                   ...   \n147         ssn  123-45-6789  ...                   NaN   \n148         ssn  123-45-6789  ...                   NaN   \n149         ssn  123-45-6789  ...                   NaN   \n150         ssn  123-45-6789  ...                   NaN   \n151         ssn  123-45-6789  ...                   NaN   \n\n     mailing_address_country  credit_pull_consented  \\\n0                        NaN                   True   \n1                        NaN                   True   \n2                        NaN                   True   \n3                        NaN                   True   \n4                        NaN                   True   \n..                       ...                    ...   \n147                      NaN                   True   \n148                      NaN                   True   \n149                      NaN                   True   \n150                      NaN                   True   \n151                      NaN                   True   \n\n              credit_pulled_at  credit_score credit_report_source  \\\n0    2023-10-11T11:03:02-05:00         700.0           transunion   \n1    2023-10-11T11:07:11-05:00         700.0           transunion   \n2    2023-10-11T11:07:30-05:00           NaN           transunion   \n3    2023-10-11T11:07:46-05:00         700.0           transunion   \n4    2023-10-11T11:08:03-05:00         700.0           transunion   \n..                         ...           ...                  ...   \n147  2023-10-11T13:20:01-05:00           NaN           transunion   \n148  2023-10-11T13:20:21-05:00           NaN           transunion   \n149  2023-10-11T13:20:40-05:00         700.0           transunion   \n150  2023-10-11T13:21:42-05:00         700.0           transunion   \n151  2023-10-11T13:38:48-05:00           NaN           transunion   \n\n     credit_report_id credit_bureau_data               generated_at  \\\n0                 NaN                NaN  2023-10-18T03:05:48-05:00   \n1                 NaN                NaN  2023-10-18T03:05:48-05:00   \n2                 NaN                NaN  2023-10-18T03:05:48-05:00   \n3                 NaN                NaN  2023-10-18T03:05:48-05:00   \n4                 NaN                NaN  2023-10-18T03:05:48-05:00   \n..                ...                ...                        ...   \n147               NaN                NaN  2023-10-18T03:05:48-05:00   \n148               NaN                NaN  2023-10-18T03:05:48-05:00   \n149               NaN                NaN  2023-10-18T03:05:48-05:00   \n150               NaN                NaN  2023-10-18T03:05:48-05:00   \n151               NaN                NaN  2023-10-18T03:05:48-05:00   \n\n                  effective_at  \n0    2023-10-11T23:59:59-05:00  \n1    2023-10-11T23:59:59-05:00  \n2    2023-10-11T23:59:59-05:00  \n3    2023-10-11T23:59:59-05:00  \n4    2023-10-11T23:59:59-05:00  \n..                         ...  \n147  2023-10-11T23:59:59-05:00  \n148  2023-10-11T23:59:59-05:00  \n149  2023-10-11T23:59:59-05:00  \n150  2023-10-11T23:59:59-05:00  \n151  2023-10-11T23:59:59-05:00  \n\n[152 rows x 47 columns]",
      "text/html": "<div>\n<style scoped>\n    .dataframe tbody tr th:only-of-type {\n        vertical-align: middle;\n    }\n\n    .dataframe tbody tr th {\n        vertical-align: top;\n    }\n\n    .dataframe thead th {\n        text-align: right;\n    }\n</style>\n<table border=\"1\" class=\"dataframe\">\n  <thead>\n    <tr style=\"text-align: right;\">\n      <th></th>\n      <th>customer_id</th>\n      <th>customer_type</th>\n      <th>created_at</th>\n      <th>first_name</th>\n      <th>preferred_first_name</th>\n      <th>middle_name</th>\n      <th>last_name</th>\n      <th>date_of_birth</th>\n      <th>tax_id_type</th>\n      <th>tax_id_value</th>\n      <th>...</th>\n      <th>mailing_address_state</th>\n      <th>mailing_address_country</th>\n      <th>credit_pull_consented</th>\n      <th>credit_pulled_at</th>\n      <th>credit_score</th>\n      <th>credit_report_source</th>\n      <th>credit_report_id</th>\n      <th>credit_bureau_data</th>\n      <th>generated_at</th>\n      <th>effective_at</th>\n    </tr>\n  </thead>\n  <tbody>\n    <tr>\n      <th>0</th>\n      <td>VXUxXVNCxOMOA2za8ViXwYVNzN03</td>\n      <td>individual</td>\n      <td>2023-10-11T11:02:50-05:00</td>\n      <td>Keith</td>\n      <td>NaN</td>\n      <td>NaN</td>\n      <td>Wilkins</td>\n      <td>NaN</td>\n      <td>ssn</td>\n      <td>123-45-6789</td>\n      <td>...</td>\n      <td>NaN</td>\n      <td>NaN</td>\n      <td>True</td>\n      <td>2023-10-11T11:03:02-05:00</td>\n      <td>700.0</td>\n      <td>transunion</td>\n      <td>NaN</td>\n      <td>NaN</td>\n      <td>2023-10-18T03:05:48-05:00</td>\n      <td>2023-10-11T23:59:59-05:00</td>\n    </tr>\n    <tr>\n      <th>1</th>\n      <td>IGUdpzPW0RSh6rxZcihnO77VNSs1</td>\n      <td>individual</td>\n      <td>2023-10-11T11:07:05-05:00</td>\n      <td>Keith</td>\n      <td>NaN</td>\n      <td>NaN</td>\n      <td>Wilkins</td>\n      <td>NaN</td>\n      <td>ssn</td>\n      <td>123-45-6789</td>\n      <td>...</td>\n      <td>NaN</td>\n      <td>NaN</td>\n      <td>True</td>\n      <td>2023-10-11T11:07:11-05:00</td>\n      <td>700.0</td>\n      <td>transunion</td>\n      <td>NaN</td>\n      <td>NaN</td>\n      <td>2023-10-18T03:05:48-05:00</td>\n      <td>2023-10-11T23:59:59-05:00</td>\n    </tr>\n    <tr>\n      <th>2</th>\n      <td>9Ux0tDF9qffpzBOhVixMH35fDKQ2</td>\n      <td>individual</td>\n      <td>2023-10-11T11:07:26-05:00</td>\n      <td>Keith</td>\n      <td>NaN</td>\n      <td>NaN</td>\n      <td>Wilkins</td>\n      <td>NaN</td>\n      <td>ssn</td>\n      <td>123-45-6789</td>\n      <td>...</td>\n      <td>NaN</td>\n      <td>NaN</td>\n      <td>True</td>\n      <td>2023-10-11T11:07:30-05:00</td>\n      <td>NaN</td>\n      <td>transunion</td>\n      <td>NaN</td>\n      <td>NaN</td>\n      <td>2023-10-18T03:05:48-05:00</td>\n      <td>2023-10-11T23:59:59-05:00</td>\n    </tr>\n    <tr>\n      <th>3</th>\n      <td>vHKwrp7RpoZ8Zywwb6rTcLIsUEL2</td>\n      <td>individual</td>\n      <td>2023-10-11T11:07:43-05:00</td>\n      <td>Keith</td>\n      <td>NaN</td>\n      <td>NaN</td>\n      <td>Wilkins</td>\n      <td>NaN</td>\n      <td>ssn</td>\n      <td>123-45-6789</td>\n      <td>...</td>\n      <td>NaN</td>\n      <td>NaN</td>\n      <td>True</td>\n      <td>2023-10-11T11:07:46-05:00</td>\n      <td>700.0</td>\n      <td>transunion</td>\n      <td>NaN</td>\n      <td>NaN</td>\n      <td>2023-10-18T03:05:48-05:00</td>\n      <td>2023-10-11T23:59:59-05:00</td>\n    </tr>\n    <tr>\n      <th>4</th>\n      <td>DeXNuL8in2YGN61aVzGTOLOfn9r1</td>\n      <td>individual</td>\n      <td>2023-10-11T11:07:59-05:00</td>\n      <td>Keith</td>\n      <td>NaN</td>\n      <td>NaN</td>\n      <td>Wilkins</td>\n      <td>NaN</td>\n      <td>ssn</td>\n      <td>123-45-6789</td>\n      <td>...</td>\n      <td>NaN</td>\n      <td>NaN</td>\n      <td>True</td>\n      <td>2023-10-11T11:08:03-05:00</td>\n      <td>700.0</td>\n      <td>transunion</td>\n      <td>NaN</td>\n      <td>NaN</td>\n      <td>2023-10-18T03:05:48-05:00</td>\n      <td>2023-10-11T23:59:59-05:00</td>\n    </tr>\n    <tr>\n      <th>...</th>\n      <td>...</td>\n      <td>...</td>\n      <td>...</td>\n      <td>...</td>\n      <td>...</td>\n      <td>...</td>\n      <td>...</td>\n      <td>...</td>\n      <td>...</td>\n      <td>...</td>\n      <td>...</td>\n      <td>...</td>\n      <td>...</td>\n      <td>...</td>\n      <td>...</td>\n      <td>...</td>\n      <td>...</td>\n      <td>...</td>\n      <td>...</td>\n      <td>...</td>\n      <td>...</td>\n    </tr>\n    <tr>\n      <th>147</th>\n      <td>WmgH9DTrHhOqsUFRcclYcDQ3cgg1</td>\n      <td>individual</td>\n      <td>2023-10-11T13:19:57-05:00</td>\n      <td>Keith</td>\n      <td>NaN</td>\n      <td>NaN</td>\n      <td>Wilkins</td>\n      <td>NaN</td>\n      <td>ssn</td>\n      <td>123-45-6789</td>\n      <td>...</td>\n      <td>NaN</td>\n      <td>NaN</td>\n      <td>True</td>\n      <td>2023-10-11T13:20:01-05:00</td>\n      <td>NaN</td>\n      <td>transunion</td>\n      <td>NaN</td>\n      <td>NaN</td>\n      <td>2023-10-18T03:05:48-05:00</td>\n      <td>2023-10-11T23:59:59-05:00</td>\n    </tr>\n    <tr>\n      <th>148</th>\n      <td>4tXFpg5FfBdIALX8xzl6yCM4JOv1</td>\n      <td>individual</td>\n      <td>2023-10-11T13:20:18-05:00</td>\n      <td>Keith</td>\n      <td>NaN</td>\n      <td>NaN</td>\n      <td>Wilkins</td>\n      <td>NaN</td>\n      <td>ssn</td>\n      <td>123-45-6789</td>\n      <td>...</td>\n      <td>NaN</td>\n      <td>NaN</td>\n      <td>True</td>\n      <td>2023-10-11T13:20:21-05:00</td>\n      <td>NaN</td>\n      <td>transunion</td>\n      <td>NaN</td>\n      <td>NaN</td>\n      <td>2023-10-18T03:05:48-05:00</td>\n      <td>2023-10-11T23:59:59-05:00</td>\n    </tr>\n    <tr>\n      <th>149</th>\n      <td>rmLK475JTjRu4nSSOJpU8vO63Qm1</td>\n      <td>individual</td>\n      <td>2023-10-11T13:20:37-05:00</td>\n      <td>Keith</td>\n      <td>NaN</td>\n      <td>NaN</td>\n      <td>Wilkins</td>\n      <td>NaN</td>\n      <td>ssn</td>\n      <td>123-45-6789</td>\n      <td>...</td>\n      <td>NaN</td>\n      <td>NaN</td>\n      <td>True</td>\n      <td>2023-10-11T13:20:40-05:00</td>\n      <td>700.0</td>\n      <td>transunion</td>\n      <td>NaN</td>\n      <td>NaN</td>\n      <td>2023-10-18T03:05:48-05:00</td>\n      <td>2023-10-11T23:59:59-05:00</td>\n    </tr>\n    <tr>\n      <th>150</th>\n      <td>JRSGZrLr02Yahfnc3U0bCazs8m72</td>\n      <td>individual</td>\n      <td>2023-10-11T13:21:38-05:00</td>\n      <td>Keith</td>\n      <td>NaN</td>\n      <td>NaN</td>\n      <td>Wilkins</td>\n      <td>NaN</td>\n      <td>ssn</td>\n      <td>123-45-6789</td>\n      <td>...</td>\n      <td>NaN</td>\n      <td>NaN</td>\n      <td>True</td>\n      <td>2023-10-11T13:21:42-05:00</td>\n      <td>700.0</td>\n      <td>transunion</td>\n      <td>NaN</td>\n      <td>NaN</td>\n      <td>2023-10-18T03:05:48-05:00</td>\n      <td>2023-10-11T23:59:59-05:00</td>\n    </tr>\n    <tr>\n      <th>151</th>\n      <td>TeCu3H55FdMslAqqAR1790C4hOq1</td>\n      <td>individual</td>\n      <td>2023-10-11T13:38:43-05:00</td>\n      <td>Keith</td>\n      <td>NaN</td>\n      <td>NaN</td>\n      <td>Wilkins</td>\n      <td>NaN</td>\n      <td>ssn</td>\n      <td>123-45-6789</td>\n      <td>...</td>\n      <td>NaN</td>\n      <td>NaN</td>\n      <td>True</td>\n      <td>2023-10-11T13:38:48-05:00</td>\n      <td>NaN</td>\n      <td>transunion</td>\n      <td>NaN</td>\n      <td>NaN</td>\n      <td>2023-10-18T03:05:48-05:00</td>\n      <td>2023-10-11T23:59:59-05:00</td>\n    </tr>\n  </tbody>\n</table>\n<p>152 rows × 47 columns</p>\n</div>"
     },
     "execution_count": 82,
     "metadata": {},
     "output_type": "execute_result"
    }
   ],
   "source": [
    "dfx"
   ],
   "metadata": {
    "collapsed": false,
    "ExecuteTime": {
     "end_time": "2023-10-18T08:06:44.026876Z",
     "start_time": "2023-10-18T08:06:44.016770Z"
    }
   },
   "id": "9b8102afb0fe713e"
  },
  {
   "cell_type": "code",
   "execution_count": 95,
   "outputs": [],
   "source": [
    "dfy = pd.read_csv('/Users/xiangpingbu/Documents/tmp/2023-10-18_customer_1697644753781.csv', sep='|')"
   ],
   "metadata": {
    "collapsed": false,
    "ExecuteTime": {
     "end_time": "2023-10-18T16:00:13.962979Z",
     "start_time": "2023-10-18T16:00:13.819331Z"
    }
   },
   "id": "bed134cbdbf7159d"
  },
  {
   "cell_type": "code",
   "execution_count": 96,
   "outputs": [
    {
     "data": {
      "text/plain": "                      customer_id customer_type                 created_at  \\\n0    VXUxXVNCxOMOA2za8ViXwYVNzN03    individual  2023-10-11T11:02:50-05:00   \n1    IGUdpzPW0RSh6rxZcihnO77VNSs1    individual  2023-10-11T11:07:05-05:00   \n2    9Ux0tDF9qffpzBOhVixMH35fDKQ2    individual  2023-10-11T11:07:26-05:00   \n3    vHKwrp7RpoZ8Zywwb6rTcLIsUEL2    individual  2023-10-11T11:07:43-05:00   \n4    DeXNuL8in2YGN61aVzGTOLOfn9r1    individual  2023-10-11T11:07:59-05:00   \n..                            ...           ...                        ...   \n147  WmgH9DTrHhOqsUFRcclYcDQ3cgg1    individual  2023-10-11T13:19:57-05:00   \n148  4tXFpg5FfBdIALX8xzl6yCM4JOv1    individual  2023-10-11T13:20:18-05:00   \n149  rmLK475JTjRu4nSSOJpU8vO63Qm1    individual  2023-10-11T13:20:37-05:00   \n150  JRSGZrLr02Yahfnc3U0bCazs8m72    individual  2023-10-11T13:21:38-05:00   \n151  TeCu3H55FdMslAqqAR1790C4hOq1    individual  2023-10-11T13:38:43-05:00   \n\n    first_name  preferred_first_name  middle_name last_name  date_of_birth  \\\n0        Keith                   NaN          NaN   Wilkins            NaN   \n1        Keith                   NaN          NaN   Wilkins            NaN   \n2        Keith                   NaN          NaN   Wilkins            NaN   \n3        Keith                   NaN          NaN   Wilkins            NaN   \n4        Keith                   NaN          NaN   Wilkins            NaN   \n..         ...                   ...          ...       ...            ...   \n147      Keith                   NaN          NaN   Wilkins            NaN   \n148      Keith                   NaN          NaN   Wilkins            NaN   \n149      Keith                   NaN          NaN   Wilkins            NaN   \n150      Keith                   NaN          NaN   Wilkins            NaN   \n151      Keith                   NaN          NaN   Wilkins            NaN   \n\n    tax_id_type tax_id_value  ... mailing_address_state  \\\n0           ssn  123-45-6789  ...                   NaN   \n1           ssn  123-45-6789  ...                   NaN   \n2           ssn  123-45-6789  ...                   NaN   \n3           ssn  123-45-6789  ...                   NaN   \n4           ssn  123-45-6789  ...                   NaN   \n..          ...          ...  ...                   ...   \n147         ssn  123-45-6789  ...                   NaN   \n148         ssn  123-45-6789  ...                   NaN   \n149         ssn  123-45-6789  ...                   NaN   \n150         ssn  123-45-6789  ...                   NaN   \n151         ssn  123-45-6789  ...                   NaN   \n\n     mailing_address_country  credit_pull_consented  \\\n0                        NaN                   True   \n1                        NaN                   True   \n2                        NaN                   True   \n3                        NaN                   True   \n4                        NaN                   True   \n..                       ...                    ...   \n147                      NaN                   True   \n148                      NaN                   True   \n149                      NaN                   True   \n150                      NaN                   True   \n151                      NaN                   True   \n\n              credit_pulled_at  credit_score credit_report_source  \\\n0    2023-10-11T11:03:02-05:00         700.0           transunion   \n1    2023-10-11T11:07:11-05:00         700.0           transunion   \n2    2023-10-11T11:07:30-05:00           NaN           transunion   \n3    2023-10-11T11:07:46-05:00         700.0           transunion   \n4    2023-10-11T11:08:03-05:00         700.0           transunion   \n..                         ...           ...                  ...   \n147  2023-10-11T13:20:01-05:00           NaN           transunion   \n148  2023-10-11T13:20:21-05:00           NaN           transunion   \n149  2023-10-11T13:20:40-05:00         700.0           transunion   \n150  2023-10-11T13:21:42-05:00         700.0           transunion   \n151  2023-10-11T13:38:48-05:00           NaN           transunion   \n\n     credit_report_id credit_bureau_data               generated_at  \\\n0                 NaN                NaN  2023-10-18T10:59:11-05:00   \n1                 NaN                NaN  2023-10-18T10:59:11-05:00   \n2                 NaN                NaN  2023-10-18T10:59:11-05:00   \n3                 NaN                NaN  2023-10-18T10:59:11-05:00   \n4                 NaN                NaN  2023-10-18T10:59:11-05:00   \n..                ...                ...                        ...   \n147               NaN                NaN  2023-10-18T10:59:11-05:00   \n148               NaN                NaN  2023-10-18T10:59:11-05:00   \n149               NaN                NaN  2023-10-18T10:59:11-05:00   \n150               NaN                NaN  2023-10-18T10:59:11-05:00   \n151               NaN                NaN  2023-10-18T10:59:11-05:00   \n\n                  effective_at  \n0    2023-10-11T23:59:59-05:00  \n1    2023-10-11T23:59:59-05:00  \n2    2023-10-11T23:59:59-05:00  \n3    2023-10-11T23:59:59-05:00  \n4    2023-10-11T23:59:59-05:00  \n..                         ...  \n147  2023-10-11T23:59:59-05:00  \n148  2023-10-11T23:59:59-05:00  \n149  2023-10-11T23:59:59-05:00  \n150  2023-10-11T23:59:59-05:00  \n151  2023-10-11T23:59:59-05:00  \n\n[152 rows x 47 columns]",
      "text/html": "<div>\n<style scoped>\n    .dataframe tbody tr th:only-of-type {\n        vertical-align: middle;\n    }\n\n    .dataframe tbody tr th {\n        vertical-align: top;\n    }\n\n    .dataframe thead th {\n        text-align: right;\n    }\n</style>\n<table border=\"1\" class=\"dataframe\">\n  <thead>\n    <tr style=\"text-align: right;\">\n      <th></th>\n      <th>customer_id</th>\n      <th>customer_type</th>\n      <th>created_at</th>\n      <th>first_name</th>\n      <th>preferred_first_name</th>\n      <th>middle_name</th>\n      <th>last_name</th>\n      <th>date_of_birth</th>\n      <th>tax_id_type</th>\n      <th>tax_id_value</th>\n      <th>...</th>\n      <th>mailing_address_state</th>\n      <th>mailing_address_country</th>\n      <th>credit_pull_consented</th>\n      <th>credit_pulled_at</th>\n      <th>credit_score</th>\n      <th>credit_report_source</th>\n      <th>credit_report_id</th>\n      <th>credit_bureau_data</th>\n      <th>generated_at</th>\n      <th>effective_at</th>\n    </tr>\n  </thead>\n  <tbody>\n    <tr>\n      <th>0</th>\n      <td>VXUxXVNCxOMOA2za8ViXwYVNzN03</td>\n      <td>individual</td>\n      <td>2023-10-11T11:02:50-05:00</td>\n      <td>Keith</td>\n      <td>NaN</td>\n      <td>NaN</td>\n      <td>Wilkins</td>\n      <td>NaN</td>\n      <td>ssn</td>\n      <td>123-45-6789</td>\n      <td>...</td>\n      <td>NaN</td>\n      <td>NaN</td>\n      <td>True</td>\n      <td>2023-10-11T11:03:02-05:00</td>\n      <td>700.0</td>\n      <td>transunion</td>\n      <td>NaN</td>\n      <td>NaN</td>\n      <td>2023-10-18T10:59:11-05:00</td>\n      <td>2023-10-11T23:59:59-05:00</td>\n    </tr>\n    <tr>\n      <th>1</th>\n      <td>IGUdpzPW0RSh6rxZcihnO77VNSs1</td>\n      <td>individual</td>\n      <td>2023-10-11T11:07:05-05:00</td>\n      <td>Keith</td>\n      <td>NaN</td>\n      <td>NaN</td>\n      <td>Wilkins</td>\n      <td>NaN</td>\n      <td>ssn</td>\n      <td>123-45-6789</td>\n      <td>...</td>\n      <td>NaN</td>\n      <td>NaN</td>\n      <td>True</td>\n      <td>2023-10-11T11:07:11-05:00</td>\n      <td>700.0</td>\n      <td>transunion</td>\n      <td>NaN</td>\n      <td>NaN</td>\n      <td>2023-10-18T10:59:11-05:00</td>\n      <td>2023-10-11T23:59:59-05:00</td>\n    </tr>\n    <tr>\n      <th>2</th>\n      <td>9Ux0tDF9qffpzBOhVixMH35fDKQ2</td>\n      <td>individual</td>\n      <td>2023-10-11T11:07:26-05:00</td>\n      <td>Keith</td>\n      <td>NaN</td>\n      <td>NaN</td>\n      <td>Wilkins</td>\n      <td>NaN</td>\n      <td>ssn</td>\n      <td>123-45-6789</td>\n      <td>...</td>\n      <td>NaN</td>\n      <td>NaN</td>\n      <td>True</td>\n      <td>2023-10-11T11:07:30-05:00</td>\n      <td>NaN</td>\n      <td>transunion</td>\n      <td>NaN</td>\n      <td>NaN</td>\n      <td>2023-10-18T10:59:11-05:00</td>\n      <td>2023-10-11T23:59:59-05:00</td>\n    </tr>\n    <tr>\n      <th>3</th>\n      <td>vHKwrp7RpoZ8Zywwb6rTcLIsUEL2</td>\n      <td>individual</td>\n      <td>2023-10-11T11:07:43-05:00</td>\n      <td>Keith</td>\n      <td>NaN</td>\n      <td>NaN</td>\n      <td>Wilkins</td>\n      <td>NaN</td>\n      <td>ssn</td>\n      <td>123-45-6789</td>\n      <td>...</td>\n      <td>NaN</td>\n      <td>NaN</td>\n      <td>True</td>\n      <td>2023-10-11T11:07:46-05:00</td>\n      <td>700.0</td>\n      <td>transunion</td>\n      <td>NaN</td>\n      <td>NaN</td>\n      <td>2023-10-18T10:59:11-05:00</td>\n      <td>2023-10-11T23:59:59-05:00</td>\n    </tr>\n    <tr>\n      <th>4</th>\n      <td>DeXNuL8in2YGN61aVzGTOLOfn9r1</td>\n      <td>individual</td>\n      <td>2023-10-11T11:07:59-05:00</td>\n      <td>Keith</td>\n      <td>NaN</td>\n      <td>NaN</td>\n      <td>Wilkins</td>\n      <td>NaN</td>\n      <td>ssn</td>\n      <td>123-45-6789</td>\n      <td>...</td>\n      <td>NaN</td>\n      <td>NaN</td>\n      <td>True</td>\n      <td>2023-10-11T11:08:03-05:00</td>\n      <td>700.0</td>\n      <td>transunion</td>\n      <td>NaN</td>\n      <td>NaN</td>\n      <td>2023-10-18T10:59:11-05:00</td>\n      <td>2023-10-11T23:59:59-05:00</td>\n    </tr>\n    <tr>\n      <th>...</th>\n      <td>...</td>\n      <td>...</td>\n      <td>...</td>\n      <td>...</td>\n      <td>...</td>\n      <td>...</td>\n      <td>...</td>\n      <td>...</td>\n      <td>...</td>\n      <td>...</td>\n      <td>...</td>\n      <td>...</td>\n      <td>...</td>\n      <td>...</td>\n      <td>...</td>\n      <td>...</td>\n      <td>...</td>\n      <td>...</td>\n      <td>...</td>\n      <td>...</td>\n      <td>...</td>\n    </tr>\n    <tr>\n      <th>147</th>\n      <td>WmgH9DTrHhOqsUFRcclYcDQ3cgg1</td>\n      <td>individual</td>\n      <td>2023-10-11T13:19:57-05:00</td>\n      <td>Keith</td>\n      <td>NaN</td>\n      <td>NaN</td>\n      <td>Wilkins</td>\n      <td>NaN</td>\n      <td>ssn</td>\n      <td>123-45-6789</td>\n      <td>...</td>\n      <td>NaN</td>\n      <td>NaN</td>\n      <td>True</td>\n      <td>2023-10-11T13:20:01-05:00</td>\n      <td>NaN</td>\n      <td>transunion</td>\n      <td>NaN</td>\n      <td>NaN</td>\n      <td>2023-10-18T10:59:11-05:00</td>\n      <td>2023-10-11T23:59:59-05:00</td>\n    </tr>\n    <tr>\n      <th>148</th>\n      <td>4tXFpg5FfBdIALX8xzl6yCM4JOv1</td>\n      <td>individual</td>\n      <td>2023-10-11T13:20:18-05:00</td>\n      <td>Keith</td>\n      <td>NaN</td>\n      <td>NaN</td>\n      <td>Wilkins</td>\n      <td>NaN</td>\n      <td>ssn</td>\n      <td>123-45-6789</td>\n      <td>...</td>\n      <td>NaN</td>\n      <td>NaN</td>\n      <td>True</td>\n      <td>2023-10-11T13:20:21-05:00</td>\n      <td>NaN</td>\n      <td>transunion</td>\n      <td>NaN</td>\n      <td>NaN</td>\n      <td>2023-10-18T10:59:11-05:00</td>\n      <td>2023-10-11T23:59:59-05:00</td>\n    </tr>\n    <tr>\n      <th>149</th>\n      <td>rmLK475JTjRu4nSSOJpU8vO63Qm1</td>\n      <td>individual</td>\n      <td>2023-10-11T13:20:37-05:00</td>\n      <td>Keith</td>\n      <td>NaN</td>\n      <td>NaN</td>\n      <td>Wilkins</td>\n      <td>NaN</td>\n      <td>ssn</td>\n      <td>123-45-6789</td>\n      <td>...</td>\n      <td>NaN</td>\n      <td>NaN</td>\n      <td>True</td>\n      <td>2023-10-11T13:20:40-05:00</td>\n      <td>700.0</td>\n      <td>transunion</td>\n      <td>NaN</td>\n      <td>NaN</td>\n      <td>2023-10-18T10:59:11-05:00</td>\n      <td>2023-10-11T23:59:59-05:00</td>\n    </tr>\n    <tr>\n      <th>150</th>\n      <td>JRSGZrLr02Yahfnc3U0bCazs8m72</td>\n      <td>individual</td>\n      <td>2023-10-11T13:21:38-05:00</td>\n      <td>Keith</td>\n      <td>NaN</td>\n      <td>NaN</td>\n      <td>Wilkins</td>\n      <td>NaN</td>\n      <td>ssn</td>\n      <td>123-45-6789</td>\n      <td>...</td>\n      <td>NaN</td>\n      <td>NaN</td>\n      <td>True</td>\n      <td>2023-10-11T13:21:42-05:00</td>\n      <td>700.0</td>\n      <td>transunion</td>\n      <td>NaN</td>\n      <td>NaN</td>\n      <td>2023-10-18T10:59:11-05:00</td>\n      <td>2023-10-11T23:59:59-05:00</td>\n    </tr>\n    <tr>\n      <th>151</th>\n      <td>TeCu3H55FdMslAqqAR1790C4hOq1</td>\n      <td>individual</td>\n      <td>2023-10-11T13:38:43-05:00</td>\n      <td>Keith</td>\n      <td>NaN</td>\n      <td>NaN</td>\n      <td>Wilkins</td>\n      <td>NaN</td>\n      <td>ssn</td>\n      <td>123-45-6789</td>\n      <td>...</td>\n      <td>NaN</td>\n      <td>NaN</td>\n      <td>True</td>\n      <td>2023-10-11T13:38:48-05:00</td>\n      <td>NaN</td>\n      <td>transunion</td>\n      <td>NaN</td>\n      <td>NaN</td>\n      <td>2023-10-18T10:59:11-05:00</td>\n      <td>2023-10-11T23:59:59-05:00</td>\n    </tr>\n  </tbody>\n</table>\n<p>152 rows × 47 columns</p>\n</div>"
     },
     "execution_count": 96,
     "metadata": {},
     "output_type": "execute_result"
    }
   ],
   "source": [
    "dfy"
   ],
   "metadata": {
    "collapsed": false,
    "ExecuteTime": {
     "end_time": "2023-10-18T16:00:14.741997Z",
     "start_time": "2023-10-18T16:00:14.724866Z"
    }
   },
   "id": "a3d7ad31562c18e"
  },
  {
   "cell_type": "code",
   "execution_count": 91,
   "outputs": [],
   "source": [
    "dfy['a'] = dfy['credit_pulled_at'].apply(lambda x: 0 if x.startswith('2023-10-17') else 1)"
   ],
   "metadata": {
    "collapsed": false,
    "ExecuteTime": {
     "end_time": "2023-10-18T08:59:09.778206Z",
     "start_time": "2023-10-18T08:59:09.634317Z"
    }
   },
   "id": "9418dfd6459acda8"
  },
  {
   "cell_type": "code",
   "execution_count": 94,
   "outputs": [
    {
     "data": {
      "text/plain": "                      customer_id customer_type                 created_at  \\\n0    dmgglIBaRTeE9kNLgZCrmnKXhJK2    individual  2023-10-17T15:21:41-05:00   \n1    mHMQZVmHNbbuIUQoDMoNL1QLHTf1    individual  2023-10-17T22:34:49-05:00   \n2    1IMOP5Xy3KOYLZ3MpBzleoIUvWS2    individual  2022-11-25T09:51:43-05:00   \n3    AGdQPm5ncNNR2f99tMyVo23s0Td2    individual  2023-01-26T02:44:56-05:00   \n4    uydClvXoEbM4toSHVgm8ohL21M22    individual  2023-10-17T15:00:40-05:00   \n..                            ...           ...                        ...   \n429  Tw01vxPtlrfIS1uWHmzPknfrqEx2    individual  2023-10-17T20:48:45-05:00   \n430  yB1buSxhHeYl6WGY6eDmQLi0nS53    individual  2023-10-17T16:42:28-05:00   \n431  UtDZcVZjGVS1tRZdLq8QM307GIp1    individual  2023-10-17T05:48:58-05:00   \n432  aOoVwcf2AATTqRoFjUXg2BMgzMi2    individual  2023-10-17T09:27:12-05:00   \n433  KaIgdf4fHtUiilfc1ZLU7swGdvc2    individual  2023-10-17T14:59:35-05:00   \n\n     first_name  preferred_first_name  middle_name  last_name date_of_birth  \\\n0       Kaytlyn                   NaN          NaN    Collier           NaN   \n1        Sandra                   NaN          NaN  Flerimond           NaN   \n2        Nicole                   NaN          NaN   Saunders           NaN   \n3          Zach                   NaN          NaN      Jones           NaN   \n4        Yuriko                   NaN          NaN     Sprott           NaN   \n..          ...                   ...          ...        ...           ...   \n429       Cindy                   NaN          NaN  Henderson           NaN   \n430        Jada                   NaN          NaN     Norton           NaN   \n431     dameera                   NaN          NaN        van           NaN   \n432      Ingrid                   NaN          NaN       Cruz           NaN   \n433  Maximilian                   NaN          NaN      Garza           NaN   \n\n    tax_id_type tax_id_value  ... mailing_address_country  \\\n0           ssn  645-56-2801  ...                     NaN   \n1           ssn  766-66-8996  ...                     NaN   \n2           ssn  143-30-6772  ...                     NaN   \n3           ssn  639-96-0590  ...                     NaN   \n4           ssn  125-55-8147  ...                     NaN   \n..          ...          ...  ...                     ...   \n429         ssn  435-55-1824  ...                     NaN   \n430         ssn  493-31-9330  ...                     NaN   \n431         ssn  355-59-8018  ...                     NaN   \n432         ssn  583-33-3694  ...                     NaN   \n433         ssn  463-36-5015  ...                     NaN   \n\n     credit_pull_consented           credit_pulled_at  credit_score  \\\n0                     True  2023-10-17T15:22:47-05:00         672.0   \n1                     True  2023-10-17T22:36:34-05:00           NaN   \n2                     True  2023-10-17T22:03:05-05:00         659.0   \n3                     True  2023-10-17T10:11:01-05:00         567.0   \n4                     True  2023-10-17T15:07:50-05:00           NaN   \n..                     ...                        ...           ...   \n429                   True  2023-10-17T20:49:28-05:00         562.0   \n430                   True  2023-10-17T17:17:12-05:00           NaN   \n431                   True  2023-10-17T05:57:01-05:00         574.0   \n432                   True  2023-10-17T09:38:31-05:00         568.0   \n433                   True  2023-10-17T15:01:19-05:00           NaN   \n\n     credit_report_source credit_report_id credit_bureau_data  \\\n0              transunion              NaN                NaN   \n1              transunion              NaN                NaN   \n2              transunion              NaN                NaN   \n3              transunion              NaN                NaN   \n4              transunion              NaN                NaN   \n..                    ...              ...                ...   \n429            transunion              NaN                NaN   \n430            transunion              NaN                NaN   \n431            transunion              NaN                NaN   \n432            transunion              NaN                NaN   \n433            transunion              NaN                NaN   \n\n                  generated_at               effective_at  a  \n0    2023-10-18T03:51:46-05:00  2023-10-17T23:59:59-05:00  0  \n1    2023-10-18T03:51:46-05:00  2023-10-17T23:59:59-05:00  0  \n2    2023-10-18T03:51:46-05:00  2023-10-17T23:59:59-05:00  0  \n3    2023-10-18T03:51:46-05:00  2023-10-17T23:59:59-05:00  0  \n4    2023-10-18T03:51:46-05:00  2023-10-17T23:59:59-05:00  0  \n..                         ...                        ... ..  \n429  2023-10-18T03:51:46-05:00  2023-10-17T23:59:59-05:00  0  \n430  2023-10-18T03:51:46-05:00  2023-10-17T23:59:59-05:00  0  \n431  2023-10-18T03:51:46-05:00  2023-10-17T23:59:59-05:00  0  \n432  2023-10-18T03:51:46-05:00  2023-10-17T23:59:59-05:00  0  \n433  2023-10-18T03:51:46-05:00  2023-10-17T23:59:59-05:00  0  \n\n[434 rows x 48 columns]",
      "text/html": "<div>\n<style scoped>\n    .dataframe tbody tr th:only-of-type {\n        vertical-align: middle;\n    }\n\n    .dataframe tbody tr th {\n        vertical-align: top;\n    }\n\n    .dataframe thead th {\n        text-align: right;\n    }\n</style>\n<table border=\"1\" class=\"dataframe\">\n  <thead>\n    <tr style=\"text-align: right;\">\n      <th></th>\n      <th>customer_id</th>\n      <th>customer_type</th>\n      <th>created_at</th>\n      <th>first_name</th>\n      <th>preferred_first_name</th>\n      <th>middle_name</th>\n      <th>last_name</th>\n      <th>date_of_birth</th>\n      <th>tax_id_type</th>\n      <th>tax_id_value</th>\n      <th>...</th>\n      <th>mailing_address_country</th>\n      <th>credit_pull_consented</th>\n      <th>credit_pulled_at</th>\n      <th>credit_score</th>\n      <th>credit_report_source</th>\n      <th>credit_report_id</th>\n      <th>credit_bureau_data</th>\n      <th>generated_at</th>\n      <th>effective_at</th>\n      <th>a</th>\n    </tr>\n  </thead>\n  <tbody>\n    <tr>\n      <th>0</th>\n      <td>dmgglIBaRTeE9kNLgZCrmnKXhJK2</td>\n      <td>individual</td>\n      <td>2023-10-17T15:21:41-05:00</td>\n      <td>Kaytlyn</td>\n      <td>NaN</td>\n      <td>NaN</td>\n      <td>Collier</td>\n      <td>NaN</td>\n      <td>ssn</td>\n      <td>645-56-2801</td>\n      <td>...</td>\n      <td>NaN</td>\n      <td>True</td>\n      <td>2023-10-17T15:22:47-05:00</td>\n      <td>672.0</td>\n      <td>transunion</td>\n      <td>NaN</td>\n      <td>NaN</td>\n      <td>2023-10-18T03:51:46-05:00</td>\n      <td>2023-10-17T23:59:59-05:00</td>\n      <td>0</td>\n    </tr>\n    <tr>\n      <th>1</th>\n      <td>mHMQZVmHNbbuIUQoDMoNL1QLHTf1</td>\n      <td>individual</td>\n      <td>2023-10-17T22:34:49-05:00</td>\n      <td>Sandra</td>\n      <td>NaN</td>\n      <td>NaN</td>\n      <td>Flerimond</td>\n      <td>NaN</td>\n      <td>ssn</td>\n      <td>766-66-8996</td>\n      <td>...</td>\n      <td>NaN</td>\n      <td>True</td>\n      <td>2023-10-17T22:36:34-05:00</td>\n      <td>NaN</td>\n      <td>transunion</td>\n      <td>NaN</td>\n      <td>NaN</td>\n      <td>2023-10-18T03:51:46-05:00</td>\n      <td>2023-10-17T23:59:59-05:00</td>\n      <td>0</td>\n    </tr>\n    <tr>\n      <th>2</th>\n      <td>1IMOP5Xy3KOYLZ3MpBzleoIUvWS2</td>\n      <td>individual</td>\n      <td>2022-11-25T09:51:43-05:00</td>\n      <td>Nicole</td>\n      <td>NaN</td>\n      <td>NaN</td>\n      <td>Saunders</td>\n      <td>NaN</td>\n      <td>ssn</td>\n      <td>143-30-6772</td>\n      <td>...</td>\n      <td>NaN</td>\n      <td>True</td>\n      <td>2023-10-17T22:03:05-05:00</td>\n      <td>659.0</td>\n      <td>transunion</td>\n      <td>NaN</td>\n      <td>NaN</td>\n      <td>2023-10-18T03:51:46-05:00</td>\n      <td>2023-10-17T23:59:59-05:00</td>\n      <td>0</td>\n    </tr>\n    <tr>\n      <th>3</th>\n      <td>AGdQPm5ncNNR2f99tMyVo23s0Td2</td>\n      <td>individual</td>\n      <td>2023-01-26T02:44:56-05:00</td>\n      <td>Zach</td>\n      <td>NaN</td>\n      <td>NaN</td>\n      <td>Jones</td>\n      <td>NaN</td>\n      <td>ssn</td>\n      <td>639-96-0590</td>\n      <td>...</td>\n      <td>NaN</td>\n      <td>True</td>\n      <td>2023-10-17T10:11:01-05:00</td>\n      <td>567.0</td>\n      <td>transunion</td>\n      <td>NaN</td>\n      <td>NaN</td>\n      <td>2023-10-18T03:51:46-05:00</td>\n      <td>2023-10-17T23:59:59-05:00</td>\n      <td>0</td>\n    </tr>\n    <tr>\n      <th>4</th>\n      <td>uydClvXoEbM4toSHVgm8ohL21M22</td>\n      <td>individual</td>\n      <td>2023-10-17T15:00:40-05:00</td>\n      <td>Yuriko</td>\n      <td>NaN</td>\n      <td>NaN</td>\n      <td>Sprott</td>\n      <td>NaN</td>\n      <td>ssn</td>\n      <td>125-55-8147</td>\n      <td>...</td>\n      <td>NaN</td>\n      <td>True</td>\n      <td>2023-10-17T15:07:50-05:00</td>\n      <td>NaN</td>\n      <td>transunion</td>\n      <td>NaN</td>\n      <td>NaN</td>\n      <td>2023-10-18T03:51:46-05:00</td>\n      <td>2023-10-17T23:59:59-05:00</td>\n      <td>0</td>\n    </tr>\n    <tr>\n      <th>...</th>\n      <td>...</td>\n      <td>...</td>\n      <td>...</td>\n      <td>...</td>\n      <td>...</td>\n      <td>...</td>\n      <td>...</td>\n      <td>...</td>\n      <td>...</td>\n      <td>...</td>\n      <td>...</td>\n      <td>...</td>\n      <td>...</td>\n      <td>...</td>\n      <td>...</td>\n      <td>...</td>\n      <td>...</td>\n      <td>...</td>\n      <td>...</td>\n      <td>...</td>\n      <td>...</td>\n    </tr>\n    <tr>\n      <th>429</th>\n      <td>Tw01vxPtlrfIS1uWHmzPknfrqEx2</td>\n      <td>individual</td>\n      <td>2023-10-17T20:48:45-05:00</td>\n      <td>Cindy</td>\n      <td>NaN</td>\n      <td>NaN</td>\n      <td>Henderson</td>\n      <td>NaN</td>\n      <td>ssn</td>\n      <td>435-55-1824</td>\n      <td>...</td>\n      <td>NaN</td>\n      <td>True</td>\n      <td>2023-10-17T20:49:28-05:00</td>\n      <td>562.0</td>\n      <td>transunion</td>\n      <td>NaN</td>\n      <td>NaN</td>\n      <td>2023-10-18T03:51:46-05:00</td>\n      <td>2023-10-17T23:59:59-05:00</td>\n      <td>0</td>\n    </tr>\n    <tr>\n      <th>430</th>\n      <td>yB1buSxhHeYl6WGY6eDmQLi0nS53</td>\n      <td>individual</td>\n      <td>2023-10-17T16:42:28-05:00</td>\n      <td>Jada</td>\n      <td>NaN</td>\n      <td>NaN</td>\n      <td>Norton</td>\n      <td>NaN</td>\n      <td>ssn</td>\n      <td>493-31-9330</td>\n      <td>...</td>\n      <td>NaN</td>\n      <td>True</td>\n      <td>2023-10-17T17:17:12-05:00</td>\n      <td>NaN</td>\n      <td>transunion</td>\n      <td>NaN</td>\n      <td>NaN</td>\n      <td>2023-10-18T03:51:46-05:00</td>\n      <td>2023-10-17T23:59:59-05:00</td>\n      <td>0</td>\n    </tr>\n    <tr>\n      <th>431</th>\n      <td>UtDZcVZjGVS1tRZdLq8QM307GIp1</td>\n      <td>individual</td>\n      <td>2023-10-17T05:48:58-05:00</td>\n      <td>dameera</td>\n      <td>NaN</td>\n      <td>NaN</td>\n      <td>van</td>\n      <td>NaN</td>\n      <td>ssn</td>\n      <td>355-59-8018</td>\n      <td>...</td>\n      <td>NaN</td>\n      <td>True</td>\n      <td>2023-10-17T05:57:01-05:00</td>\n      <td>574.0</td>\n      <td>transunion</td>\n      <td>NaN</td>\n      <td>NaN</td>\n      <td>2023-10-18T03:51:46-05:00</td>\n      <td>2023-10-17T23:59:59-05:00</td>\n      <td>0</td>\n    </tr>\n    <tr>\n      <th>432</th>\n      <td>aOoVwcf2AATTqRoFjUXg2BMgzMi2</td>\n      <td>individual</td>\n      <td>2023-10-17T09:27:12-05:00</td>\n      <td>Ingrid</td>\n      <td>NaN</td>\n      <td>NaN</td>\n      <td>Cruz</td>\n      <td>NaN</td>\n      <td>ssn</td>\n      <td>583-33-3694</td>\n      <td>...</td>\n      <td>NaN</td>\n      <td>True</td>\n      <td>2023-10-17T09:38:31-05:00</td>\n      <td>568.0</td>\n      <td>transunion</td>\n      <td>NaN</td>\n      <td>NaN</td>\n      <td>2023-10-18T03:51:46-05:00</td>\n      <td>2023-10-17T23:59:59-05:00</td>\n      <td>0</td>\n    </tr>\n    <tr>\n      <th>433</th>\n      <td>KaIgdf4fHtUiilfc1ZLU7swGdvc2</td>\n      <td>individual</td>\n      <td>2023-10-17T14:59:35-05:00</td>\n      <td>Maximilian</td>\n      <td>NaN</td>\n      <td>NaN</td>\n      <td>Garza</td>\n      <td>NaN</td>\n      <td>ssn</td>\n      <td>463-36-5015</td>\n      <td>...</td>\n      <td>NaN</td>\n      <td>True</td>\n      <td>2023-10-17T15:01:19-05:00</td>\n      <td>NaN</td>\n      <td>transunion</td>\n      <td>NaN</td>\n      <td>NaN</td>\n      <td>2023-10-18T03:51:46-05:00</td>\n      <td>2023-10-17T23:59:59-05:00</td>\n      <td>0</td>\n    </tr>\n  </tbody>\n</table>\n<p>434 rows × 48 columns</p>\n</div>"
     },
     "execution_count": 94,
     "metadata": {},
     "output_type": "execute_result"
    }
   ],
   "source": [
    "dfy[dfy['a'] == 0]"
   ],
   "metadata": {
    "collapsed": false,
    "ExecuteTime": {
     "end_time": "2023-10-18T08:59:35.109629Z",
     "start_time": "2023-10-18T08:59:35.076794Z"
    }
   },
   "id": "41de0da7f935cc26"
  },
  {
   "cell_type": "code",
   "execution_count": null,
   "outputs": [],
   "source": [],
   "metadata": {
    "collapsed": false
   },
   "id": "611a7d545373d777"
  }
 ],
 "metadata": {
  "kernelspec": {
   "display_name": "Python 3",
   "language": "python",
   "name": "python3"
  },
  "language_info": {
   "codemirror_mode": {
    "name": "ipython",
    "version": 2
   },
   "file_extension": ".py",
   "mimetype": "text/x-python",
   "name": "python",
   "nbconvert_exporter": "python",
   "pygments_lexer": "ipython2",
   "version": "2.7.6"
  }
 },
 "nbformat": 4,
 "nbformat_minor": 5
}
